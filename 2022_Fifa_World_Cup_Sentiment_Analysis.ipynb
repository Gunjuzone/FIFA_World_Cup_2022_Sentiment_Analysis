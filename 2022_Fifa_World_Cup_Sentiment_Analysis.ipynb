{
 "cells": [
  {
   "cell_type": "markdown",
   "id": "e16c93ab",
   "metadata": {},
   "source": [
    "# FIFA WORLD CUP 2022 SENTIMENT ANALYSIS"
   ]
  },
  {
   "cell_type": "markdown",
   "id": "7ad010a4",
   "metadata": {},
   "source": [
    "## Introduction\n",
    "This is a twitter sentiment analysis project of the 2022 FIFA WORLD CUP in Qatar. To find out what football fans think about the FIFA World Cup 2022, I'll conduct a Twitter sentiment analysis using some World Cup hashtags. The tweet is taken from diffreent days of the world cup and combined into one master dataset. "
   ]
  },
  {
   "cell_type": "markdown",
   "id": "7130c1c4",
   "metadata": {},
   "source": [
    "## Importing Useful libraries"
   ]
  },
  {
   "cell_type": "code",
   "execution_count": 158,
   "id": "ca2d3926",
   "metadata": {},
   "outputs": [],
   "source": [
    "#Import the useful libraries for project environment\n",
    "import snscrape.modules.twitter as sntwitter\n",
    "import pandas as pd\n",
    "import numpy as np\n",
    "import matplotlib.pyplot as plt\n",
    "import seaborn as sns\n",
    "import os\n",
    "import glob # to return all the CSV files’ list located within the path\n",
    "import time\n",
    "import preprocessor as p # To clean the tweet fro hastags, usernames and emojis\n",
    "import re"
   ]
  },
  {
   "cell_type": "markdown",
   "id": "fcf9ad1f",
   "metadata": {},
   "source": [
    "##  Web Scrapping"
   ]
  },
  {
   "cell_type": "markdown",
   "id": "d4bb75f7",
   "metadata": {},
   "source": [
    "### Code"
   ]
  },
  {
   "cell_type": "code",
   "execution_count": 122,
   "id": "bbab7543",
   "metadata": {},
   "outputs": [],
   "source": [
    "#Scraping relevant tweets using snscrape from twitter\n",
    "\n",
    "query = '((#fifaworldcup2022 OR #fifaworldcup OR #worldcup2022) lang:en until:2022-12-21 since:2022-11-14)'\n",
    "tweets = []\n",
    "limit = 50\n",
    "\n",
    "for tweet in sntwitter.TwitterSearchScraper(query).get_items():\n",
    "    if len(tweets) == limit:\n",
    "        break\n",
    "    else:\n",
    "        tweets.append([tweet.date, tweet.user.username, tweet.user.location, \n",
    "                tweet.rawContent, tweet.retweetCount, tweet.likeCount])\n",
    "\n",
    "#Save the data to a dataframe\n",
    "\n",
    "df = pd.DataFrame(tweets, columns=[\"Date\", \"Username\", \"Locations\", \"Content\", \"Retweets\", \"Favorites\"])\n",
    "\n"
   ]
  },
  {
   "cell_type": "markdown",
   "id": "6810ddc9",
   "metadata": {},
   "source": [
    "### Test"
   ]
  },
  {
   "cell_type": "code",
   "execution_count": 123,
   "id": "9cd4342a",
   "metadata": {},
   "outputs": [
    {
     "data": {
      "text/html": [
       "<div>\n",
       "<style scoped>\n",
       "    .dataframe tbody tr th:only-of-type {\n",
       "        vertical-align: middle;\n",
       "    }\n",
       "\n",
       "    .dataframe tbody tr th {\n",
       "        vertical-align: top;\n",
       "    }\n",
       "\n",
       "    .dataframe thead th {\n",
       "        text-align: right;\n",
       "    }\n",
       "</style>\n",
       "<table border=\"1\" class=\"dataframe\">\n",
       "  <thead>\n",
       "    <tr style=\"text-align: right;\">\n",
       "      <th></th>\n",
       "      <th>Date</th>\n",
       "      <th>Username</th>\n",
       "      <th>Locations</th>\n",
       "      <th>Content</th>\n",
       "      <th>Retweets</th>\n",
       "      <th>Favorites</th>\n",
       "    </tr>\n",
       "  </thead>\n",
       "  <tbody>\n",
       "    <tr>\n",
       "      <th>0</th>\n",
       "      <td>2022-12-20 23:59:08+00:00</td>\n",
       "      <td>knew_channel</td>\n",
       "      <td>Hong Kong</td>\n",
       "      <td>No one to talk or make hype on this such a sha...</td>\n",
       "      <td>0</td>\n",
       "      <td>0</td>\n",
       "    </tr>\n",
       "    <tr>\n",
       "      <th>1</th>\n",
       "      <td>2022-12-20 23:58:15+00:00</td>\n",
       "      <td>christo_comedy</td>\n",
       "      <td>Abia, Nigeria</td>\n",
       "      <td>Shout out verse fake life 😩\\n-\\nBirthday Bless...</td>\n",
       "      <td>0</td>\n",
       "      <td>1</td>\n",
       "    </tr>\n",
       "    <tr>\n",
       "      <th>2</th>\n",
       "      <td>2022-12-20 23:57:55+00:00</td>\n",
       "      <td>beINSPORTSUSA</td>\n",
       "      <td>United States</td>\n",
       "      <td>This is how Leo Messi arrived at his home in R...</td>\n",
       "      <td>29</td>\n",
       "      <td>172</td>\n",
       "    </tr>\n",
       "    <tr>\n",
       "      <th>3</th>\n",
       "      <td>2022-12-20 23:57:51+00:00</td>\n",
       "      <td>StatsDataFacts</td>\n",
       "      <td>London, England</td>\n",
       "      <td>Countries with the most FIFA World Cup titles ...</td>\n",
       "      <td>0</td>\n",
       "      <td>2</td>\n",
       "    </tr>\n",
       "    <tr>\n",
       "      <th>4</th>\n",
       "      <td>2022-12-20 23:57:51+00:00</td>\n",
       "      <td>CharlesTheSwift</td>\n",
       "      <td>New York</td>\n",
       "      <td>Will @KMbappe hairline survive until the next ...</td>\n",
       "      <td>0</td>\n",
       "      <td>0</td>\n",
       "    </tr>\n",
       "  </tbody>\n",
       "</table>\n",
       "</div>"
      ],
      "text/plain": [
       "                       Date         Username        Locations  \\\n",
       "0 2022-12-20 23:59:08+00:00     knew_channel        Hong Kong   \n",
       "1 2022-12-20 23:58:15+00:00   christo_comedy    Abia, Nigeria   \n",
       "2 2022-12-20 23:57:55+00:00    beINSPORTSUSA    United States   \n",
       "3 2022-12-20 23:57:51+00:00   StatsDataFacts  London, England   \n",
       "4 2022-12-20 23:57:51+00:00  CharlesTheSwift         New York   \n",
       "\n",
       "                                             Content  Retweets  Favorites  \n",
       "0  No one to talk or make hype on this such a sha...         0          0  \n",
       "1  Shout out verse fake life 😩\\n-\\nBirthday Bless...         0          1  \n",
       "2  This is how Leo Messi arrived at his home in R...        29        172  \n",
       "3  Countries with the most FIFA World Cup titles ...         0          2  \n",
       "4  Will @KMbappe hairline survive until the next ...         0          0  "
      ]
     },
     "execution_count": 123,
     "metadata": {},
     "output_type": "execute_result"
    }
   ],
   "source": [
    "# Check the dataframe\n",
    "df.head()"
   ]
  },
  {
   "cell_type": "code",
   "execution_count": 76,
   "id": "6079378f",
   "metadata": {},
   "outputs": [],
   "source": [
    "#Save the data to csv file\n",
    "\n",
    "df.to_csv(\"Dec_.csv\", index=False)"
   ]
  },
  {
   "cell_type": "markdown",
   "id": "e9430673",
   "metadata": {},
   "source": [
    "### Define  \n",
    "Merge the csv files into one file"
   ]
  },
  {
   "cell_type": "markdown",
   "id": "b42af545",
   "metadata": {},
   "source": [
    "### Code"
   ]
  },
  {
   "cell_type": "code",
   "execution_count": 128,
   "id": "becae7e8",
   "metadata": {},
   "outputs": [
    {
     "data": {
      "text/plain": [
       "['FIFA_World_Cup_2022.csv',\n",
       " 'FIFA_WORLD_CUP_2022_Dec_10.csv',\n",
       " 'FIFA_WORLD_CUP_2022_Dec_11.csv',\n",
       " 'FIFA_WORLD_CUP_2022_Dec_13_14.csv',\n",
       " 'FIFA_WORLD_CUP_2022_Dec_15_17.csv',\n",
       " 'FIFA_WORLD_CUP_2022_Dec_18.csv',\n",
       " 'FIFA_WORLD_CUP_2022_Dec_19.csv',\n",
       " 'FIFA_WORLD_CUP_2022_Dec_20.csv',\n",
       " 'FIFA_WORLD_CUP_2022_Nov_14-17.csv',\n",
       " 'FIFA_WORLD_CUP_2022_Nov_18-19.csv',\n",
       " 'FIFA_WORLD_CUP_2022_Nov_21_20.csv']"
      ]
     },
     "execution_count": 128,
     "metadata": {},
     "output_type": "execute_result"
    }
   ],
   "source": [
    "### Check the files in the directory\n",
    "os.chdir(r\"C:\\Users\\user\\Documents\\DA Projects\\Python\\FIFA_CSV\")\n",
    "csv_files = glob.glob( '*.csv' )\n",
    "csv_files"
   ]
  },
  {
   "cell_type": "code",
   "execution_count": 129,
   "id": "f90bc34e",
   "metadata": {},
   "outputs": [
    {
     "data": {
      "text/html": [
       "<div>\n",
       "<style scoped>\n",
       "    .dataframe tbody tr th:only-of-type {\n",
       "        vertical-align: middle;\n",
       "    }\n",
       "\n",
       "    .dataframe tbody tr th {\n",
       "        vertical-align: top;\n",
       "    }\n",
       "\n",
       "    .dataframe thead th {\n",
       "        text-align: right;\n",
       "    }\n",
       "</style>\n",
       "<table border=\"1\" class=\"dataframe\">\n",
       "  <thead>\n",
       "    <tr style=\"text-align: right;\">\n",
       "      <th></th>\n",
       "      <th>Date</th>\n",
       "      <th>Username</th>\n",
       "      <th>Locations</th>\n",
       "      <th>Content</th>\n",
       "      <th>Retweets</th>\n",
       "      <th>Favorites</th>\n",
       "    </tr>\n",
       "  </thead>\n",
       "  <tbody>\n",
       "    <tr>\n",
       "      <th>0</th>\n",
       "      <td>2022-12-10 23:59:57+00:00</td>\n",
       "      <td>OSUBlockie</td>\n",
       "      <td>Columbus, OH</td>\n",
       "      <td>I just earned the 'World Pint (2022)' badge on...</td>\n",
       "      <td>0</td>\n",
       "      <td>0</td>\n",
       "    </tr>\n",
       "    <tr>\n",
       "      <th>1</th>\n",
       "      <td>2022-12-10 23:59:54+00:00</td>\n",
       "      <td>standardsport</td>\n",
       "      <td>London, England</td>\n",
       "      <td>France 🆚 Morocco\\n\\n📆 Date\\n⏰ Kick-off time\\n📺...</td>\n",
       "      <td>0</td>\n",
       "      <td>5</td>\n",
       "    </tr>\n",
       "    <tr>\n",
       "      <th>2</th>\n",
       "      <td>2022-12-10 23:59:52+00:00</td>\n",
       "      <td>MpatrioticM</td>\n",
       "      <td>ⵜⴰⴳⵍⴷⵉⵜ ⵏ ⵍⵎⵖⵔⵉⴱ 🇲🇦</td>\n",
       "      <td>Glory to Africa ❤️\\n#FIFAWorldCup2022 https://...</td>\n",
       "      <td>10</td>\n",
       "      <td>70</td>\n",
       "    </tr>\n",
       "    <tr>\n",
       "      <th>3</th>\n",
       "      <td>2022-12-10 23:59:52+00:00</td>\n",
       "      <td>masuma114</td>\n",
       "      <td>London, England</td>\n",
       "      <td>Why do black England players always get so muc...</td>\n",
       "      <td>0</td>\n",
       "      <td>4</td>\n",
       "    </tr>\n",
       "    <tr>\n",
       "      <th>4</th>\n",
       "      <td>2022-12-10 23:59:46+00:00</td>\n",
       "      <td>Mexitly81</td>\n",
       "      <td>California, USA</td>\n",
       "      <td>No surprise, classless organization. I guess i...</td>\n",
       "      <td>0</td>\n",
       "      <td>0</td>\n",
       "    </tr>\n",
       "  </tbody>\n",
       "</table>\n",
       "</div>"
      ],
      "text/plain": [
       "                        Date       Username            Locations  \\\n",
       "0  2022-12-10 23:59:57+00:00     OSUBlockie         Columbus, OH   \n",
       "1  2022-12-10 23:59:54+00:00  standardsport      London, England   \n",
       "2  2022-12-10 23:59:52+00:00    MpatrioticM  ⵜⴰⴳⵍⴷⵉⵜ ⵏ ⵍⵎⵖⵔⵉⴱ 🇲🇦   \n",
       "3  2022-12-10 23:59:52+00:00      masuma114      London, England   \n",
       "4  2022-12-10 23:59:46+00:00      Mexitly81      California, USA   \n",
       "\n",
       "                                             Content  Retweets  Favorites  \n",
       "0  I just earned the 'World Pint (2022)' badge on...         0          0  \n",
       "1  France 🆚 Morocco\\n\\n📆 Date\\n⏰ Kick-off time\\n📺...         0          5  \n",
       "2  Glory to Africa ❤️\\n#FIFAWorldCup2022 https://...        10         70  \n",
       "3  Why do black England players always get so muc...         0          4  \n",
       "4  No surprise, classless organization. I guess i...         0          0  "
      ]
     },
     "execution_count": 129,
     "metadata": {},
     "output_type": "execute_result"
    }
   ],
   "source": [
    "path = r\"C:\\Users\\user\\Documents\\DA Projects\\Python\\FIFA_CSV\"\n",
    "all_csv_files = glob.glob(path + \"/*.csv\")\n",
    "\n",
    "tweets = []\n",
    "\n",
    "# Convert each csv to a dataframe\n",
    "\n",
    "for filename in all_csv_files:\n",
    "    df = pd.read_csv(filename, index_col = None, header = 0) \n",
    "    tweets.append(df)\n",
    "    \n",
    "# Merge all dataframes\n",
    "\n",
    "FIFA_df = pd.concat(tweets, axis=0, ignore_index = True) \n",
    "\n",
    "FIFA_df.head()"
   ]
  },
  {
   "cell_type": "code",
   "execution_count": 49,
   "id": "44085acd",
   "metadata": {},
   "outputs": [],
   "source": [
    "# Save df to one csv file\n",
    "\n",
    "FIFA_df.to_csv(\"FIFA_World_Cup_2022.csv\", index = False)"
   ]
  },
  {
   "cell_type": "code",
   "execution_count": 130,
   "id": "48886171",
   "metadata": {},
   "outputs": [],
   "source": [
    "# Read the csv file into dataframe\n",
    "df = pd.read_csv(\"FIFA_World_Cup_2022.csv\")"
   ]
  },
  {
   "cell_type": "code",
   "execution_count": 131,
   "id": "c67f6ad1",
   "metadata": {},
   "outputs": [
    {
     "data": {
      "text/html": [
       "<div>\n",
       "<style scoped>\n",
       "    .dataframe tbody tr th:only-of-type {\n",
       "        vertical-align: middle;\n",
       "    }\n",
       "\n",
       "    .dataframe tbody tr th {\n",
       "        vertical-align: top;\n",
       "    }\n",
       "\n",
       "    .dataframe thead th {\n",
       "        text-align: right;\n",
       "    }\n",
       "</style>\n",
       "<table border=\"1\" class=\"dataframe\">\n",
       "  <thead>\n",
       "    <tr style=\"text-align: right;\">\n",
       "      <th></th>\n",
       "      <th>Date</th>\n",
       "      <th>Username</th>\n",
       "      <th>Locations</th>\n",
       "      <th>Content</th>\n",
       "      <th>Retweets</th>\n",
       "      <th>Favorites</th>\n",
       "    </tr>\n",
       "  </thead>\n",
       "  <tbody>\n",
       "    <tr>\n",
       "      <th>617018</th>\n",
       "      <td>2022-11-20 15:07:31+00:00</td>\n",
       "      <td>sataekooklang</td>\n",
       "      <td>NaN</td>\n",
       "      <td>Jungkookie! 😭 \\n💜\\n#DreamersJungkook \\n#Dreame...</td>\n",
       "      <td>10</td>\n",
       "      <td>41</td>\n",
       "    </tr>\n",
       "    <tr>\n",
       "      <th>617019</th>\n",
       "      <td>2022-11-20 15:07:31+00:00</td>\n",
       "      <td>Sir_Stevensarp</td>\n",
       "      <td>AngelTown</td>\n",
       "      <td>The tune dey go on though. #FIFAWorldCup</td>\n",
       "      <td>0</td>\n",
       "      <td>1</td>\n",
       "    </tr>\n",
       "    <tr>\n",
       "      <th>617020</th>\n",
       "      <td>2022-11-20 15:07:31+00:00</td>\n",
       "      <td>kassimisola</td>\n",
       "      <td>London, England</td>\n",
       "      <td>I knew the opening ceremony in Qatar will be a...</td>\n",
       "      <td>0</td>\n",
       "      <td>0</td>\n",
       "    </tr>\n",
       "    <tr>\n",
       "      <th>617021</th>\n",
       "      <td>2022-11-20 15:07:31+00:00</td>\n",
       "      <td>btslostacc</td>\n",
       "      <td>♡</td>\n",
       "      <td>Jungkook slayed #WorldCup2022</td>\n",
       "      <td>0</td>\n",
       "      <td>0</td>\n",
       "    </tr>\n",
       "    <tr>\n",
       "      <th>617022</th>\n",
       "      <td>2022-11-20 15:07:30+00:00</td>\n",
       "      <td>natasyaeffriani</td>\n",
       "      <td>Jakarta</td>\n",
       "      <td>not me crying every time i watch a sports fest...</td>\n",
       "      <td>0</td>\n",
       "      <td>0</td>\n",
       "    </tr>\n",
       "  </tbody>\n",
       "</table>\n",
       "</div>"
      ],
      "text/plain": [
       "                             Date         Username        Locations  \\\n",
       "617018  2022-11-20 15:07:31+00:00    sataekooklang              NaN   \n",
       "617019  2022-11-20 15:07:31+00:00   Sir_Stevensarp        AngelTown   \n",
       "617020  2022-11-20 15:07:31+00:00      kassimisola  London, England   \n",
       "617021  2022-11-20 15:07:31+00:00       btslostacc                ♡   \n",
       "617022  2022-11-20 15:07:30+00:00  natasyaeffriani          Jakarta   \n",
       "\n",
       "                                                  Content  Retweets  Favorites  \n",
       "617018  Jungkookie! 😭 \\n💜\\n#DreamersJungkook \\n#Dreame...        10         41  \n",
       "617019           The tune dey go on though. #FIFAWorldCup         0          1  \n",
       "617020  I knew the opening ceremony in Qatar will be a...         0          0  \n",
       "617021                      Jungkook slayed #WorldCup2022         0          0  \n",
       "617022  not me crying every time i watch a sports fest...         0          0  "
      ]
     },
     "execution_count": 131,
     "metadata": {},
     "output_type": "execute_result"
    }
   ],
   "source": [
    "df.tail()"
   ]
  },
  {
   "cell_type": "markdown",
   "id": "34ea2ae3",
   "metadata": {},
   "source": [
    "## Data Cleaning"
   ]
  },
  {
   "cell_type": "markdown",
   "id": "6e4dd26f",
   "metadata": {},
   "source": [
    "### Define \n",
    "Check null values"
   ]
  },
  {
   "cell_type": "markdown",
   "id": "c9412459",
   "metadata": {},
   "source": [
    "### Code"
   ]
  },
  {
   "cell_type": "code",
   "execution_count": 52,
   "id": "5b34a67e",
   "metadata": {},
   "outputs": [
    {
     "data": {
      "text/plain": [
       "Date              0\n",
       "Username          2\n",
       "Locations    176454\n",
       "Content           0\n",
       "Retweets          0\n",
       "Favorites         0\n",
       "dtype: int64"
      ]
     },
     "execution_count": 52,
     "metadata": {},
     "output_type": "execute_result"
    }
   ],
   "source": [
    "#Check null values\n",
    "df.isnull().sum()"
   ]
  },
  {
   "cell_type": "markdown",
   "id": "d9139875",
   "metadata": {},
   "source": [
    "###### The null location is understandable given that not every Twitter user tweets from their location, but I will look into the null value in the username further."
   ]
  },
  {
   "cell_type": "code",
   "execution_count": 53,
   "id": "639c67a8",
   "metadata": {},
   "outputs": [
    {
     "data": {
      "text/html": [
       "<div>\n",
       "<style scoped>\n",
       "    .dataframe tbody tr th:only-of-type {\n",
       "        vertical-align: middle;\n",
       "    }\n",
       "\n",
       "    .dataframe tbody tr th {\n",
       "        vertical-align: top;\n",
       "    }\n",
       "\n",
       "    .dataframe thead th {\n",
       "        text-align: right;\n",
       "    }\n",
       "</style>\n",
       "<table border=\"1\" class=\"dataframe\">\n",
       "  <thead>\n",
       "    <tr style=\"text-align: right;\">\n",
       "      <th></th>\n",
       "      <th>Date</th>\n",
       "      <th>Username</th>\n",
       "      <th>Locations</th>\n",
       "      <th>Content</th>\n",
       "      <th>Retweets</th>\n",
       "      <th>Favorites</th>\n",
       "    </tr>\n",
       "  </thead>\n",
       "  <tbody>\n",
       "    <tr>\n",
       "      <th>452511</th>\n",
       "      <td>2022-11-15 00:22:14+00:00</td>\n",
       "      <td>NaN</td>\n",
       "      <td>San Antonio, TX</td>\n",
       "      <td>Shirts ordered for #WorldCup2022 https://t.co/...</td>\n",
       "      <td>0</td>\n",
       "      <td>3</td>\n",
       "    </tr>\n",
       "    <tr>\n",
       "      <th>528135</th>\n",
       "      <td>2022-11-20 19:06:54+00:00</td>\n",
       "      <td>NaN</td>\n",
       "      <td>San Antonio, TX</td>\n",
       "      <td>On the road to Doha starting at @SATairport #F...</td>\n",
       "      <td>0</td>\n",
       "      <td>11</td>\n",
       "    </tr>\n",
       "  </tbody>\n",
       "</table>\n",
       "</div>"
      ],
      "text/plain": [
       "                             Date Username        Locations  \\\n",
       "452511  2022-11-15 00:22:14+00:00      NaN  San Antonio, TX   \n",
       "528135  2022-11-20 19:06:54+00:00      NaN  San Antonio, TX   \n",
       "\n",
       "                                                  Content  Retweets  Favorites  \n",
       "452511  Shirts ordered for #WorldCup2022 https://t.co/...         0          3  \n",
       "528135  On the road to Doha starting at @SATairport #F...         0         11  "
      ]
     },
     "execution_count": 53,
     "metadata": {},
     "output_type": "execute_result"
    }
   ],
   "source": [
    "df[df['Username'].isnull()]"
   ]
  },
  {
   "cell_type": "markdown",
   "id": "8c544b90",
   "metadata": {},
   "source": [
    "### Test"
   ]
  },
  {
   "cell_type": "code",
   "execution_count": 54,
   "id": "ce8e2b3c",
   "metadata": {},
   "outputs": [
    {
     "data": {
      "text/plain": [
       "Date              0\n",
       "Username          0\n",
       "Locations    176454\n",
       "Content           0\n",
       "Retweets          0\n",
       "Favorites         0\n",
       "dtype: int64"
      ]
     },
     "execution_count": 54,
     "metadata": {},
     "output_type": "execute_result"
    }
   ],
   "source": [
    "# Drop the null values in the USername column\n",
    "\n",
    "df.dropna(subset=['Username'], inplace=True)\n",
    "\n",
    "#Check again\n",
    "df.isnull().sum()"
   ]
  },
  {
   "cell_type": "code",
   "execution_count": 59,
   "id": "8d1385ab",
   "metadata": {},
   "outputs": [],
   "source": [
    "# Replace \"NaN\" values in the location with \"Unknown\"\n",
    "df[\"Locations\"].fillna(\"Unknown\", inplace = True)"
   ]
  },
  {
   "cell_type": "code",
   "execution_count": 60,
   "id": "90aace87",
   "metadata": {},
   "outputs": [
    {
     "data": {
      "text/plain": [
       "Date         0\n",
       "Username     0\n",
       "Locations    0\n",
       "Content      0\n",
       "Retweets     0\n",
       "Favorites    0\n",
       "dtype: int64"
      ]
     },
     "execution_count": 60,
     "metadata": {},
     "output_type": "execute_result"
    }
   ],
   "source": [
    "#Check again\n",
    "df.isnull().sum()"
   ]
  },
  {
   "cell_type": "markdown",
   "id": "0f26c036",
   "metadata": {},
   "source": [
    "### Define \n",
    "Check for duplicates"
   ]
  },
  {
   "cell_type": "markdown",
   "id": "8d362380",
   "metadata": {},
   "source": [
    "### Code"
   ]
  },
  {
   "cell_type": "code",
   "execution_count": 61,
   "id": "c53d5d61",
   "metadata": {},
   "outputs": [
    {
     "data": {
      "text/plain": [
       "15"
      ]
     },
     "execution_count": 61,
     "metadata": {},
     "output_type": "execute_result"
    }
   ],
   "source": [
    "# Check for duolicates\n",
    "df.duplicated().sum()"
   ]
  },
  {
   "cell_type": "code",
   "execution_count": 88,
   "id": "54ef32cf",
   "metadata": {},
   "outputs": [],
   "source": [
    "# Drop the duplicate rows\n",
    "df.drop_duplicates(subset=None, keep=\"first\", inplace=True)"
   ]
  },
  {
   "cell_type": "markdown",
   "id": "1caa4b0a",
   "metadata": {},
   "source": [
    "### Test"
   ]
  },
  {
   "cell_type": "code",
   "execution_count": 107,
   "id": "3a71b7d9",
   "metadata": {},
   "outputs": [
    {
     "data": {
      "text/plain": [
       "0"
      ]
     },
     "execution_count": 107,
     "metadata": {},
     "output_type": "execute_result"
    }
   ],
   "source": [
    "#Check again for duplicates\n",
    "df.duplicated().sum()"
   ]
  },
  {
   "cell_type": "code",
   "execution_count": 19,
   "id": "3f77d991",
   "metadata": {},
   "outputs": [
    {
     "data": {
      "text/html": [
       "<div>\n",
       "<style scoped>\n",
       "    .dataframe tbody tr th:only-of-type {\n",
       "        vertical-align: middle;\n",
       "    }\n",
       "\n",
       "    .dataframe tbody tr th {\n",
       "        vertical-align: top;\n",
       "    }\n",
       "\n",
       "    .dataframe thead th {\n",
       "        text-align: right;\n",
       "    }\n",
       "</style>\n",
       "<table border=\"1\" class=\"dataframe\">\n",
       "  <thead>\n",
       "    <tr style=\"text-align: right;\">\n",
       "      <th></th>\n",
       "      <th>Retweets</th>\n",
       "      <th>Favorites</th>\n",
       "    </tr>\n",
       "  </thead>\n",
       "  <tbody>\n",
       "    <tr>\n",
       "      <th>count</th>\n",
       "      <td>1.0</td>\n",
       "      <td>1.0</td>\n",
       "    </tr>\n",
       "    <tr>\n",
       "      <th>mean</th>\n",
       "      <td>0.0</td>\n",
       "      <td>0.0</td>\n",
       "    </tr>\n",
       "    <tr>\n",
       "      <th>std</th>\n",
       "      <td>NaN</td>\n",
       "      <td>NaN</td>\n",
       "    </tr>\n",
       "    <tr>\n",
       "      <th>min</th>\n",
       "      <td>0.0</td>\n",
       "      <td>0.0</td>\n",
       "    </tr>\n",
       "    <tr>\n",
       "      <th>25%</th>\n",
       "      <td>0.0</td>\n",
       "      <td>0.0</td>\n",
       "    </tr>\n",
       "    <tr>\n",
       "      <th>50%</th>\n",
       "      <td>0.0</td>\n",
       "      <td>0.0</td>\n",
       "    </tr>\n",
       "    <tr>\n",
       "      <th>75%</th>\n",
       "      <td>0.0</td>\n",
       "      <td>0.0</td>\n",
       "    </tr>\n",
       "    <tr>\n",
       "      <th>max</th>\n",
       "      <td>0.0</td>\n",
       "      <td>0.0</td>\n",
       "    </tr>\n",
       "  </tbody>\n",
       "</table>\n",
       "</div>"
      ],
      "text/plain": [
       "       Retweets  Favorites\n",
       "count       1.0        1.0\n",
       "mean        0.0        0.0\n",
       "std         NaN        NaN\n",
       "min         0.0        0.0\n",
       "25%         0.0        0.0\n",
       "50%         0.0        0.0\n",
       "75%         0.0        0.0\n",
       "max         0.0        0.0"
      ]
     },
     "execution_count": 19,
     "metadata": {},
     "output_type": "execute_result"
    }
   ],
   "source": [
    "#Check the description of the dataset\n",
    "df.describe()"
   ]
  },
  {
   "cell_type": "code",
   "execution_count": 18,
   "id": "61d812e7",
   "metadata": {},
   "outputs": [
    {
     "name": "stdout",
     "output_type": "stream",
     "text": [
      "<class 'pandas.core.frame.DataFrame'>\n",
      "RangeIndex: 1 entries, 0 to 0\n",
      "Data columns (total 6 columns):\n",
      " #   Column     Non-Null Count  Dtype              \n",
      "---  ------     --------------  -----              \n",
      " 0   Date       1 non-null      datetime64[ns, UTC]\n",
      " 1   Username   1 non-null      object             \n",
      " 2   Locations  1 non-null      object             \n",
      " 3   Content    1 non-null      object             \n",
      " 4   Retweets   1 non-null      int64              \n",
      " 5   Favorites  1 non-null      int64              \n",
      "dtypes: datetime64[ns, UTC](1), int64(2), object(3)\n",
      "memory usage: 176.0+ bytes\n"
     ]
    }
   ],
   "source": [
    "# Check the dataset info\n",
    "df.info()"
   ]
  },
  {
   "cell_type": "markdown",
   "id": "1daa080c",
   "metadata": {},
   "source": [
    "### Define \n",
    "Convert date column to the correct data type"
   ]
  },
  {
   "cell_type": "markdown",
   "id": "7b152064",
   "metadata": {},
   "source": [
    "### Code"
   ]
  },
  {
   "cell_type": "code",
   "execution_count": 63,
   "id": "b0ec4b63",
   "metadata": {},
   "outputs": [],
   "source": [
    "# Convert the date column to datetime type\n",
    "\n",
    "df['Date'] = df['Date'].apply(pd.to_datetime)"
   ]
  },
  {
   "cell_type": "markdown",
   "id": "81e942cb",
   "metadata": {},
   "source": [
    "### Test"
   ]
  },
  {
   "cell_type": "code",
   "execution_count": 65,
   "id": "b0ca2e9c",
   "metadata": {},
   "outputs": [
    {
     "data": {
      "text/plain": [
       "datetime64[ns, UTC]"
      ]
     },
     "execution_count": 65,
     "metadata": {},
     "output_type": "execute_result"
    }
   ],
   "source": [
    "# Check the dataset\n",
    "df['Date'].dtypes"
   ]
  },
  {
   "cell_type": "markdown",
   "id": "5b8b1ff0",
   "metadata": {},
   "source": [
    "### Define\n",
    "I will use Preprocessor library to clean the tweet column and remove - URLs, Hashtags, Mentions, Reserved words (RT, FAV),Emojis and Smileys"
   ]
  },
  {
   "cell_type": "code",
   "execution_count": 161,
   "id": "fef17367",
   "metadata": {},
   "outputs": [],
   "source": [
    "# Calling a function to clean the tweet\n",
    "def preprocess_tweet(df):\n",
    "    text = df['Content']\n",
    "    text = p.clean(text)\n",
    "    return text\n",
    "df['clean_tweet'] = df.apply(preprocess_tweet, axis=1)"
   ]
  },
  {
   "cell_type": "markdown",
   "id": "17c7b079",
   "metadata": {},
   "source": [
    "### Test"
   ]
  },
  {
   "cell_type": "code",
   "execution_count": 162,
   "id": "be6a684e",
   "metadata": {},
   "outputs": [
    {
     "data": {
      "text/html": [
       "<div>\n",
       "<style scoped>\n",
       "    .dataframe tbody tr th:only-of-type {\n",
       "        vertical-align: middle;\n",
       "    }\n",
       "\n",
       "    .dataframe tbody tr th {\n",
       "        vertical-align: top;\n",
       "    }\n",
       "\n",
       "    .dataframe thead th {\n",
       "        text-align: right;\n",
       "    }\n",
       "</style>\n",
       "<table border=\"1\" class=\"dataframe\">\n",
       "  <thead>\n",
       "    <tr style=\"text-align: right;\">\n",
       "      <th></th>\n",
       "      <th>Date</th>\n",
       "      <th>Username</th>\n",
       "      <th>Locations</th>\n",
       "      <th>Content</th>\n",
       "      <th>Retweets</th>\n",
       "      <th>Favorites</th>\n",
       "      <th>clean_tweet</th>\n",
       "      <th>hashtag</th>\n",
       "    </tr>\n",
       "  </thead>\n",
       "  <tbody>\n",
       "    <tr>\n",
       "      <th>0</th>\n",
       "      <td>2022-12-10 23:59:57+00:00</td>\n",
       "      <td>OSUBlockie</td>\n",
       "      <td>Columbus, OH</td>\n",
       "      <td>I just earned the 'World Pint (2022)' badge on @untappd! https://t.co/dBY4K1qkbk #football #fifaworldcup #worldcup</td>\n",
       "      <td>0</td>\n",
       "      <td>0</td>\n",
       "      <td>I just earned the 'World Pint (2022)' badge on !</td>\n",
       "      <td>[football, fifaworldcup, worldcup]</td>\n",
       "    </tr>\n",
       "    <tr>\n",
       "      <th>1</th>\n",
       "      <td>2022-12-10 23:59:54+00:00</td>\n",
       "      <td>standardsport</td>\n",
       "      <td>London, England</td>\n",
       "      <td>France 🆚 Morocco\\n\\n📆 Date\\n⏰ Kick-off time\\n📺 How to watch\\n🤕 Team news\\n❓Prediction\\n💰 Early odds\\n\\n#FIFAWorldCup semi-final preview\\n\\n#FRA #MAR\\n\\n https://t.co/vOYAPqcMSF</td>\n",
       "      <td>0</td>\n",
       "      <td>5</td>\n",
       "      <td>France Morocco Date Kick-off time How to watch Team newsPrediction Early odds semi-final preview</td>\n",
       "      <td>[FIFAWorldCup, FRA, MAR]</td>\n",
       "    </tr>\n",
       "    <tr>\n",
       "      <th>2</th>\n",
       "      <td>2022-12-10 23:59:52+00:00</td>\n",
       "      <td>MpatrioticM</td>\n",
       "      <td>ⵜⴰⴳⵍⴷⵉⵜ ⵏ ⵍⵎⵖⵔⵉⴱ 🇲🇦</td>\n",
       "      <td>Glory to Africa ❤️\\n#FIFAWorldCup2022 https://t.co/3zMNgHvLBe</td>\n",
       "      <td>10</td>\n",
       "      <td>70</td>\n",
       "      <td>Glory to Africa</td>\n",
       "      <td>[FIFAWorldCup2022]</td>\n",
       "    </tr>\n",
       "    <tr>\n",
       "      <th>3</th>\n",
       "      <td>2022-12-10 23:59:52+00:00</td>\n",
       "      <td>masuma114</td>\n",
       "      <td>London, England</td>\n",
       "      <td>Why do black England players always get so much hate after a match when there are other players who missed penalties too? They carry the team and got them this far, stop the racism because if they weren’t in the team your team wouldn’t even get this far.\\n#WorldCup2022 #England</td>\n",
       "      <td>0</td>\n",
       "      <td>4</td>\n",
       "      <td>Why do black England players always get so much hate after a match when there are other players who missed penalties too? They carry the team and got them this far, stop the racism because if they werent in the team your team wouldnt even get this far.</td>\n",
       "      <td>[WorldCup2022, England]</td>\n",
       "    </tr>\n",
       "    <tr>\n",
       "      <th>4</th>\n",
       "      <td>2022-12-10 23:59:46+00:00</td>\n",
       "      <td>Mexitly81</td>\n",
       "      <td>California, USA</td>\n",
       "      <td>No surprise, classless organization. I guess it won’t matter when @KMbappe wins the golden boot and France 🇫🇷 wins the #WorldCup2022</td>\n",
       "      <td>0</td>\n",
       "      <td>0</td>\n",
       "      <td>No surprise, classless organization. I guess it wont matter when wins the golden boot and France wins the</td>\n",
       "      <td>[WorldCup2022]</td>\n",
       "    </tr>\n",
       "  </tbody>\n",
       "</table>\n",
       "</div>"
      ],
      "text/plain": [
       "                        Date       Username            Locations  \\\n",
       "0  2022-12-10 23:59:57+00:00     OSUBlockie         Columbus, OH   \n",
       "1  2022-12-10 23:59:54+00:00  standardsport      London, England   \n",
       "2  2022-12-10 23:59:52+00:00    MpatrioticM  ⵜⴰⴳⵍⴷⵉⵜ ⵏ ⵍⵎⵖⵔⵉⴱ 🇲🇦   \n",
       "3  2022-12-10 23:59:52+00:00      masuma114      London, England   \n",
       "4  2022-12-10 23:59:46+00:00      Mexitly81      California, USA   \n",
       "\n",
       "                                                                                                                                                                                                                                                                                  Content  \\\n",
       "0                                                                                                                                                                      I just earned the 'World Pint (2022)' badge on @untappd! https://t.co/dBY4K1qkbk #football #fifaworldcup #worldcup   \n",
       "1                                                                                                        France 🆚 Morocco\\n\\n📆 Date\\n⏰ Kick-off time\\n📺 How to watch\\n🤕 Team news\\n❓Prediction\\n💰 Early odds\\n\\n#FIFAWorldCup semi-final preview\\n\\n#FRA #MAR\\n\\n https://t.co/vOYAPqcMSF   \n",
       "2                                                                                                                                                                                                                           Glory to Africa ❤️\\n#FIFAWorldCup2022 https://t.co/3zMNgHvLBe   \n",
       "3  Why do black England players always get so much hate after a match when there are other players who missed penalties too? They carry the team and got them this far, stop the racism because if they weren’t in the team your team wouldn’t even get this far.\\n#WorldCup2022 #England   \n",
       "4                                                                                                                                                    No surprise, classless organization. I guess it won’t matter when @KMbappe wins the golden boot and France 🇫🇷 wins the #WorldCup2022   \n",
       "\n",
       "   Retweets  Favorites  \\\n",
       "0         0          0   \n",
       "1         0          5   \n",
       "2        10         70   \n",
       "3         0          4   \n",
       "4         0          0   \n",
       "\n",
       "                                                                                                                                                                                                                                                    clean_tweet  \\\n",
       "0                                                                                                                                                                                                              I just earned the 'World Pint (2022)' badge on !   \n",
       "1                                                                                                                                                              France Morocco Date Kick-off time How to watch Team newsPrediction Early odds semi-final preview   \n",
       "2                                                                                                                                                                                                                                               Glory to Africa   \n",
       "3  Why do black England players always get so much hate after a match when there are other players who missed penalties too? They carry the team and got them this far, stop the racism because if they werent in the team your team wouldnt even get this far.   \n",
       "4                                                                                                                                                     No surprise, classless organization. I guess it wont matter when wins the golden boot and France wins the   \n",
       "\n",
       "                              hashtag  \n",
       "0  [football, fifaworldcup, worldcup]  \n",
       "1            [FIFAWorldCup, FRA, MAR]  \n",
       "2                  [FIFAWorldCup2022]  \n",
       "3             [WorldCup2022, England]  \n",
       "4                      [WorldCup2022]  "
      ]
     },
     "execution_count": 162,
     "metadata": {},
     "output_type": "execute_result"
    }
   ],
   "source": [
    "df.head()"
   ]
  },
  {
   "cell_type": "code",
   "execution_count": 159,
   "id": "261614d9",
   "metadata": {},
   "outputs": [],
   "source": [
    "df['hashtag'] = df['Content'].apply(lambda x: re.findall(r'#(\\w+)', x))"
   ]
  },
  {
   "cell_type": "code",
   "execution_count": 179,
   "id": "525d5702",
   "metadata": {},
   "outputs": [
    {
     "data": {
      "text/html": [
       "<div>\n",
       "<style scoped>\n",
       "    .dataframe tbody tr th:only-of-type {\n",
       "        vertical-align: middle;\n",
       "    }\n",
       "\n",
       "    .dataframe tbody tr th {\n",
       "        vertical-align: top;\n",
       "    }\n",
       "\n",
       "    .dataframe thead th {\n",
       "        text-align: right;\n",
       "    }\n",
       "</style>\n",
       "<table border=\"1\" class=\"dataframe\">\n",
       "  <thead>\n",
       "    <tr style=\"text-align: right;\">\n",
       "      <th></th>\n",
       "      <th>Date</th>\n",
       "      <th>Username</th>\n",
       "      <th>Locations</th>\n",
       "      <th>Content</th>\n",
       "      <th>Retweets</th>\n",
       "      <th>Favorites</th>\n",
       "      <th>clean_tweet</th>\n",
       "      <th>hashtag</th>\n",
       "    </tr>\n",
       "  </thead>\n",
       "  <tbody>\n",
       "    <tr>\n",
       "      <th>0</th>\n",
       "      <td>2022-12-10 23:59:57+00:00</td>\n",
       "      <td>OSUBlockie</td>\n",
       "      <td>Columbus, OH</td>\n",
       "      <td>I just earned the 'World Pint (2022)' badge on @untappd! https://t.co/dBY4K1qkbk #football #fifaworldcup #worldcup</td>\n",
       "      <td>0</td>\n",
       "      <td>0</td>\n",
       "      <td>I just earned the 'World Pint (2022)' badge on !</td>\n",
       "      <td>[football, fifaworldcup, worldcup]</td>\n",
       "    </tr>\n",
       "    <tr>\n",
       "      <th>1</th>\n",
       "      <td>2022-12-10 23:59:54+00:00</td>\n",
       "      <td>standardsport</td>\n",
       "      <td>London, England</td>\n",
       "      <td>France 🆚 Morocco\\n\\n📆 Date\\n⏰ Kick-off time\\n📺 How to watch\\n🤕 Team news\\n❓Prediction\\n💰 Early odds\\n\\n#FIFAWorldCup semi-final preview\\n\\n#FRA #MAR\\n\\n https://t.co/vOYAPqcMSF</td>\n",
       "      <td>0</td>\n",
       "      <td>5</td>\n",
       "      <td>France Morocco Date Kick-off time How to watch Team newsPrediction Early odds semi-final preview</td>\n",
       "      <td>[FIFAWorldCup, FRA, MAR]</td>\n",
       "    </tr>\n",
       "    <tr>\n",
       "      <th>2</th>\n",
       "      <td>2022-12-10 23:59:52+00:00</td>\n",
       "      <td>MpatrioticM</td>\n",
       "      <td>ⵜⴰⴳⵍⴷⵉⵜ ⵏ ⵍⵎⵖⵔⵉⴱ 🇲🇦</td>\n",
       "      <td>Glory to Africa ❤️\\n#FIFAWorldCup2022 https://t.co/3zMNgHvLBe</td>\n",
       "      <td>10</td>\n",
       "      <td>70</td>\n",
       "      <td>Glory to Africa</td>\n",
       "      <td>[FIFAWorldCup2022]</td>\n",
       "    </tr>\n",
       "    <tr>\n",
       "      <th>3</th>\n",
       "      <td>2022-12-10 23:59:52+00:00</td>\n",
       "      <td>masuma114</td>\n",
       "      <td>London, England</td>\n",
       "      <td>Why do black England players always get so much hate after a match when there are other players who missed penalties too? They carry the team and got them this far, stop the racism because if they weren’t in the team your team wouldn’t even get this far.\\n#WorldCup2022 #England</td>\n",
       "      <td>0</td>\n",
       "      <td>4</td>\n",
       "      <td>Why do black England players always get so much hate after a match when there are other players who missed penalties too? They carry the team and got them this far, stop the racism because if they werent in the team your team wouldnt even get this far.</td>\n",
       "      <td>[WorldCup2022, England]</td>\n",
       "    </tr>\n",
       "    <tr>\n",
       "      <th>4</th>\n",
       "      <td>2022-12-10 23:59:46+00:00</td>\n",
       "      <td>Mexitly81</td>\n",
       "      <td>California, USA</td>\n",
       "      <td>No surprise, classless organization. I guess it won’t matter when @KMbappe wins the golden boot and France 🇫🇷 wins the #WorldCup2022</td>\n",
       "      <td>0</td>\n",
       "      <td>0</td>\n",
       "      <td>No surprise, classless organization. I guess it wont matter when wins the golden boot and France wins the</td>\n",
       "      <td>[WorldCup2022]</td>\n",
       "    </tr>\n",
       "  </tbody>\n",
       "</table>\n",
       "</div>"
      ],
      "text/plain": [
       "                        Date       Username            Locations  \\\n",
       "0  2022-12-10 23:59:57+00:00     OSUBlockie         Columbus, OH   \n",
       "1  2022-12-10 23:59:54+00:00  standardsport      London, England   \n",
       "2  2022-12-10 23:59:52+00:00    MpatrioticM  ⵜⴰⴳⵍⴷⵉⵜ ⵏ ⵍⵎⵖⵔⵉⴱ 🇲🇦   \n",
       "3  2022-12-10 23:59:52+00:00      masuma114      London, England   \n",
       "4  2022-12-10 23:59:46+00:00      Mexitly81      California, USA   \n",
       "\n",
       "                                                                                                                                                                                                                                                                                  Content  \\\n",
       "0                                                                                                                                                                      I just earned the 'World Pint (2022)' badge on @untappd! https://t.co/dBY4K1qkbk #football #fifaworldcup #worldcup   \n",
       "1                                                                                                        France 🆚 Morocco\\n\\n📆 Date\\n⏰ Kick-off time\\n📺 How to watch\\n🤕 Team news\\n❓Prediction\\n💰 Early odds\\n\\n#FIFAWorldCup semi-final preview\\n\\n#FRA #MAR\\n\\n https://t.co/vOYAPqcMSF   \n",
       "2                                                                                                                                                                                                                           Glory to Africa ❤️\\n#FIFAWorldCup2022 https://t.co/3zMNgHvLBe   \n",
       "3  Why do black England players always get so much hate after a match when there are other players who missed penalties too? They carry the team and got them this far, stop the racism because if they weren’t in the team your team wouldn’t even get this far.\\n#WorldCup2022 #England   \n",
       "4                                                                                                                                                    No surprise, classless organization. I guess it won’t matter when @KMbappe wins the golden boot and France 🇫🇷 wins the #WorldCup2022   \n",
       "\n",
       "   Retweets  Favorites  \\\n",
       "0         0          0   \n",
       "1         0          5   \n",
       "2        10         70   \n",
       "3         0          4   \n",
       "4         0          0   \n",
       "\n",
       "                                                                                                                                                                                                                                                    clean_tweet  \\\n",
       "0                                                                                                                                                                                                              I just earned the 'World Pint (2022)' badge on !   \n",
       "1                                                                                                                                                              France Morocco Date Kick-off time How to watch Team newsPrediction Early odds semi-final preview   \n",
       "2                                                                                                                                                                                                                                               Glory to Africa   \n",
       "3  Why do black England players always get so much hate after a match when there are other players who missed penalties too? They carry the team and got them this far, stop the racism because if they werent in the team your team wouldnt even get this far.   \n",
       "4                                                                                                                                                     No surprise, classless organization. I guess it wont matter when wins the golden boot and France wins the   \n",
       "\n",
       "                              hashtag  \n",
       "0  [football, fifaworldcup, worldcup]  \n",
       "1            [FIFAWorldCup, FRA, MAR]  \n",
       "2                  [FIFAWorldCup2022]  \n",
       "3             [WorldCup2022, England]  \n",
       "4                      [WorldCup2022]  "
      ]
     },
     "execution_count": 179,
     "metadata": {},
     "output_type": "execute_result"
    }
   ],
   "source": [
    "df.head()"
   ]
  },
  {
   "cell_type": "markdown",
   "id": "ab913762",
   "metadata": {},
   "source": [
    "# Need to remove punctuation, number and convert to lower case"
   ]
  },
  {
   "cell_type": "code",
   "execution_count": 66,
   "id": "7f197623",
   "metadata": {},
   "outputs": [],
   "source": [
    "# Save cleaned dataframe\n",
    "df.to_pickle(\"cleaned.csv\")"
   ]
  },
  {
   "cell_type": "code",
   "execution_count": 67,
   "id": "d1bf2f2f",
   "metadata": {},
   "outputs": [],
   "source": [
    "# Load\n",
    "df1 = pd.read_pickle(\"cleaned.csv\")"
   ]
  },
  {
   "cell_type": "code",
   "execution_count": 68,
   "id": "ed4c52f3",
   "metadata": {},
   "outputs": [
    {
     "name": "stdout",
     "output_type": "stream",
     "text": [
      "<class 'pandas.core.frame.DataFrame'>\n",
      "Int64Index: 617021 entries, 0 to 617022\n",
      "Data columns (total 6 columns):\n",
      " #   Column     Non-Null Count   Dtype              \n",
      "---  ------     --------------   -----              \n",
      " 0   Date       617021 non-null  datetime64[ns, UTC]\n",
      " 1   Username   617021 non-null  object             \n",
      " 2   Locations  617021 non-null  object             \n",
      " 3   Content    617021 non-null  object             \n",
      " 4   Retweets   617021 non-null  int64              \n",
      " 5   Favorites  617021 non-null  int64              \n",
      "dtypes: datetime64[ns, UTC](1), int64(2), object(3)\n",
      "memory usage: 33.0+ MB\n"
     ]
    }
   ],
   "source": [
    "# Check\n",
    "df1.info()"
   ]
  },
  {
   "cell_type": "code",
   "execution_count": 127,
   "id": "059a954b",
   "metadata": {},
   "outputs": [
    {
     "data": {
      "text/html": [
       "<div>\n",
       "<style scoped>\n",
       "    .dataframe tbody tr th:only-of-type {\n",
       "        vertical-align: middle;\n",
       "    }\n",
       "\n",
       "    .dataframe tbody tr th {\n",
       "        vertical-align: top;\n",
       "    }\n",
       "\n",
       "    .dataframe thead th {\n",
       "        text-align: right;\n",
       "    }\n",
       "</style>\n",
       "<table border=\"1\" class=\"dataframe\">\n",
       "  <thead>\n",
       "    <tr style=\"text-align: right;\">\n",
       "      <th></th>\n",
       "      <th>Retweets</th>\n",
       "      <th>Favorites</th>\n",
       "    </tr>\n",
       "  </thead>\n",
       "  <tbody>\n",
       "    <tr>\n",
       "      <th>count</th>\n",
       "      <td>617021.000000</td>\n",
       "      <td>617021.000000</td>\n",
       "    </tr>\n",
       "    <tr>\n",
       "      <th>mean</th>\n",
       "      <td>5.651132</td>\n",
       "      <td>33.051010</td>\n",
       "    </tr>\n",
       "    <tr>\n",
       "      <th>std</th>\n",
       "      <td>457.314753</td>\n",
       "      <td>1481.927339</td>\n",
       "    </tr>\n",
       "    <tr>\n",
       "      <th>min</th>\n",
       "      <td>0.000000</td>\n",
       "      <td>0.000000</td>\n",
       "    </tr>\n",
       "    <tr>\n",
       "      <th>25%</th>\n",
       "      <td>0.000000</td>\n",
       "      <td>0.000000</td>\n",
       "    </tr>\n",
       "    <tr>\n",
       "      <th>50%</th>\n",
       "      <td>0.000000</td>\n",
       "      <td>1.000000</td>\n",
       "    </tr>\n",
       "    <tr>\n",
       "      <th>75%</th>\n",
       "      <td>0.000000</td>\n",
       "      <td>2.000000</td>\n",
       "    </tr>\n",
       "    <tr>\n",
       "      <th>max</th>\n",
       "      <td>296698.000000</td>\n",
       "      <td>793393.000000</td>\n",
       "    </tr>\n",
       "  </tbody>\n",
       "</table>\n",
       "</div>"
      ],
      "text/plain": [
       "            Retweets      Favorites\n",
       "count  617021.000000  617021.000000\n",
       "mean        5.651132      33.051010\n",
       "std       457.314753    1481.927339\n",
       "min         0.000000       0.000000\n",
       "25%         0.000000       0.000000\n",
       "50%         0.000000       1.000000\n",
       "75%         0.000000       2.000000\n",
       "max    296698.000000  793393.000000"
      ]
     },
     "execution_count": 127,
     "metadata": {},
     "output_type": "execute_result"
    }
   ],
   "source": [
    "df1.describe()"
   ]
  },
  {
   "cell_type": "code",
   "execution_count": 126,
   "id": "2d86466e",
   "metadata": {},
   "outputs": [
    {
     "data": {
      "text/plain": [
       "array(['Columbus, OH', 'London, England', 'ⵜⴰⴳⵍⴷⵉⵜ ⵏ ⵍⵎⵖⵔⵉⴱ 🇲🇦', ...,\n",
       "       '🇰🇪🇮🇪', 'Come into my world', 'Hucknall, Nottinghamshire'],\n",
       "      dtype=object)"
      ]
     },
     "execution_count": 126,
     "metadata": {},
     "output_type": "execute_result"
    }
   ],
   "source": [
    "df1.Locations.unique()"
   ]
  },
  {
   "cell_type": "code",
   "execution_count": null,
   "id": "077ddd68",
   "metadata": {},
   "outputs": [],
   "source": []
  }
 ],
 "metadata": {
  "kernelspec": {
   "display_name": "Python 3 (ipykernel)",
   "language": "python",
   "name": "python3"
  },
  "language_info": {
   "codemirror_mode": {
    "name": "ipython",
    "version": 3
   },
   "file_extension": ".py",
   "mimetype": "text/x-python",
   "name": "python",
   "nbconvert_exporter": "python",
   "pygments_lexer": "ipython3",
   "version": "3.9.13"
  }
 },
 "nbformat": 4,
 "nbformat_minor": 5
}
