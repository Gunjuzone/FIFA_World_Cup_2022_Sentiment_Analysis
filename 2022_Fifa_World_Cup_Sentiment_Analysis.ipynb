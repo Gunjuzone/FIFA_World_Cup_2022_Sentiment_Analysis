{
 "cells": [
  {
   "cell_type": "markdown",
   "id": "e16c93ab",
   "metadata": {},
   "source": [
    "# FIFA WORLD CUP 2022 SENTIMENT ANALYSIS"
   ]
  },
  {
   "cell_type": "markdown",
   "id": "7ad010a4",
   "metadata": {},
   "source": [
    "## Introduction\n",
    "This is a twitter sentiment analysis project of the 2022 FIFA WORLD CUP in Qatar. To find out what football fans think about the FIFA World Cup 2022, I'll conduct a Twitter sentiment analysis using some World Cup hashtags. The tweet is taken from diffreent days of the world cup and combined into one master dataset. "
   ]
  },
  {
   "cell_type": "markdown",
   "id": "7130c1c4",
   "metadata": {},
   "source": [
    "### Importing Useful libraries"
   ]
  },
  {
   "cell_type": "code",
   "execution_count": 14,
   "id": "ca2d3926",
   "metadata": {},
   "outputs": [],
   "source": [
    "#Import the useful libraries for project environment\n",
    "import snscrape.modules.twitter as sntwitter\n",
    "import pandas as pd\n",
    "import numpy as np\n",
    "import matplotlib.pyplot as plt\n",
    "import seaborn as sns\n",
    "import os\n",
    "import glob # to return all the CSV files’ list located within the path\n",
    "import time"
   ]
  },
  {
   "cell_type": "markdown",
   "id": "5eb1a731",
   "metadata": {},
   "source": [
    "### 1 - Web Scrapping"
   ]
  },
  {
   "cell_type": "code",
   "execution_count": 15,
   "id": "bbab7543",
   "metadata": {},
   "outputs": [],
   "source": [
    "#Scraping relevant tweets using snscrape from twitter\n",
    "\n",
    "query = '((#fifaworldcup2022 OR #fifaworldcup OR #worldcup2022) lang:en until:2022-12-21 since:2022-11-14)'\n",
    "tweets = []\n",
    "limit = 1\n",
    "\n",
    "for tweet in sntwitter.TwitterSearchScraper(query).get_items():\n",
    "    if len(tweets) == limit:\n",
    "        break\n",
    "    else:\n",
    "        tweets.append([tweet.date, tweet.user.username, tweet.user.location, \n",
    "                tweet.rawContent, tweet.retweetCount, tweet.likeCount])\n",
    "\n",
    "#Save the data to a dataframe\n",
    "\n",
    "df = pd.DataFrame(tweets, columns=[\"Date\", \"Username\", \"Locations\", \"Content\", \"Retweets\", \"Favorites\"])\n",
    "\n"
   ]
  },
  {
   "cell_type": "code",
   "execution_count": 16,
   "id": "9cd4342a",
   "metadata": {},
   "outputs": [
    {
     "data": {
      "text/html": [
       "<div>\n",
       "<style scoped>\n",
       "    .dataframe tbody tr th:only-of-type {\n",
       "        vertical-align: middle;\n",
       "    }\n",
       "\n",
       "    .dataframe tbody tr th {\n",
       "        vertical-align: top;\n",
       "    }\n",
       "\n",
       "    .dataframe thead th {\n",
       "        text-align: right;\n",
       "    }\n",
       "</style>\n",
       "<table border=\"1\" class=\"dataframe\">\n",
       "  <thead>\n",
       "    <tr style=\"text-align: right;\">\n",
       "      <th></th>\n",
       "      <th>Date</th>\n",
       "      <th>Username</th>\n",
       "      <th>Locations</th>\n",
       "      <th>Content</th>\n",
       "      <th>Retweets</th>\n",
       "      <th>Favorites</th>\n",
       "    </tr>\n",
       "  </thead>\n",
       "  <tbody>\n",
       "    <tr>\n",
       "      <th>0</th>\n",
       "      <td>2022-12-14 23:59:49+00:00</td>\n",
       "      <td>anyway_football</td>\n",
       "      <td></td>\n",
       "      <td>BIG TEAM, UNDERDOG TEM, &amp;amp; MAROCCO 🇲🇦\\n\\n#F...</td>\n",
       "      <td>2</td>\n",
       "      <td>1</td>\n",
       "    </tr>\n",
       "  </tbody>\n",
       "</table>\n",
       "</div>"
      ],
      "text/plain": [
       "                       Date         Username Locations  \\\n",
       "0 2022-12-14 23:59:49+00:00  anyway_football             \n",
       "\n",
       "                                             Content  Retweets  Favorites  \n",
       "0  BIG TEAM, UNDERDOG TEM, &amp; MAROCCO 🇲🇦\\n\\n#F...         2          1  "
      ]
     },
     "execution_count": 16,
     "metadata": {},
     "output_type": "execute_result"
    }
   ],
   "source": [
    "# Check the dataframe\n",
    "df.head()"
   ]
  },
  {
   "cell_type": "code",
   "execution_count": 12,
   "id": "6079378f",
   "metadata": {},
   "outputs": [],
   "source": [
    "#Save the data to csv file\n",
    "\n",
    "df.to_csv(\"Dec_.csv\", index=False)"
   ]
  },
  {
   "cell_type": "code",
   "execution_count": 53,
   "id": "2aec6752",
   "metadata": {},
   "outputs": [
    {
     "data": {
      "text/html": [
       "<div>\n",
       "<style scoped>\n",
       "    .dataframe tbody tr th:only-of-type {\n",
       "        vertical-align: middle;\n",
       "    }\n",
       "\n",
       "    .dataframe tbody tr th {\n",
       "        vertical-align: top;\n",
       "    }\n",
       "\n",
       "    .dataframe thead th {\n",
       "        text-align: right;\n",
       "    }\n",
       "</style>\n",
       "<table border=\"1\" class=\"dataframe\">\n",
       "  <thead>\n",
       "    <tr style=\"text-align: right;\">\n",
       "      <th></th>\n",
       "      <th>Date</th>\n",
       "      <th>Username</th>\n",
       "      <th>Locations</th>\n",
       "      <th>Content</th>\n",
       "      <th>Retweets</th>\n",
       "      <th>Favorites</th>\n",
       "    </tr>\n",
       "  </thead>\n",
       "  <tbody>\n",
       "    <tr>\n",
       "      <th>0</th>\n",
       "      <td>2022-12-10 23:59:57+00:00</td>\n",
       "      <td>OSUBlockie</td>\n",
       "      <td>Columbus, OH</td>\n",
       "      <td>I just earned the 'World Pint (2022)' badge on...</td>\n",
       "      <td>0</td>\n",
       "      <td>0</td>\n",
       "    </tr>\n",
       "    <tr>\n",
       "      <th>1</th>\n",
       "      <td>2022-12-10 23:59:54+00:00</td>\n",
       "      <td>standardsport</td>\n",
       "      <td>London, England</td>\n",
       "      <td>France 🆚 Morocco\\n\\n📆 Date\\n⏰ Kick-off time\\n📺...</td>\n",
       "      <td>0</td>\n",
       "      <td>5</td>\n",
       "    </tr>\n",
       "    <tr>\n",
       "      <th>2</th>\n",
       "      <td>2022-12-10 23:59:52+00:00</td>\n",
       "      <td>MpatrioticM</td>\n",
       "      <td>ⵜⴰⴳⵍⴷⵉⵜ ⵏ ⵍⵎⵖⵔⵉⴱ 🇲🇦</td>\n",
       "      <td>Glory to Africa ❤️\\n#FIFAWorldCup2022 https://...</td>\n",
       "      <td>10</td>\n",
       "      <td>70</td>\n",
       "    </tr>\n",
       "    <tr>\n",
       "      <th>3</th>\n",
       "      <td>2022-12-10 23:59:52+00:00</td>\n",
       "      <td>masuma114</td>\n",
       "      <td>London, England</td>\n",
       "      <td>Why do black England players always get so muc...</td>\n",
       "      <td>0</td>\n",
       "      <td>4</td>\n",
       "    </tr>\n",
       "    <tr>\n",
       "      <th>4</th>\n",
       "      <td>2022-12-10 23:59:46+00:00</td>\n",
       "      <td>Mexitly81</td>\n",
       "      <td>California, USA</td>\n",
       "      <td>No surprise, classless organization. I guess i...</td>\n",
       "      <td>0</td>\n",
       "      <td>0</td>\n",
       "    </tr>\n",
       "  </tbody>\n",
       "</table>\n",
       "</div>"
      ],
      "text/plain": [
       "                        Date       Username            Locations  \\\n",
       "0  2022-12-10 23:59:57+00:00     OSUBlockie         Columbus, OH   \n",
       "1  2022-12-10 23:59:54+00:00  standardsport      London, England   \n",
       "2  2022-12-10 23:59:52+00:00    MpatrioticM  ⵜⴰⴳⵍⴷⵉⵜ ⵏ ⵍⵎⵖⵔⵉⴱ 🇲🇦   \n",
       "3  2022-12-10 23:59:52+00:00      masuma114      London, England   \n",
       "4  2022-12-10 23:59:46+00:00      Mexitly81      California, USA   \n",
       "\n",
       "                                             Content  Retweets  Favorites  \n",
       "0  I just earned the 'World Pint (2022)' badge on...         0          0  \n",
       "1  France 🆚 Morocco\\n\\n📆 Date\\n⏰ Kick-off time\\n📺...         0          5  \n",
       "2  Glory to Africa ❤️\\n#FIFAWorldCup2022 https://...        10         70  \n",
       "3  Why do black England players always get so muc...         0          4  \n",
       "4  No surprise, classless organization. I guess i...         0          0  "
      ]
     },
     "execution_count": 53,
     "metadata": {},
     "output_type": "execute_result"
    }
   ],
   "source": [
    "path = r\"C:\\Users\\user\\Documents\\DA Projects\\Python\"\n",
    "all_csv_files = glob.glob(path + \"/*.csv\")\n",
    "\n",
    "tweets = []\n",
    "\n",
    "# Convert each csv to a dataframe\n",
    "\n",
    "for filename in all_csv_files:\n",
    "    df = pd.read_csv(filename, index_col = None, header = 0) \n",
    "    tweets.append(df)\n",
    "    \n",
    "# Merge all dataframes\n",
    "\n",
    "FIFA_df = pd.concat(tweets, axis=0, ignore_index = True) \n",
    "\n",
    "FIFA_df.head()"
   ]
  },
  {
   "cell_type": "code",
   "execution_count": 54,
   "id": "6eed43a2",
   "metadata": {},
   "outputs": [],
   "source": [
    "# Save df to one csv file\n",
    "\n",
    "FIFA_df.to_csv(\"FIFA_World_Cup_2022.csv\", index = False)"
   ]
  },
  {
   "cell_type": "code",
   "execution_count": 55,
   "id": "ec9a3f1d",
   "metadata": {},
   "outputs": [],
   "source": [
    "# Read the csv file into dataframe\n",
    "df = pd.read_csv(\"FIFA_World_Cup_2022.csv\")"
   ]
  },
  {
   "cell_type": "code",
   "execution_count": 57,
   "id": "98ed261f",
   "metadata": {},
   "outputs": [
    {
     "data": {
      "text/html": [
       "<div>\n",
       "<style scoped>\n",
       "    .dataframe tbody tr th:only-of-type {\n",
       "        vertical-align: middle;\n",
       "    }\n",
       "\n",
       "    .dataframe tbody tr th {\n",
       "        vertical-align: top;\n",
       "    }\n",
       "\n",
       "    .dataframe thead th {\n",
       "        text-align: right;\n",
       "    }\n",
       "</style>\n",
       "<table border=\"1\" class=\"dataframe\">\n",
       "  <thead>\n",
       "    <tr style=\"text-align: right;\">\n",
       "      <th></th>\n",
       "      <th>Date</th>\n",
       "      <th>Username</th>\n",
       "      <th>Locations</th>\n",
       "      <th>Content</th>\n",
       "      <th>Retweets</th>\n",
       "      <th>Favorites</th>\n",
       "    </tr>\n",
       "  </thead>\n",
       "  <tbody>\n",
       "    <tr>\n",
       "      <th>617018</th>\n",
       "      <td>2022-11-20 15:07:31+00:00</td>\n",
       "      <td>sataekooklang</td>\n",
       "      <td>NaN</td>\n",
       "      <td>Jungkookie! 😭 \\n💜\\n#DreamersJungkook \\n#Dreame...</td>\n",
       "      <td>10</td>\n",
       "      <td>41</td>\n",
       "    </tr>\n",
       "    <tr>\n",
       "      <th>617019</th>\n",
       "      <td>2022-11-20 15:07:31+00:00</td>\n",
       "      <td>Sir_Stevensarp</td>\n",
       "      <td>AngelTown</td>\n",
       "      <td>The tune dey go on though. #FIFAWorldCup</td>\n",
       "      <td>0</td>\n",
       "      <td>1</td>\n",
       "    </tr>\n",
       "    <tr>\n",
       "      <th>617020</th>\n",
       "      <td>2022-11-20 15:07:31+00:00</td>\n",
       "      <td>kassimisola</td>\n",
       "      <td>London, England</td>\n",
       "      <td>I knew the opening ceremony in Qatar will be a...</td>\n",
       "      <td>0</td>\n",
       "      <td>0</td>\n",
       "    </tr>\n",
       "    <tr>\n",
       "      <th>617021</th>\n",
       "      <td>2022-11-20 15:07:31+00:00</td>\n",
       "      <td>btslostacc</td>\n",
       "      <td>♡</td>\n",
       "      <td>Jungkook slayed #WorldCup2022</td>\n",
       "      <td>0</td>\n",
       "      <td>0</td>\n",
       "    </tr>\n",
       "    <tr>\n",
       "      <th>617022</th>\n",
       "      <td>2022-11-20 15:07:30+00:00</td>\n",
       "      <td>natasyaeffriani</td>\n",
       "      <td>Jakarta</td>\n",
       "      <td>not me crying every time i watch a sports fest...</td>\n",
       "      <td>0</td>\n",
       "      <td>0</td>\n",
       "    </tr>\n",
       "  </tbody>\n",
       "</table>\n",
       "</div>"
      ],
      "text/plain": [
       "                             Date         Username        Locations  \\\n",
       "617018  2022-11-20 15:07:31+00:00    sataekooklang              NaN   \n",
       "617019  2022-11-20 15:07:31+00:00   Sir_Stevensarp        AngelTown   \n",
       "617020  2022-11-20 15:07:31+00:00      kassimisola  London, England   \n",
       "617021  2022-11-20 15:07:31+00:00       btslostacc                ♡   \n",
       "617022  2022-11-20 15:07:30+00:00  natasyaeffriani          Jakarta   \n",
       "\n",
       "                                                  Content  Retweets  Favorites  \n",
       "617018  Jungkookie! 😭 \\n💜\\n#DreamersJungkook \\n#Dreame...        10         41  \n",
       "617019           The tune dey go on though. #FIFAWorldCup         0          1  \n",
       "617020  I knew the opening ceremony in Qatar will be a...         0          0  \n",
       "617021                      Jungkook slayed #WorldCup2022         0          0  \n",
       "617022  not me crying every time i watch a sports fest...         0          0  "
      ]
     },
     "execution_count": 57,
     "metadata": {},
     "output_type": "execute_result"
    }
   ],
   "source": [
    "df.tail()"
   ]
  },
  {
   "cell_type": "markdown",
   "id": "5fd1d771",
   "metadata": {},
   "source": [
    "### 2 - Data Cleaning"
   ]
  },
  {
   "cell_type": "code",
   "execution_count": 64,
   "id": "fb5574af",
   "metadata": {},
   "outputs": [
    {
     "data": {
      "text/plain": [
       "Date              0\n",
       "Username          2\n",
       "Locations    176454\n",
       "Content           0\n",
       "Retweets          0\n",
       "Favorites         0\n",
       "dtype: int64"
      ]
     },
     "execution_count": 64,
     "metadata": {},
     "output_type": "execute_result"
    }
   ],
   "source": [
    "#Check null values\n",
    "df.isnull().sum()"
   ]
  },
  {
   "cell_type": "markdown",
   "id": "63967acc",
   "metadata": {},
   "source": [
    "###### The null location is understandable given that not every Twitter user tweets from their location, but I will look into the null value in the username further."
   ]
  },
  {
   "cell_type": "code",
   "execution_count": 65,
   "id": "3045eaef",
   "metadata": {},
   "outputs": [
    {
     "data": {
      "text/html": [
       "<div>\n",
       "<style scoped>\n",
       "    .dataframe tbody tr th:only-of-type {\n",
       "        vertical-align: middle;\n",
       "    }\n",
       "\n",
       "    .dataframe tbody tr th {\n",
       "        vertical-align: top;\n",
       "    }\n",
       "\n",
       "    .dataframe thead th {\n",
       "        text-align: right;\n",
       "    }\n",
       "</style>\n",
       "<table border=\"1\" class=\"dataframe\">\n",
       "  <thead>\n",
       "    <tr style=\"text-align: right;\">\n",
       "      <th></th>\n",
       "      <th>Date</th>\n",
       "      <th>Username</th>\n",
       "      <th>Locations</th>\n",
       "      <th>Content</th>\n",
       "      <th>Retweets</th>\n",
       "      <th>Favorites</th>\n",
       "    </tr>\n",
       "  </thead>\n",
       "  <tbody>\n",
       "    <tr>\n",
       "      <th>452511</th>\n",
       "      <td>2022-11-15 00:22:14+00:00</td>\n",
       "      <td>NaN</td>\n",
       "      <td>San Antonio, TX</td>\n",
       "      <td>Shirts ordered for #WorldCup2022 https://t.co/...</td>\n",
       "      <td>0</td>\n",
       "      <td>3</td>\n",
       "    </tr>\n",
       "    <tr>\n",
       "      <th>528135</th>\n",
       "      <td>2022-11-20 19:06:54+00:00</td>\n",
       "      <td>NaN</td>\n",
       "      <td>San Antonio, TX</td>\n",
       "      <td>On the road to Doha starting at @SATairport #F...</td>\n",
       "      <td>0</td>\n",
       "      <td>11</td>\n",
       "    </tr>\n",
       "  </tbody>\n",
       "</table>\n",
       "</div>"
      ],
      "text/plain": [
       "                             Date Username        Locations  \\\n",
       "452511  2022-11-15 00:22:14+00:00      NaN  San Antonio, TX   \n",
       "528135  2022-11-20 19:06:54+00:00      NaN  San Antonio, TX   \n",
       "\n",
       "                                                  Content  Retweets  Favorites  \n",
       "452511  Shirts ordered for #WorldCup2022 https://t.co/...         0          3  \n",
       "528135  On the road to Doha starting at @SATairport #F...         0         11  "
      ]
     },
     "execution_count": 65,
     "metadata": {},
     "output_type": "execute_result"
    }
   ],
   "source": [
    "df[df['Username'].isnull()]"
   ]
  },
  {
   "cell_type": "code",
   "execution_count": 72,
   "id": "fc2e686e",
   "metadata": {},
   "outputs": [
    {
     "data": {
      "text/plain": [
       "Date              0\n",
       "Username          0\n",
       "Locations    617021\n",
       "Content           0\n",
       "Retweets          0\n",
       "Favorites         0\n",
       "dtype: int64"
      ]
     },
     "execution_count": 72,
     "metadata": {},
     "output_type": "execute_result"
    }
   ],
   "source": [
    "# Drop the null values in the USername column\n",
    "\n",
    "df.dropna(subset=['Username'], inplace=True)\n",
    "\n",
    "#Check again\n",
    "df.isnull().sum()"
   ]
  },
  {
   "cell_type": "code",
   "execution_count": 73,
   "id": "5ef100f1",
   "metadata": {},
   "outputs": [],
   "source": [
    "# Replace \"NaN\" values in the location with \"Unknown\"\n",
    "df[\"Locations\"].fillna(\"Unknown\", inplace = True)"
   ]
  },
  {
   "cell_type": "code",
   "execution_count": 75,
   "id": "fab6f825",
   "metadata": {},
   "outputs": [
    {
     "data": {
      "text/plain": [
       "Date         0\n",
       "Username     0\n",
       "Locations    0\n",
       "Content      0\n",
       "Retweets     0\n",
       "Favorites    0\n",
       "dtype: int64"
      ]
     },
     "execution_count": 75,
     "metadata": {},
     "output_type": "execute_result"
    }
   ],
   "source": [
    "#Check again\n",
    "df.isnull().sum()"
   ]
  },
  {
   "cell_type": "code",
   "execution_count": 76,
   "id": "79f6b37e",
   "metadata": {},
   "outputs": [
    {
     "data": {
      "text/plain": [
       "15"
      ]
     },
     "execution_count": 76,
     "metadata": {},
     "output_type": "execute_result"
    }
   ],
   "source": [
    "# Check for duolicates\n",
    "df.duplicated().sum()"
   ]
  },
  {
   "cell_type": "code",
   "execution_count": 78,
   "id": "655c4c6a",
   "metadata": {},
   "outputs": [
    {
     "data": {
      "text/html": [
       "<div>\n",
       "<style scoped>\n",
       "    .dataframe tbody tr th:only-of-type {\n",
       "        vertical-align: middle;\n",
       "    }\n",
       "\n",
       "    .dataframe tbody tr th {\n",
       "        vertical-align: top;\n",
       "    }\n",
       "\n",
       "    .dataframe thead th {\n",
       "        text-align: right;\n",
       "    }\n",
       "</style>\n",
       "<table border=\"1\" class=\"dataframe\">\n",
       "  <thead>\n",
       "    <tr style=\"text-align: right;\">\n",
       "      <th></th>\n",
       "      <th>Date</th>\n",
       "      <th>Username</th>\n",
       "      <th>Locations</th>\n",
       "      <th>Content</th>\n",
       "      <th>Retweets</th>\n",
       "      <th>Favorites</th>\n",
       "    </tr>\n",
       "  </thead>\n",
       "  <tbody>\n",
       "    <tr>\n",
       "      <th>68338</th>\n",
       "      <td>2022-12-10 18:28:56+00:00</td>\n",
       "      <td>shumanimutendi</td>\n",
       "      <td>Unknown</td>\n",
       "      <td>@blacklabelsa They will meet France \\n#FIFAWor...</td>\n",
       "      <td>0</td>\n",
       "      <td>0</td>\n",
       "    </tr>\n",
       "    <tr>\n",
       "      <th>164370</th>\n",
       "      <td>2022-12-14 10:27:45+00:00</td>\n",
       "      <td>Jimbob210712</td>\n",
       "      <td>Unknown</td>\n",
       "      <td>@markgoldbridge Depends who the Ref is on the ...</td>\n",
       "      <td>0</td>\n",
       "      <td>0</td>\n",
       "    </tr>\n",
       "    <tr>\n",
       "      <th>216151</th>\n",
       "      <td>2022-12-13 12:58:11+00:00</td>\n",
       "      <td>SubramanyamJk</td>\n",
       "      <td>Unknown</td>\n",
       "      <td>@Hisense_IND @KMbappe\\n going to win the Golde...</td>\n",
       "      <td>0</td>\n",
       "      <td>1</td>\n",
       "    </tr>\n",
       "    <tr>\n",
       "      <th>234444</th>\n",
       "      <td>2022-12-17 15:07:44+00:00</td>\n",
       "      <td>masagyai1</td>\n",
       "      <td>Unknown</td>\n",
       "      <td>@SSFootball @TheBold27 The Moroccan Goalkeeper...</td>\n",
       "      <td>0</td>\n",
       "      <td>1</td>\n",
       "    </tr>\n",
       "    <tr>\n",
       "      <th>237426</th>\n",
       "      <td>2022-12-17 12:42:36+00:00</td>\n",
       "      <td>TakiSAPP96</td>\n",
       "      <td>Unknown</td>\n",
       "      <td>@ViaWallet I think Argentina will win this mat...</td>\n",
       "      <td>0</td>\n",
       "      <td>0</td>\n",
       "    </tr>\n",
       "    <tr>\n",
       "      <th>305331</th>\n",
       "      <td>2022-12-18 18:59:03+00:00</td>\n",
       "      <td>BigBellaseason1</td>\n",
       "      <td>Unknown</td>\n",
       "      <td>Are you goin to organise a cup for them? 😅#Fif...</td>\n",
       "      <td>0</td>\n",
       "      <td>0</td>\n",
       "    </tr>\n",
       "    <tr>\n",
       "      <th>454848</th>\n",
       "      <td>2022-11-14 17:04:30+00:00</td>\n",
       "      <td>JkvRivai</td>\n",
       "      <td>Unknown</td>\n",
       "      <td>@Daily_JKUpdate OUR PRIDE JUNGKOOK\\nFIFAKOOK I...</td>\n",
       "      <td>0</td>\n",
       "      <td>0</td>\n",
       "    </tr>\n",
       "    <tr>\n",
       "      <th>455424</th>\n",
       "      <td>2022-11-14 15:58:05+00:00</td>\n",
       "      <td>NareeSahl</td>\n",
       "      <td>Unknown</td>\n",
       "      <td>@ITZYTrendGlobal @ITZYofficial @McDonalds WANN...</td>\n",
       "      <td>0</td>\n",
       "      <td>0</td>\n",
       "    </tr>\n",
       "    <tr>\n",
       "      <th>473875</th>\n",
       "      <td>2022-11-19 16:59:58+00:00</td>\n",
       "      <td>seraapalestine</td>\n",
       "      <td>Unknown</td>\n",
       "      <td>who were punished solely for expressing solida...</td>\n",
       "      <td>0</td>\n",
       "      <td>0</td>\n",
       "    </tr>\n",
       "    <tr>\n",
       "      <th>474569</th>\n",
       "      <td>2022-11-19 16:41:18+00:00</td>\n",
       "      <td>Qwerty6137</td>\n",
       "      <td>Unknown</td>\n",
       "      <td>Dreamers 🌏🏆⚽\\n#Dreamers2022 #FIFAWorldCup #Jun...</td>\n",
       "      <td>0</td>\n",
       "      <td>0</td>\n",
       "    </tr>\n",
       "    <tr>\n",
       "      <th>474571</th>\n",
       "      <td>2022-11-19 16:41:17+00:00</td>\n",
       "      <td>Qwerty6137</td>\n",
       "      <td>Unknown</td>\n",
       "      <td>Dreamers 🌏🏆⚽\\n#Dreamers2022 #FIFAWorldCup #Jun...</td>\n",
       "      <td>0</td>\n",
       "      <td>0</td>\n",
       "    </tr>\n",
       "    <tr>\n",
       "      <th>474596</th>\n",
       "      <td>2022-11-19 16:40:49+00:00</td>\n",
       "      <td>itsthe7formee</td>\n",
       "      <td>Unknown</td>\n",
       "      <td>Dreamers 🌏🏆⚽\\n#Dreamers2022 #FIFAWorldCup #Jun...</td>\n",
       "      <td>0</td>\n",
       "      <td>0</td>\n",
       "    </tr>\n",
       "    <tr>\n",
       "      <th>494633</th>\n",
       "      <td>2022-11-19 06:47:16+00:00</td>\n",
       "      <td>jn_jk5</td>\n",
       "      <td>Unknown</td>\n",
       "      <td>DREAMERS BY JK IS COMING!\\n#JungkookAtFIFAWorl...</td>\n",
       "      <td>0</td>\n",
       "      <td>0</td>\n",
       "    </tr>\n",
       "    <tr>\n",
       "      <th>496164</th>\n",
       "      <td>2022-11-19 06:09:22+00:00</td>\n",
       "      <td>JeongkimTk</td>\n",
       "      <td>Unknown</td>\n",
       "      <td>@Jk_trend_songs DREAMERS BY JK IS COMING!\\n\\n#...</td>\n",
       "      <td>0</td>\n",
       "      <td>0</td>\n",
       "    </tr>\n",
       "    <tr>\n",
       "      <th>500766</th>\n",
       "      <td>2022-11-19 05:21:56+00:00</td>\n",
       "      <td>boraboracadets</td>\n",
       "      <td>Unknown</td>\n",
       "      <td>@snowgIoss DREAMERS BY JUNGKOOK IS COMING! \\n#...</td>\n",
       "      <td>0</td>\n",
       "      <td>0</td>\n",
       "    </tr>\n",
       "  </tbody>\n",
       "</table>\n",
       "</div>"
      ],
      "text/plain": [
       "                             Date         Username Locations  \\\n",
       "68338   2022-12-10 18:28:56+00:00   shumanimutendi   Unknown   \n",
       "164370  2022-12-14 10:27:45+00:00     Jimbob210712   Unknown   \n",
       "216151  2022-12-13 12:58:11+00:00    SubramanyamJk   Unknown   \n",
       "234444  2022-12-17 15:07:44+00:00        masagyai1   Unknown   \n",
       "237426  2022-12-17 12:42:36+00:00       TakiSAPP96   Unknown   \n",
       "305331  2022-12-18 18:59:03+00:00  BigBellaseason1   Unknown   \n",
       "454848  2022-11-14 17:04:30+00:00         JkvRivai   Unknown   \n",
       "455424  2022-11-14 15:58:05+00:00        NareeSahl   Unknown   \n",
       "473875  2022-11-19 16:59:58+00:00   seraapalestine   Unknown   \n",
       "474569  2022-11-19 16:41:18+00:00       Qwerty6137   Unknown   \n",
       "474571  2022-11-19 16:41:17+00:00       Qwerty6137   Unknown   \n",
       "474596  2022-11-19 16:40:49+00:00    itsthe7formee   Unknown   \n",
       "494633  2022-11-19 06:47:16+00:00           jn_jk5   Unknown   \n",
       "496164  2022-11-19 06:09:22+00:00       JeongkimTk   Unknown   \n",
       "500766  2022-11-19 05:21:56+00:00   boraboracadets   Unknown   \n",
       "\n",
       "                                                  Content  Retweets  Favorites  \n",
       "68338   @blacklabelsa They will meet France \\n#FIFAWor...         0          0  \n",
       "164370  @markgoldbridge Depends who the Ref is on the ...         0          0  \n",
       "216151  @Hisense_IND @KMbappe\\n going to win the Golde...         0          1  \n",
       "234444  @SSFootball @TheBold27 The Moroccan Goalkeeper...         0          1  \n",
       "237426  @ViaWallet I think Argentina will win this mat...         0          0  \n",
       "305331  Are you goin to organise a cup for them? 😅#Fif...         0          0  \n",
       "454848  @Daily_JKUpdate OUR PRIDE JUNGKOOK\\nFIFAKOOK I...         0          0  \n",
       "455424  @ITZYTrendGlobal @ITZYofficial @McDonalds WANN...         0          0  \n",
       "473875  who were punished solely for expressing solida...         0          0  \n",
       "474569  Dreamers 🌏🏆⚽\\n#Dreamers2022 #FIFAWorldCup #Jun...         0          0  \n",
       "474571  Dreamers 🌏🏆⚽\\n#Dreamers2022 #FIFAWorldCup #Jun...         0          0  \n",
       "474596  Dreamers 🌏🏆⚽\\n#Dreamers2022 #FIFAWorldCup #Jun...         0          0  \n",
       "494633  DREAMERS BY JK IS COMING!\\n#JungkookAtFIFAWorl...         0          0  \n",
       "496164  @Jk_trend_songs DREAMERS BY JK IS COMING!\\n\\n#...         0          0  \n",
       "500766  @snowgIoss DREAMERS BY JUNGKOOK IS COMING! \\n#...         0          0  "
      ]
     },
     "execution_count": 78,
     "metadata": {},
     "output_type": "execute_result"
    }
   ],
   "source": [
    "df[df.duplicated()]"
   ]
  },
  {
   "cell_type": "code",
   "execution_count": 88,
   "id": "ff8f8dc9",
   "metadata": {},
   "outputs": [],
   "source": [
    "# Drop the duplicate rows\n",
    "df.drop_duplicates(subset=None, keep=\"first\", inplace=True)"
   ]
  },
  {
   "cell_type": "code",
   "execution_count": 89,
   "id": "5d3d8600",
   "metadata": {},
   "outputs": [
    {
     "data": {
      "text/plain": [
       "0"
      ]
     },
     "execution_count": 89,
     "metadata": {},
     "output_type": "execute_result"
    }
   ],
   "source": [
    "#Check again for duplicates\n",
    "df.duplicated().sum()"
   ]
  },
  {
   "cell_type": "code",
   "execution_count": 90,
   "id": "523d8e3a",
   "metadata": {},
   "outputs": [
    {
     "data": {
      "text/html": [
       "<div>\n",
       "<style scoped>\n",
       "    .dataframe tbody tr th:only-of-type {\n",
       "        vertical-align: middle;\n",
       "    }\n",
       "\n",
       "    .dataframe tbody tr th {\n",
       "        vertical-align: top;\n",
       "    }\n",
       "\n",
       "    .dataframe thead th {\n",
       "        text-align: right;\n",
       "    }\n",
       "</style>\n",
       "<table border=\"1\" class=\"dataframe\">\n",
       "  <thead>\n",
       "    <tr style=\"text-align: right;\">\n",
       "      <th></th>\n",
       "      <th>Retweets</th>\n",
       "      <th>Favorites</th>\n",
       "    </tr>\n",
       "  </thead>\n",
       "  <tbody>\n",
       "    <tr>\n",
       "      <th>count</th>\n",
       "      <td>617006.000000</td>\n",
       "      <td>617006.000000</td>\n",
       "    </tr>\n",
       "    <tr>\n",
       "      <th>mean</th>\n",
       "      <td>5.651269</td>\n",
       "      <td>33.051810</td>\n",
       "    </tr>\n",
       "    <tr>\n",
       "      <th>std</th>\n",
       "      <td>457.320311</td>\n",
       "      <td>1481.945343</td>\n",
       "    </tr>\n",
       "    <tr>\n",
       "      <th>min</th>\n",
       "      <td>0.000000</td>\n",
       "      <td>0.000000</td>\n",
       "    </tr>\n",
       "    <tr>\n",
       "      <th>25%</th>\n",
       "      <td>0.000000</td>\n",
       "      <td>0.000000</td>\n",
       "    </tr>\n",
       "    <tr>\n",
       "      <th>50%</th>\n",
       "      <td>0.000000</td>\n",
       "      <td>1.000000</td>\n",
       "    </tr>\n",
       "    <tr>\n",
       "      <th>75%</th>\n",
       "      <td>0.000000</td>\n",
       "      <td>2.000000</td>\n",
       "    </tr>\n",
       "    <tr>\n",
       "      <th>max</th>\n",
       "      <td>296698.000000</td>\n",
       "      <td>793393.000000</td>\n",
       "    </tr>\n",
       "  </tbody>\n",
       "</table>\n",
       "</div>"
      ],
      "text/plain": [
       "            Retweets      Favorites\n",
       "count  617006.000000  617006.000000\n",
       "mean        5.651269      33.051810\n",
       "std       457.320311    1481.945343\n",
       "min         0.000000       0.000000\n",
       "25%         0.000000       0.000000\n",
       "50%         0.000000       1.000000\n",
       "75%         0.000000       2.000000\n",
       "max    296698.000000  793393.000000"
      ]
     },
     "execution_count": 90,
     "metadata": {},
     "output_type": "execute_result"
    }
   ],
   "source": [
    "#Check the description of the dataset\n",
    "df.describe()"
   ]
  },
  {
   "cell_type": "code",
   "execution_count": 91,
   "id": "5c980990",
   "metadata": {},
   "outputs": [
    {
     "name": "stdout",
     "output_type": "stream",
     "text": [
      "<class 'pandas.core.frame.DataFrame'>\n",
      "Int64Index: 617006 entries, 0 to 617022\n",
      "Data columns (total 6 columns):\n",
      " #   Column     Non-Null Count   Dtype \n",
      "---  ------     --------------   ----- \n",
      " 0   Date       617006 non-null  object\n",
      " 1   Username   617006 non-null  object\n",
      " 2   Locations  617006 non-null  object\n",
      " 3   Content    617006 non-null  object\n",
      " 4   Retweets   617006 non-null  int64 \n",
      " 5   Favorites  617006 non-null  int64 \n",
      "dtypes: int64(2), object(4)\n",
      "memory usage: 33.0+ MB\n"
     ]
    }
   ],
   "source": [
    "# Check the dataset info\n",
    "df.info()"
   ]
  },
  {
   "cell_type": "code",
   "execution_count": null,
   "id": "c9f2a161",
   "metadata": {},
   "outputs": [],
   "source": [
    "# Convert the date column to datetime type\n",
    "\n"
   ]
  }
 ],
 "metadata": {
  "kernelspec": {
   "display_name": "Python 3 (ipykernel)",
   "language": "python",
   "name": "python3"
  },
  "language_info": {
   "codemirror_mode": {
    "name": "ipython",
    "version": 3
   },
   "file_extension": ".py",
   "mimetype": "text/x-python",
   "name": "python",
   "nbconvert_exporter": "python",
   "pygments_lexer": "ipython3",
   "version": "3.9.13"
  }
 },
 "nbformat": 4,
 "nbformat_minor": 5
}
