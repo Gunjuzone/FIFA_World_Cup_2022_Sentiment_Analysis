{
 "cells": [
  {
   "cell_type": "markdown",
   "id": "e16c93ab",
   "metadata": {},
   "source": [
    "# FIFA WORLD CUP 2022 SENTIMENT ANALYSIS"
   ]
  },
  {
   "cell_type": "markdown",
   "id": "7ad010a4",
   "metadata": {},
   "source": [
    "## Introduction\n",
    "This is a twitter sentiment analysis project of the 2022 FIFA WORLD CUP in Qatar. To find out what football fans think about the FIFA World Cup 2022, I'll conduct a Twitter sentiment analysis using some World Cup hashtags. The tweet is taken from diffreent days of the world cup and combined into one master dataset. "
   ]
  },
  {
   "cell_type": "markdown",
   "id": "7130c1c4",
   "metadata": {},
   "source": [
    "## Importing Useful libraries"
   ]
  },
  {
   "cell_type": "code",
   "execution_count": 208,
   "id": "ca2d3926",
   "metadata": {},
   "outputs": [],
   "source": [
    "#Import the useful libraries for project environment\n",
    "import snscrape.modules.twitter as sntwitter\n",
    "import pandas as pd\n",
    "import numpy as np\n",
    "import matplotlib.pyplot as plt\n",
    "%matplotlib inline\n",
    "import seaborn as sns\n",
    "import os\n",
    "import glob # to return all the CSV files’ list located within the path\n",
    "import time\n",
    "import preprocessor as p # To clean the tweet fro hastags, usernames and emojis\n",
    "import re # Import regular expression"
   ]
  },
  {
   "cell_type": "markdown",
   "id": "fcf9ad1f",
   "metadata": {},
   "source": [
    "##  1 - Web Scrapping"
   ]
  },
  {
   "cell_type": "markdown",
   "id": "d4bb75f7",
   "metadata": {},
   "source": [
    "### Code"
   ]
  },
  {
   "cell_type": "code",
   "execution_count": 211,
   "id": "bbab7543",
   "metadata": {},
   "outputs": [],
   "source": [
    "#Scraping relevant tweets using snscrape from twitter\n",
    "\n",
    "query = '((#fifaworldcup2022 OR #fifaworldcup OR #worldcup2022) lang:en until:2022-12-21 since:2022-11-14)'\n",
    "tweets = []\n",
    "limit = 10\n",
    "\n",
    "for tweet in sntwitter.TwitterSearchScraper(query).get_items():\n",
    "    if len(tweets) == limit:\n",
    "        break\n",
    "    else:\n",
    "        tweets.append([tweet.date, tweet.user.username, tweet.user.location, \n",
    "                tweet.rawContent, tweet.retweetCount, tweet.likeCount])\n",
    "\n",
    "#Save the data to a dataframe\n",
    "\n",
    "df = pd.DataFrame(tweets, columns=[\"Date\", \"Username\", \"Locations\", \"Content\", \"Retweets\", \"Favorites\"])\n",
    "\n"
   ]
  },
  {
   "cell_type": "markdown",
   "id": "6810ddc9",
   "metadata": {},
   "source": [
    "### Test"
   ]
  },
  {
   "cell_type": "code",
   "execution_count": 212,
   "id": "9cd4342a",
   "metadata": {},
   "outputs": [
    {
     "data": {
      "text/html": [
       "<div>\n",
       "<style scoped>\n",
       "    .dataframe tbody tr th:only-of-type {\n",
       "        vertical-align: middle;\n",
       "    }\n",
       "\n",
       "    .dataframe tbody tr th {\n",
       "        vertical-align: top;\n",
       "    }\n",
       "\n",
       "    .dataframe thead th {\n",
       "        text-align: right;\n",
       "    }\n",
       "</style>\n",
       "<table border=\"1\" class=\"dataframe\">\n",
       "  <thead>\n",
       "    <tr style=\"text-align: right;\">\n",
       "      <th></th>\n",
       "      <th>Date</th>\n",
       "      <th>Username</th>\n",
       "      <th>Locations</th>\n",
       "      <th>Content</th>\n",
       "      <th>Retweets</th>\n",
       "      <th>Favorites</th>\n",
       "    </tr>\n",
       "  </thead>\n",
       "  <tbody>\n",
       "    <tr>\n",
       "      <th>0</th>\n",
       "      <td>2022-12-20 23:59:08+00:00</td>\n",
       "      <td>knew_channel</td>\n",
       "      <td>Hong Kong</td>\n",
       "      <td>No one to talk or make hype on this such a sha...</td>\n",
       "      <td>0</td>\n",
       "      <td>0</td>\n",
       "    </tr>\n",
       "    <tr>\n",
       "      <th>1</th>\n",
       "      <td>2022-12-20 23:58:15+00:00</td>\n",
       "      <td>christo_comedy</td>\n",
       "      <td>Abia, Nigeria</td>\n",
       "      <td>Shout out verse fake life 😩\\n-\\nBirthday Bless...</td>\n",
       "      <td>0</td>\n",
       "      <td>1</td>\n",
       "    </tr>\n",
       "    <tr>\n",
       "      <th>2</th>\n",
       "      <td>2022-12-20 23:57:55+00:00</td>\n",
       "      <td>beINSPORTSUSA</td>\n",
       "      <td>United States</td>\n",
       "      <td>This is how Leo Messi arrived at his home in R...</td>\n",
       "      <td>29</td>\n",
       "      <td>172</td>\n",
       "    </tr>\n",
       "    <tr>\n",
       "      <th>3</th>\n",
       "      <td>2022-12-20 23:57:51+00:00</td>\n",
       "      <td>StatsDataFacts</td>\n",
       "      <td>London, England</td>\n",
       "      <td>Countries with the most FIFA World Cup titles ...</td>\n",
       "      <td>0</td>\n",
       "      <td>2</td>\n",
       "    </tr>\n",
       "    <tr>\n",
       "      <th>4</th>\n",
       "      <td>2022-12-20 23:57:51+00:00</td>\n",
       "      <td>CharlesTheSwift</td>\n",
       "      <td>New York</td>\n",
       "      <td>Will @KMbappe hairline survive until the next ...</td>\n",
       "      <td>0</td>\n",
       "      <td>0</td>\n",
       "    </tr>\n",
       "  </tbody>\n",
       "</table>\n",
       "</div>"
      ],
      "text/plain": [
       "                       Date         Username        Locations  \\\n",
       "0 2022-12-20 23:59:08+00:00     knew_channel        Hong Kong   \n",
       "1 2022-12-20 23:58:15+00:00   christo_comedy    Abia, Nigeria   \n",
       "2 2022-12-20 23:57:55+00:00    beINSPORTSUSA    United States   \n",
       "3 2022-12-20 23:57:51+00:00   StatsDataFacts  London, England   \n",
       "4 2022-12-20 23:57:51+00:00  CharlesTheSwift         New York   \n",
       "\n",
       "                                             Content  Retweets  Favorites  \n",
       "0  No one to talk or make hype on this such a sha...         0          0  \n",
       "1  Shout out verse fake life 😩\\n-\\nBirthday Bless...         0          1  \n",
       "2  This is how Leo Messi arrived at his home in R...        29        172  \n",
       "3  Countries with the most FIFA World Cup titles ...         0          2  \n",
       "4  Will @KMbappe hairline survive until the next ...         0          0  "
      ]
     },
     "execution_count": 212,
     "metadata": {},
     "output_type": "execute_result"
    }
   ],
   "source": [
    "# Check the dataframe\n",
    "df.head()"
   ]
  },
  {
   "cell_type": "code",
   "execution_count": 76,
   "id": "6079378f",
   "metadata": {},
   "outputs": [],
   "source": [
    "#Save the data to csv file\n",
    "\n",
    "df.to_csv(\"Dec_.csv\", index=False)"
   ]
  },
  {
   "cell_type": "markdown",
   "id": "e9430673",
   "metadata": {},
   "source": [
    "### Define  \n",
    "Merge the csv files into one file"
   ]
  },
  {
   "cell_type": "markdown",
   "id": "b42af545",
   "metadata": {},
   "source": [
    "### Code"
   ]
  },
  {
   "cell_type": "code",
   "execution_count": 214,
   "id": "becae7e8",
   "metadata": {},
   "outputs": [
    {
     "data": {
      "text/plain": [
       "['FIFA_World_Cup_2022.csv',\n",
       " 'FIFA_WORLD_CUP_2022_Dec_10.csv',\n",
       " 'FIFA_WORLD_CUP_2022_Dec_11.csv',\n",
       " 'FIFA_WORLD_CUP_2022_Dec_13_14.csv',\n",
       " 'FIFA_WORLD_CUP_2022_Dec_15_17.csv',\n",
       " 'FIFA_WORLD_CUP_2022_Dec_18.csv',\n",
       " 'FIFA_WORLD_CUP_2022_Dec_19.csv',\n",
       " 'FIFA_WORLD_CUP_2022_Dec_20.csv',\n",
       " 'FIFA_WORLD_CUP_2022_Nov_14-17.csv',\n",
       " 'FIFA_WORLD_CUP_2022_Nov_18-19.csv',\n",
       " 'FIFA_WORLD_CUP_2022_Nov_21_20.csv']"
      ]
     },
     "execution_count": 214,
     "metadata": {},
     "output_type": "execute_result"
    }
   ],
   "source": [
    "### Check the files in the directory\n",
    "os.chdir(r\"C:\\Users\\user\\Documents\\DA Projects\\Python\\FIFA_CSV\")\n",
    "csv_files = glob.glob( '*.csv' )\n",
    "csv_files"
   ]
  },
  {
   "cell_type": "code",
   "execution_count": 129,
   "id": "f90bc34e",
   "metadata": {},
   "outputs": [
    {
     "data": {
      "text/html": [
       "<div>\n",
       "<style scoped>\n",
       "    .dataframe tbody tr th:only-of-type {\n",
       "        vertical-align: middle;\n",
       "    }\n",
       "\n",
       "    .dataframe tbody tr th {\n",
       "        vertical-align: top;\n",
       "    }\n",
       "\n",
       "    .dataframe thead th {\n",
       "        text-align: right;\n",
       "    }\n",
       "</style>\n",
       "<table border=\"1\" class=\"dataframe\">\n",
       "  <thead>\n",
       "    <tr style=\"text-align: right;\">\n",
       "      <th></th>\n",
       "      <th>Date</th>\n",
       "      <th>Username</th>\n",
       "      <th>Locations</th>\n",
       "      <th>Content</th>\n",
       "      <th>Retweets</th>\n",
       "      <th>Favorites</th>\n",
       "    </tr>\n",
       "  </thead>\n",
       "  <tbody>\n",
       "    <tr>\n",
       "      <th>0</th>\n",
       "      <td>2022-12-10 23:59:57+00:00</td>\n",
       "      <td>OSUBlockie</td>\n",
       "      <td>Columbus, OH</td>\n",
       "      <td>I just earned the 'World Pint (2022)' badge on...</td>\n",
       "      <td>0</td>\n",
       "      <td>0</td>\n",
       "    </tr>\n",
       "    <tr>\n",
       "      <th>1</th>\n",
       "      <td>2022-12-10 23:59:54+00:00</td>\n",
       "      <td>standardsport</td>\n",
       "      <td>London, England</td>\n",
       "      <td>France 🆚 Morocco\\n\\n📆 Date\\n⏰ Kick-off time\\n📺...</td>\n",
       "      <td>0</td>\n",
       "      <td>5</td>\n",
       "    </tr>\n",
       "    <tr>\n",
       "      <th>2</th>\n",
       "      <td>2022-12-10 23:59:52+00:00</td>\n",
       "      <td>MpatrioticM</td>\n",
       "      <td>ⵜⴰⴳⵍⴷⵉⵜ ⵏ ⵍⵎⵖⵔⵉⴱ 🇲🇦</td>\n",
       "      <td>Glory to Africa ❤️\\n#FIFAWorldCup2022 https://...</td>\n",
       "      <td>10</td>\n",
       "      <td>70</td>\n",
       "    </tr>\n",
       "    <tr>\n",
       "      <th>3</th>\n",
       "      <td>2022-12-10 23:59:52+00:00</td>\n",
       "      <td>masuma114</td>\n",
       "      <td>London, England</td>\n",
       "      <td>Why do black England players always get so muc...</td>\n",
       "      <td>0</td>\n",
       "      <td>4</td>\n",
       "    </tr>\n",
       "    <tr>\n",
       "      <th>4</th>\n",
       "      <td>2022-12-10 23:59:46+00:00</td>\n",
       "      <td>Mexitly81</td>\n",
       "      <td>California, USA</td>\n",
       "      <td>No surprise, classless organization. I guess i...</td>\n",
       "      <td>0</td>\n",
       "      <td>0</td>\n",
       "    </tr>\n",
       "  </tbody>\n",
       "</table>\n",
       "</div>"
      ],
      "text/plain": [
       "                        Date       Username            Locations  \\\n",
       "0  2022-12-10 23:59:57+00:00     OSUBlockie         Columbus, OH   \n",
       "1  2022-12-10 23:59:54+00:00  standardsport      London, England   \n",
       "2  2022-12-10 23:59:52+00:00    MpatrioticM  ⵜⴰⴳⵍⴷⵉⵜ ⵏ ⵍⵎⵖⵔⵉⴱ 🇲🇦   \n",
       "3  2022-12-10 23:59:52+00:00      masuma114      London, England   \n",
       "4  2022-12-10 23:59:46+00:00      Mexitly81      California, USA   \n",
       "\n",
       "                                             Content  Retweets  Favorites  \n",
       "0  I just earned the 'World Pint (2022)' badge on...         0          0  \n",
       "1  France 🆚 Morocco\\n\\n📆 Date\\n⏰ Kick-off time\\n📺...         0          5  \n",
       "2  Glory to Africa ❤️\\n#FIFAWorldCup2022 https://...        10         70  \n",
       "3  Why do black England players always get so muc...         0          4  \n",
       "4  No surprise, classless organization. I guess i...         0          0  "
      ]
     },
     "execution_count": 129,
     "metadata": {},
     "output_type": "execute_result"
    }
   ],
   "source": [
    "path = r\"C:\\Users\\user\\Documents\\DA Projects\\Python\\FIFA_CSV\"\n",
    "all_csv_files = glob.glob(path + \"/*.csv\")\n",
    "\n",
    "tweets = []\n",
    "\n",
    "# Convert each csv to a dataframe\n",
    "\n",
    "for filename in all_csv_files:\n",
    "    df = pd.read_csv(filename, index_col = None, header = 0) \n",
    "    tweets.append(df)\n",
    "    \n",
    "# Merge all dataframes\n",
    "\n",
    "FIFA_df = pd.concat(tweets, axis=0, ignore_index = True) \n",
    "\n",
    "FIFA_df.head()"
   ]
  },
  {
   "cell_type": "code",
   "execution_count": 49,
   "id": "44085acd",
   "metadata": {},
   "outputs": [],
   "source": [
    "# Save df to one csv file\n",
    "\n",
    "FIFA_df.to_csv(\"FIFA_World_Cup_2022.csv\", index = False)"
   ]
  },
  {
   "cell_type": "code",
   "execution_count": 215,
   "id": "48886171",
   "metadata": {},
   "outputs": [],
   "source": [
    "# Read the csv file into dataframe\n",
    "df = pd.read_csv(\"FIFA_World_Cup_2022.csv\")"
   ]
  },
  {
   "cell_type": "code",
   "execution_count": 216,
   "id": "c67f6ad1",
   "metadata": {},
   "outputs": [
    {
     "data": {
      "text/html": [
       "<div>\n",
       "<style scoped>\n",
       "    .dataframe tbody tr th:only-of-type {\n",
       "        vertical-align: middle;\n",
       "    }\n",
       "\n",
       "    .dataframe tbody tr th {\n",
       "        vertical-align: top;\n",
       "    }\n",
       "\n",
       "    .dataframe thead th {\n",
       "        text-align: right;\n",
       "    }\n",
       "</style>\n",
       "<table border=\"1\" class=\"dataframe\">\n",
       "  <thead>\n",
       "    <tr style=\"text-align: right;\">\n",
       "      <th></th>\n",
       "      <th>Date</th>\n",
       "      <th>Username</th>\n",
       "      <th>Locations</th>\n",
       "      <th>Content</th>\n",
       "      <th>Retweets</th>\n",
       "      <th>Favorites</th>\n",
       "    </tr>\n",
       "  </thead>\n",
       "  <tbody>\n",
       "    <tr>\n",
       "      <th>617018</th>\n",
       "      <td>2022-11-20 15:07:31+00:00</td>\n",
       "      <td>sataekooklang</td>\n",
       "      <td>NaN</td>\n",
       "      <td>Jungkookie! 😭 \\n💜\\n#DreamersJungkook \\n#Dreame...</td>\n",
       "      <td>10</td>\n",
       "      <td>41</td>\n",
       "    </tr>\n",
       "    <tr>\n",
       "      <th>617019</th>\n",
       "      <td>2022-11-20 15:07:31+00:00</td>\n",
       "      <td>Sir_Stevensarp</td>\n",
       "      <td>AngelTown</td>\n",
       "      <td>The tune dey go on though. #FIFAWorldCup</td>\n",
       "      <td>0</td>\n",
       "      <td>1</td>\n",
       "    </tr>\n",
       "    <tr>\n",
       "      <th>617020</th>\n",
       "      <td>2022-11-20 15:07:31+00:00</td>\n",
       "      <td>kassimisola</td>\n",
       "      <td>London, England</td>\n",
       "      <td>I knew the opening ceremony in Qatar will be a...</td>\n",
       "      <td>0</td>\n",
       "      <td>0</td>\n",
       "    </tr>\n",
       "    <tr>\n",
       "      <th>617021</th>\n",
       "      <td>2022-11-20 15:07:31+00:00</td>\n",
       "      <td>btslostacc</td>\n",
       "      <td>♡</td>\n",
       "      <td>Jungkook slayed #WorldCup2022</td>\n",
       "      <td>0</td>\n",
       "      <td>0</td>\n",
       "    </tr>\n",
       "    <tr>\n",
       "      <th>617022</th>\n",
       "      <td>2022-11-20 15:07:30+00:00</td>\n",
       "      <td>natasyaeffriani</td>\n",
       "      <td>Jakarta</td>\n",
       "      <td>not me crying every time i watch a sports fest...</td>\n",
       "      <td>0</td>\n",
       "      <td>0</td>\n",
       "    </tr>\n",
       "  </tbody>\n",
       "</table>\n",
       "</div>"
      ],
      "text/plain": [
       "                             Date         Username        Locations  \\\n",
       "617018  2022-11-20 15:07:31+00:00    sataekooklang              NaN   \n",
       "617019  2022-11-20 15:07:31+00:00   Sir_Stevensarp        AngelTown   \n",
       "617020  2022-11-20 15:07:31+00:00      kassimisola  London, England   \n",
       "617021  2022-11-20 15:07:31+00:00       btslostacc                ♡   \n",
       "617022  2022-11-20 15:07:30+00:00  natasyaeffriani          Jakarta   \n",
       "\n",
       "                                                  Content  Retweets  Favorites  \n",
       "617018  Jungkookie! 😭 \\n💜\\n#DreamersJungkook \\n#Dreame...        10         41  \n",
       "617019           The tune dey go on though. #FIFAWorldCup         0          1  \n",
       "617020  I knew the opening ceremony in Qatar will be a...         0          0  \n",
       "617021                      Jungkook slayed #WorldCup2022         0          0  \n",
       "617022  not me crying every time i watch a sports fest...         0          0  "
      ]
     },
     "execution_count": 216,
     "metadata": {},
     "output_type": "execute_result"
    }
   ],
   "source": [
    "df.tail()"
   ]
  },
  {
   "cell_type": "markdown",
   "id": "34ea2ae3",
   "metadata": {},
   "source": [
    "## 2 - Basic Data Cleaning"
   ]
  },
  {
   "cell_type": "markdown",
   "id": "6e4dd26f",
   "metadata": {},
   "source": [
    "### Define \n",
    "Check null values"
   ]
  },
  {
   "cell_type": "markdown",
   "id": "c9412459",
   "metadata": {},
   "source": [
    "### Code"
   ]
  },
  {
   "cell_type": "code",
   "execution_count": 217,
   "id": "5b34a67e",
   "metadata": {},
   "outputs": [
    {
     "data": {
      "text/plain": [
       "Date              0\n",
       "Username          2\n",
       "Locations    176454\n",
       "Content           0\n",
       "Retweets          0\n",
       "Favorites         0\n",
       "dtype: int64"
      ]
     },
     "execution_count": 217,
     "metadata": {},
     "output_type": "execute_result"
    }
   ],
   "source": [
    "#Check null values\n",
    "df.isnull().sum()"
   ]
  },
  {
   "cell_type": "markdown",
   "id": "d9139875",
   "metadata": {},
   "source": [
    "###### The null location is understandable given that not every Twitter user tweets from their location, but I will look into the null value in the username further."
   ]
  },
  {
   "cell_type": "code",
   "execution_count": 8,
   "id": "639c67a8",
   "metadata": {},
   "outputs": [
    {
     "data": {
      "text/html": [
       "<div>\n",
       "<style scoped>\n",
       "    .dataframe tbody tr th:only-of-type {\n",
       "        vertical-align: middle;\n",
       "    }\n",
       "\n",
       "    .dataframe tbody tr th {\n",
       "        vertical-align: top;\n",
       "    }\n",
       "\n",
       "    .dataframe thead th {\n",
       "        text-align: right;\n",
       "    }\n",
       "</style>\n",
       "<table border=\"1\" class=\"dataframe\">\n",
       "  <thead>\n",
       "    <tr style=\"text-align: right;\">\n",
       "      <th></th>\n",
       "      <th>Date</th>\n",
       "      <th>Username</th>\n",
       "      <th>Locations</th>\n",
       "      <th>Content</th>\n",
       "      <th>Retweets</th>\n",
       "      <th>Favorites</th>\n",
       "    </tr>\n",
       "  </thead>\n",
       "  <tbody>\n",
       "    <tr>\n",
       "      <th>452511</th>\n",
       "      <td>2022-11-15 00:22:14+00:00</td>\n",
       "      <td>NaN</td>\n",
       "      <td>San Antonio, TX</td>\n",
       "      <td>Shirts ordered for #WorldCup2022 https://t.co/...</td>\n",
       "      <td>0</td>\n",
       "      <td>3</td>\n",
       "    </tr>\n",
       "    <tr>\n",
       "      <th>528135</th>\n",
       "      <td>2022-11-20 19:06:54+00:00</td>\n",
       "      <td>NaN</td>\n",
       "      <td>San Antonio, TX</td>\n",
       "      <td>On the road to Doha starting at @SATairport #F...</td>\n",
       "      <td>0</td>\n",
       "      <td>11</td>\n",
       "    </tr>\n",
       "  </tbody>\n",
       "</table>\n",
       "</div>"
      ],
      "text/plain": [
       "                             Date Username        Locations  \\\n",
       "452511  2022-11-15 00:22:14+00:00      NaN  San Antonio, TX   \n",
       "528135  2022-11-20 19:06:54+00:00      NaN  San Antonio, TX   \n",
       "\n",
       "                                                  Content  Retweets  Favorites  \n",
       "452511  Shirts ordered for #WorldCup2022 https://t.co/...         0          3  \n",
       "528135  On the road to Doha starting at @SATairport #F...         0         11  "
      ]
     },
     "execution_count": 8,
     "metadata": {},
     "output_type": "execute_result"
    }
   ],
   "source": [
    "df[df['Username'].isnull()]"
   ]
  },
  {
   "cell_type": "markdown",
   "id": "8c544b90",
   "metadata": {},
   "source": [
    "### Test"
   ]
  },
  {
   "cell_type": "code",
   "execution_count": 218,
   "id": "ce8e2b3c",
   "metadata": {},
   "outputs": [
    {
     "data": {
      "text/plain": [
       "Date              0\n",
       "Username          0\n",
       "Locations    176454\n",
       "Content           0\n",
       "Retweets          0\n",
       "Favorites         0\n",
       "dtype: int64"
      ]
     },
     "execution_count": 218,
     "metadata": {},
     "output_type": "execute_result"
    }
   ],
   "source": [
    "# Drop the null values in the USername column\n",
    "\n",
    "df.dropna(subset=['Username'], inplace=True)\n",
    "\n",
    "#Check again\n",
    "df.isnull().sum()"
   ]
  },
  {
   "cell_type": "code",
   "execution_count": 219,
   "id": "8d1385ab",
   "metadata": {},
   "outputs": [],
   "source": [
    "# Replace \"NaN\" values in the location with \"Unknown\"\n",
    "df[\"Locations\"].fillna(\"Unknown\", inplace = True)"
   ]
  },
  {
   "cell_type": "code",
   "execution_count": 60,
   "id": "90aace87",
   "metadata": {},
   "outputs": [
    {
     "data": {
      "text/plain": [
       "Date         0\n",
       "Username     0\n",
       "Locations    0\n",
       "Content      0\n",
       "Retweets     0\n",
       "Favorites    0\n",
       "dtype: int64"
      ]
     },
     "execution_count": 60,
     "metadata": {},
     "output_type": "execute_result"
    }
   ],
   "source": [
    "#Check again\n",
    "df.isnull().sum()"
   ]
  },
  {
   "cell_type": "markdown",
   "id": "0f26c036",
   "metadata": {},
   "source": [
    "### Define \n",
    "Check for duplicates"
   ]
  },
  {
   "cell_type": "markdown",
   "id": "8d362380",
   "metadata": {},
   "source": [
    "### Code"
   ]
  },
  {
   "cell_type": "code",
   "execution_count": 220,
   "id": "c53d5d61",
   "metadata": {},
   "outputs": [
    {
     "data": {
      "text/plain": [
       "15"
      ]
     },
     "execution_count": 220,
     "metadata": {},
     "output_type": "execute_result"
    }
   ],
   "source": [
    "# Check for duolicates\n",
    "df.duplicated().sum()"
   ]
  },
  {
   "cell_type": "code",
   "execution_count": 221,
   "id": "54ef32cf",
   "metadata": {},
   "outputs": [],
   "source": [
    "# Drop the duplicate rows\n",
    "df.drop_duplicates(subset=None, keep=\"first\", inplace=True)"
   ]
  },
  {
   "cell_type": "markdown",
   "id": "1caa4b0a",
   "metadata": {},
   "source": [
    "### Test"
   ]
  },
  {
   "cell_type": "code",
   "execution_count": 13,
   "id": "3a71b7d9",
   "metadata": {},
   "outputs": [
    {
     "data": {
      "text/plain": [
       "0"
      ]
     },
     "execution_count": 13,
     "metadata": {},
     "output_type": "execute_result"
    }
   ],
   "source": [
    "#Check again for duplicates\n",
    "df.duplicated().sum()"
   ]
  },
  {
   "cell_type": "code",
   "execution_count": 222,
   "id": "3f77d991",
   "metadata": {},
   "outputs": [
    {
     "data": {
      "text/html": [
       "<div>\n",
       "<style scoped>\n",
       "    .dataframe tbody tr th:only-of-type {\n",
       "        vertical-align: middle;\n",
       "    }\n",
       "\n",
       "    .dataframe tbody tr th {\n",
       "        vertical-align: top;\n",
       "    }\n",
       "\n",
       "    .dataframe thead th {\n",
       "        text-align: right;\n",
       "    }\n",
       "</style>\n",
       "<table border=\"1\" class=\"dataframe\">\n",
       "  <thead>\n",
       "    <tr style=\"text-align: right;\">\n",
       "      <th></th>\n",
       "      <th>Retweets</th>\n",
       "      <th>Favorites</th>\n",
       "    </tr>\n",
       "  </thead>\n",
       "  <tbody>\n",
       "    <tr>\n",
       "      <th>count</th>\n",
       "      <td>617006.000000</td>\n",
       "      <td>617006.000000</td>\n",
       "    </tr>\n",
       "    <tr>\n",
       "      <th>mean</th>\n",
       "      <td>5.651269</td>\n",
       "      <td>33.051810</td>\n",
       "    </tr>\n",
       "    <tr>\n",
       "      <th>std</th>\n",
       "      <td>457.320311</td>\n",
       "      <td>1481.945343</td>\n",
       "    </tr>\n",
       "    <tr>\n",
       "      <th>min</th>\n",
       "      <td>0.000000</td>\n",
       "      <td>0.000000</td>\n",
       "    </tr>\n",
       "    <tr>\n",
       "      <th>25%</th>\n",
       "      <td>0.000000</td>\n",
       "      <td>0.000000</td>\n",
       "    </tr>\n",
       "    <tr>\n",
       "      <th>50%</th>\n",
       "      <td>0.000000</td>\n",
       "      <td>1.000000</td>\n",
       "    </tr>\n",
       "    <tr>\n",
       "      <th>75%</th>\n",
       "      <td>0.000000</td>\n",
       "      <td>2.000000</td>\n",
       "    </tr>\n",
       "    <tr>\n",
       "      <th>max</th>\n",
       "      <td>296698.000000</td>\n",
       "      <td>793393.000000</td>\n",
       "    </tr>\n",
       "  </tbody>\n",
       "</table>\n",
       "</div>"
      ],
      "text/plain": [
       "            Retweets      Favorites\n",
       "count  617006.000000  617006.000000\n",
       "mean        5.651269      33.051810\n",
       "std       457.320311    1481.945343\n",
       "min         0.000000       0.000000\n",
       "25%         0.000000       0.000000\n",
       "50%         0.000000       1.000000\n",
       "75%         0.000000       2.000000\n",
       "max    296698.000000  793393.000000"
      ]
     },
     "execution_count": 222,
     "metadata": {},
     "output_type": "execute_result"
    }
   ],
   "source": [
    "#Check the description of the dataset\n",
    "df.describe()"
   ]
  },
  {
   "cell_type": "code",
   "execution_count": 223,
   "id": "61d812e7",
   "metadata": {},
   "outputs": [
    {
     "name": "stdout",
     "output_type": "stream",
     "text": [
      "<class 'pandas.core.frame.DataFrame'>\n",
      "Int64Index: 617006 entries, 0 to 617022\n",
      "Data columns (total 6 columns):\n",
      " #   Column     Non-Null Count   Dtype \n",
      "---  ------     --------------   ----- \n",
      " 0   Date       617006 non-null  object\n",
      " 1   Username   617006 non-null  object\n",
      " 2   Locations  617006 non-null  object\n",
      " 3   Content    617006 non-null  object\n",
      " 4   Retweets   617006 non-null  int64 \n",
      " 5   Favorites  617006 non-null  int64 \n",
      "dtypes: int64(2), object(4)\n",
      "memory usage: 33.0+ MB\n"
     ]
    }
   ],
   "source": [
    "# Check the dataset info\n",
    "df.info()"
   ]
  },
  {
   "cell_type": "markdown",
   "id": "1daa080c",
   "metadata": {},
   "source": [
    "### Define \n",
    "Convert date column to the correct data type"
   ]
  },
  {
   "cell_type": "markdown",
   "id": "7b152064",
   "metadata": {},
   "source": [
    "### Code"
   ]
  },
  {
   "cell_type": "code",
   "execution_count": 224,
   "id": "b0ec4b63",
   "metadata": {},
   "outputs": [],
   "source": [
    "# Convert the date column to datetime type\n",
    "\n",
    "df['Date'] = df['Date'].apply(pd.to_datetime)"
   ]
  },
  {
   "cell_type": "markdown",
   "id": "81e942cb",
   "metadata": {},
   "source": [
    "### Test"
   ]
  },
  {
   "cell_type": "code",
   "execution_count": 225,
   "id": "b0ca2e9c",
   "metadata": {},
   "outputs": [
    {
     "data": {
      "text/plain": [
       "datetime64[ns, UTC]"
      ]
     },
     "execution_count": 225,
     "metadata": {},
     "output_type": "execute_result"
    }
   ],
   "source": [
    "# Check the dataset\n",
    "df['Date'].dtypes"
   ]
  },
  {
   "cell_type": "markdown",
   "id": "f7f6f78d",
   "metadata": {},
   "source": [
    "## 3 - Preparing data for tokenization"
   ]
  },
  {
   "cell_type": "markdown",
   "id": "5b8b1ff0",
   "metadata": {},
   "source": [
    "### Define\n",
    "I will use Preprocessor library to clean the tweet column and remove - URLs, Hashtags, Mentions, Reserved words (RT, FAV),Emojis and Smileys"
   ]
  },
  {
   "cell_type": "code",
   "execution_count": 226,
   "id": "fef17367",
   "metadata": {},
   "outputs": [],
   "source": [
    "# Calling a function to clean the tweet\n",
    "def preprocess_tweet(df):\n",
    "    text = df['Content']\n",
    "    text = p.clean(text)\n",
    "    return text\n",
    "df['clean_tweet'] = df.apply(preprocess_tweet, axis=1)"
   ]
  },
  {
   "cell_type": "markdown",
   "id": "17c7b079",
   "metadata": {},
   "source": [
    "### Test"
   ]
  },
  {
   "cell_type": "code",
   "execution_count": 227,
   "id": "be6a684e",
   "metadata": {},
   "outputs": [
    {
     "data": {
      "text/html": [
       "<div>\n",
       "<style scoped>\n",
       "    .dataframe tbody tr th:only-of-type {\n",
       "        vertical-align: middle;\n",
       "    }\n",
       "\n",
       "    .dataframe tbody tr th {\n",
       "        vertical-align: top;\n",
       "    }\n",
       "\n",
       "    .dataframe thead th {\n",
       "        text-align: right;\n",
       "    }\n",
       "</style>\n",
       "<table border=\"1\" class=\"dataframe\">\n",
       "  <thead>\n",
       "    <tr style=\"text-align: right;\">\n",
       "      <th></th>\n",
       "      <th>Date</th>\n",
       "      <th>Username</th>\n",
       "      <th>Locations</th>\n",
       "      <th>Content</th>\n",
       "      <th>Retweets</th>\n",
       "      <th>Favorites</th>\n",
       "      <th>clean_tweet</th>\n",
       "    </tr>\n",
       "  </thead>\n",
       "  <tbody>\n",
       "    <tr>\n",
       "      <th>0</th>\n",
       "      <td>2022-12-10 23:59:57+00:00</td>\n",
       "      <td>OSUBlockie</td>\n",
       "      <td>Columbus, OH</td>\n",
       "      <td>I just earned the 'World Pint (2022)' badge on...</td>\n",
       "      <td>0</td>\n",
       "      <td>0</td>\n",
       "      <td>I just earned the 'World Pint (2022)' badge on !</td>\n",
       "    </tr>\n",
       "    <tr>\n",
       "      <th>1</th>\n",
       "      <td>2022-12-10 23:59:54+00:00</td>\n",
       "      <td>standardsport</td>\n",
       "      <td>London, England</td>\n",
       "      <td>France 🆚 Morocco\\n\\n📆 Date\\n⏰ Kick-off time\\n📺...</td>\n",
       "      <td>0</td>\n",
       "      <td>5</td>\n",
       "      <td>France Morocco Date Kick-off time How to watch...</td>\n",
       "    </tr>\n",
       "    <tr>\n",
       "      <th>2</th>\n",
       "      <td>2022-12-10 23:59:52+00:00</td>\n",
       "      <td>MpatrioticM</td>\n",
       "      <td>ⵜⴰⴳⵍⴷⵉⵜ ⵏ ⵍⵎⵖⵔⵉⴱ 🇲🇦</td>\n",
       "      <td>Glory to Africa ❤️\\n#FIFAWorldCup2022 https://...</td>\n",
       "      <td>10</td>\n",
       "      <td>70</td>\n",
       "      <td>Glory to Africa</td>\n",
       "    </tr>\n",
       "    <tr>\n",
       "      <th>3</th>\n",
       "      <td>2022-12-10 23:59:52+00:00</td>\n",
       "      <td>masuma114</td>\n",
       "      <td>London, England</td>\n",
       "      <td>Why do black England players always get so muc...</td>\n",
       "      <td>0</td>\n",
       "      <td>4</td>\n",
       "      <td>Why do black England players always get so muc...</td>\n",
       "    </tr>\n",
       "    <tr>\n",
       "      <th>4</th>\n",
       "      <td>2022-12-10 23:59:46+00:00</td>\n",
       "      <td>Mexitly81</td>\n",
       "      <td>California, USA</td>\n",
       "      <td>No surprise, classless organization. I guess i...</td>\n",
       "      <td>0</td>\n",
       "      <td>0</td>\n",
       "      <td>No surprise, classless organization. I guess i...</td>\n",
       "    </tr>\n",
       "  </tbody>\n",
       "</table>\n",
       "</div>"
      ],
      "text/plain": [
       "                       Date       Username            Locations  \\\n",
       "0 2022-12-10 23:59:57+00:00     OSUBlockie         Columbus, OH   \n",
       "1 2022-12-10 23:59:54+00:00  standardsport      London, England   \n",
       "2 2022-12-10 23:59:52+00:00    MpatrioticM  ⵜⴰⴳⵍⴷⵉⵜ ⵏ ⵍⵎⵖⵔⵉⴱ 🇲🇦   \n",
       "3 2022-12-10 23:59:52+00:00      masuma114      London, England   \n",
       "4 2022-12-10 23:59:46+00:00      Mexitly81      California, USA   \n",
       "\n",
       "                                             Content  Retweets  Favorites  \\\n",
       "0  I just earned the 'World Pint (2022)' badge on...         0          0   \n",
       "1  France 🆚 Morocco\\n\\n📆 Date\\n⏰ Kick-off time\\n📺...         0          5   \n",
       "2  Glory to Africa ❤️\\n#FIFAWorldCup2022 https://...        10         70   \n",
       "3  Why do black England players always get so muc...         0          4   \n",
       "4  No surprise, classless organization. I guess i...         0          0   \n",
       "\n",
       "                                         clean_tweet  \n",
       "0   I just earned the 'World Pint (2022)' badge on !  \n",
       "1  France Morocco Date Kick-off time How to watch...  \n",
       "2                                    Glory to Africa  \n",
       "3  Why do black England players always get so muc...  \n",
       "4  No surprise, classless organization. I guess i...  "
      ]
     },
     "execution_count": 227,
     "metadata": {},
     "output_type": "execute_result"
    }
   ],
   "source": [
    "df.head()"
   ]
  },
  {
   "cell_type": "code",
   "execution_count": 228,
   "id": "261614d9",
   "metadata": {},
   "outputs": [],
   "source": [
    "df['hashtag'] = df['Content'].apply(lambda x: re.findall(r'#(\\w+)', x))"
   ]
  },
  {
   "cell_type": "code",
   "execution_count": 229,
   "id": "525d5702",
   "metadata": {
    "scrolled": true
   },
   "outputs": [
    {
     "data": {
      "text/html": [
       "<div>\n",
       "<style scoped>\n",
       "    .dataframe tbody tr th:only-of-type {\n",
       "        vertical-align: middle;\n",
       "    }\n",
       "\n",
       "    .dataframe tbody tr th {\n",
       "        vertical-align: top;\n",
       "    }\n",
       "\n",
       "    .dataframe thead th {\n",
       "        text-align: right;\n",
       "    }\n",
       "</style>\n",
       "<table border=\"1\" class=\"dataframe\">\n",
       "  <thead>\n",
       "    <tr style=\"text-align: right;\">\n",
       "      <th></th>\n",
       "      <th>Date</th>\n",
       "      <th>Username</th>\n",
       "      <th>Locations</th>\n",
       "      <th>Content</th>\n",
       "      <th>Retweets</th>\n",
       "      <th>Favorites</th>\n",
       "      <th>clean_tweet</th>\n",
       "      <th>hashtag</th>\n",
       "    </tr>\n",
       "  </thead>\n",
       "  <tbody>\n",
       "    <tr>\n",
       "      <th>0</th>\n",
       "      <td>2022-12-10 23:59:57+00:00</td>\n",
       "      <td>OSUBlockie</td>\n",
       "      <td>Columbus, OH</td>\n",
       "      <td>I just earned the 'World Pint (2022)' badge on...</td>\n",
       "      <td>0</td>\n",
       "      <td>0</td>\n",
       "      <td>I just earned the 'World Pint (2022)' badge on !</td>\n",
       "      <td>[football, fifaworldcup, worldcup]</td>\n",
       "    </tr>\n",
       "    <tr>\n",
       "      <th>1</th>\n",
       "      <td>2022-12-10 23:59:54+00:00</td>\n",
       "      <td>standardsport</td>\n",
       "      <td>London, England</td>\n",
       "      <td>France 🆚 Morocco\\n\\n📆 Date\\n⏰ Kick-off time\\n📺...</td>\n",
       "      <td>0</td>\n",
       "      <td>5</td>\n",
       "      <td>France Morocco Date Kick-off time How to watch...</td>\n",
       "      <td>[FIFAWorldCup, FRA, MAR]</td>\n",
       "    </tr>\n",
       "  </tbody>\n",
       "</table>\n",
       "</div>"
      ],
      "text/plain": [
       "                       Date       Username        Locations  \\\n",
       "0 2022-12-10 23:59:57+00:00     OSUBlockie     Columbus, OH   \n",
       "1 2022-12-10 23:59:54+00:00  standardsport  London, England   \n",
       "\n",
       "                                             Content  Retweets  Favorites  \\\n",
       "0  I just earned the 'World Pint (2022)' badge on...         0          0   \n",
       "1  France 🆚 Morocco\\n\\n📆 Date\\n⏰ Kick-off time\\n📺...         0          5   \n",
       "\n",
       "                                         clean_tweet  \\\n",
       "0   I just earned the 'World Pint (2022)' badge on !   \n",
       "1  France Morocco Date Kick-off time How to watch...   \n",
       "\n",
       "                              hashtag  \n",
       "0  [football, fifaworldcup, worldcup]  \n",
       "1            [FIFAWorldCup, FRA, MAR]  "
      ]
     },
     "execution_count": 229,
     "metadata": {},
     "output_type": "execute_result"
    }
   ],
   "source": [
    "df.head(2)"
   ]
  },
  {
   "cell_type": "markdown",
   "id": "b0237346",
   "metadata": {},
   "source": [
    "### Define\n",
    "Convert tweets to lowercase"
   ]
  },
  {
   "cell_type": "markdown",
   "id": "0e097cbe",
   "metadata": {},
   "source": [
    "### Code"
   ]
  },
  {
   "cell_type": "code",
   "execution_count": 230,
   "id": "57729da1",
   "metadata": {},
   "outputs": [],
   "source": [
    "df['clean_tweet'] = df['clean_tweet'].astype(str).str.lower()"
   ]
  },
  {
   "cell_type": "markdown",
   "id": "7efc8023",
   "metadata": {},
   "source": [
    "### Test"
   ]
  },
  {
   "cell_type": "code",
   "execution_count": 231,
   "id": "79617cbf",
   "metadata": {},
   "outputs": [
    {
     "data": {
      "text/html": [
       "<div>\n",
       "<style scoped>\n",
       "    .dataframe tbody tr th:only-of-type {\n",
       "        vertical-align: middle;\n",
       "    }\n",
       "\n",
       "    .dataframe tbody tr th {\n",
       "        vertical-align: top;\n",
       "    }\n",
       "\n",
       "    .dataframe thead th {\n",
       "        text-align: right;\n",
       "    }\n",
       "</style>\n",
       "<table border=\"1\" class=\"dataframe\">\n",
       "  <thead>\n",
       "    <tr style=\"text-align: right;\">\n",
       "      <th></th>\n",
       "      <th>Date</th>\n",
       "      <th>Username</th>\n",
       "      <th>Locations</th>\n",
       "      <th>Content</th>\n",
       "      <th>Retweets</th>\n",
       "      <th>Favorites</th>\n",
       "      <th>clean_tweet</th>\n",
       "      <th>hashtag</th>\n",
       "    </tr>\n",
       "  </thead>\n",
       "  <tbody>\n",
       "    <tr>\n",
       "      <th>0</th>\n",
       "      <td>2022-12-10 23:59:57+00:00</td>\n",
       "      <td>OSUBlockie</td>\n",
       "      <td>Columbus, OH</td>\n",
       "      <td>I just earned the 'World Pint (2022)' badge on...</td>\n",
       "      <td>0</td>\n",
       "      <td>0</td>\n",
       "      <td>i just earned the 'world pint (2022)' badge on !</td>\n",
       "      <td>[football, fifaworldcup, worldcup]</td>\n",
       "    </tr>\n",
       "    <tr>\n",
       "      <th>1</th>\n",
       "      <td>2022-12-10 23:59:54+00:00</td>\n",
       "      <td>standardsport</td>\n",
       "      <td>London, England</td>\n",
       "      <td>France 🆚 Morocco\\n\\n📆 Date\\n⏰ Kick-off time\\n📺...</td>\n",
       "      <td>0</td>\n",
       "      <td>5</td>\n",
       "      <td>france morocco date kick-off time how to watch...</td>\n",
       "      <td>[FIFAWorldCup, FRA, MAR]</td>\n",
       "    </tr>\n",
       "    <tr>\n",
       "      <th>2</th>\n",
       "      <td>2022-12-10 23:59:52+00:00</td>\n",
       "      <td>MpatrioticM</td>\n",
       "      <td>ⵜⴰⴳⵍⴷⵉⵜ ⵏ ⵍⵎⵖⵔⵉⴱ 🇲🇦</td>\n",
       "      <td>Glory to Africa ❤️\\n#FIFAWorldCup2022 https://...</td>\n",
       "      <td>10</td>\n",
       "      <td>70</td>\n",
       "      <td>glory to africa</td>\n",
       "      <td>[FIFAWorldCup2022]</td>\n",
       "    </tr>\n",
       "    <tr>\n",
       "      <th>3</th>\n",
       "      <td>2022-12-10 23:59:52+00:00</td>\n",
       "      <td>masuma114</td>\n",
       "      <td>London, England</td>\n",
       "      <td>Why do black England players always get so muc...</td>\n",
       "      <td>0</td>\n",
       "      <td>4</td>\n",
       "      <td>why do black england players always get so muc...</td>\n",
       "      <td>[WorldCup2022, England]</td>\n",
       "    </tr>\n",
       "    <tr>\n",
       "      <th>4</th>\n",
       "      <td>2022-12-10 23:59:46+00:00</td>\n",
       "      <td>Mexitly81</td>\n",
       "      <td>California, USA</td>\n",
       "      <td>No surprise, classless organization. I guess i...</td>\n",
       "      <td>0</td>\n",
       "      <td>0</td>\n",
       "      <td>no surprise, classless organization. i guess i...</td>\n",
       "      <td>[WorldCup2022]</td>\n",
       "    </tr>\n",
       "  </tbody>\n",
       "</table>\n",
       "</div>"
      ],
      "text/plain": [
       "                       Date       Username            Locations  \\\n",
       "0 2022-12-10 23:59:57+00:00     OSUBlockie         Columbus, OH   \n",
       "1 2022-12-10 23:59:54+00:00  standardsport      London, England   \n",
       "2 2022-12-10 23:59:52+00:00    MpatrioticM  ⵜⴰⴳⵍⴷⵉⵜ ⵏ ⵍⵎⵖⵔⵉⴱ 🇲🇦   \n",
       "3 2022-12-10 23:59:52+00:00      masuma114      London, England   \n",
       "4 2022-12-10 23:59:46+00:00      Mexitly81      California, USA   \n",
       "\n",
       "                                             Content  Retweets  Favorites  \\\n",
       "0  I just earned the 'World Pint (2022)' badge on...         0          0   \n",
       "1  France 🆚 Morocco\\n\\n📆 Date\\n⏰ Kick-off time\\n📺...         0          5   \n",
       "2  Glory to Africa ❤️\\n#FIFAWorldCup2022 https://...        10         70   \n",
       "3  Why do black England players always get so muc...         0          4   \n",
       "4  No surprise, classless organization. I guess i...         0          0   \n",
       "\n",
       "                                         clean_tweet  \\\n",
       "0   i just earned the 'world pint (2022)' badge on !   \n",
       "1  france morocco date kick-off time how to watch...   \n",
       "2                                    glory to africa   \n",
       "3  why do black england players always get so muc...   \n",
       "4  no surprise, classless organization. i guess i...   \n",
       "\n",
       "                              hashtag  \n",
       "0  [football, fifaworldcup, worldcup]  \n",
       "1            [FIFAWorldCup, FRA, MAR]  \n",
       "2                  [FIFAWorldCup2022]  \n",
       "3             [WorldCup2022, England]  \n",
       "4                      [WorldCup2022]  "
      ]
     },
     "execution_count": 231,
     "metadata": {},
     "output_type": "execute_result"
    }
   ],
   "source": [
    "df.head()"
   ]
  },
  {
   "cell_type": "markdown",
   "id": "40d37499",
   "metadata": {},
   "source": [
    "## 4 - Tokenization"
   ]
  },
  {
   "cell_type": "markdown",
   "id": "c1b5c487",
   "metadata": {},
   "source": [
    "### Define\n",
    "Break up the tweets into units by performing tokenization"
   ]
  },
  {
   "cell_type": "markdown",
   "id": "8a1b9fb7",
   "metadata": {},
   "source": [
    "### Code"
   ]
  },
  {
   "cell_type": "code",
   "execution_count": 232,
   "id": "408bf370",
   "metadata": {},
   "outputs": [],
   "source": [
    "### Import RegexTokenizer\n",
    "\n",
    "from nltk.tokenize import RegexpTokenizer"
   ]
  },
  {
   "cell_type": "code",
   "execution_count": 233,
   "id": "7efe0a59",
   "metadata": {},
   "outputs": [],
   "source": [
    "regex = RegexpTokenizer('\\w+')\n",
    "\n",
    "df['tweet_token']=df['clean_tweet'].apply(regex.tokenize)"
   ]
  },
  {
   "cell_type": "markdown",
   "id": "ed95b0c4",
   "metadata": {},
   "source": [
    "### Test"
   ]
  },
  {
   "cell_type": "code",
   "execution_count": 234,
   "id": "f6effa07",
   "metadata": {},
   "outputs": [
    {
     "data": {
      "text/html": [
       "<div>\n",
       "<style scoped>\n",
       "    .dataframe tbody tr th:only-of-type {\n",
       "        vertical-align: middle;\n",
       "    }\n",
       "\n",
       "    .dataframe tbody tr th {\n",
       "        vertical-align: top;\n",
       "    }\n",
       "\n",
       "    .dataframe thead th {\n",
       "        text-align: right;\n",
       "    }\n",
       "</style>\n",
       "<table border=\"1\" class=\"dataframe\">\n",
       "  <thead>\n",
       "    <tr style=\"text-align: right;\">\n",
       "      <th></th>\n",
       "      <th>Date</th>\n",
       "      <th>Username</th>\n",
       "      <th>Locations</th>\n",
       "      <th>Content</th>\n",
       "      <th>Retweets</th>\n",
       "      <th>Favorites</th>\n",
       "      <th>clean_tweet</th>\n",
       "      <th>hashtag</th>\n",
       "      <th>tweet_token</th>\n",
       "    </tr>\n",
       "  </thead>\n",
       "  <tbody>\n",
       "    <tr>\n",
       "      <th>0</th>\n",
       "      <td>2022-12-10 23:59:57+00:00</td>\n",
       "      <td>OSUBlockie</td>\n",
       "      <td>Columbus, OH</td>\n",
       "      <td>I just earned the 'World Pint (2022)' badge on...</td>\n",
       "      <td>0</td>\n",
       "      <td>0</td>\n",
       "      <td>i just earned the 'world pint (2022)' badge on !</td>\n",
       "      <td>[football, fifaworldcup, worldcup]</td>\n",
       "      <td>[i, just, earned, the, world, pint, 2022, badg...</td>\n",
       "    </tr>\n",
       "    <tr>\n",
       "      <th>1</th>\n",
       "      <td>2022-12-10 23:59:54+00:00</td>\n",
       "      <td>standardsport</td>\n",
       "      <td>London, England</td>\n",
       "      <td>France 🆚 Morocco\\n\\n📆 Date\\n⏰ Kick-off time\\n📺...</td>\n",
       "      <td>0</td>\n",
       "      <td>5</td>\n",
       "      <td>france morocco date kick-off time how to watch...</td>\n",
       "      <td>[FIFAWorldCup, FRA, MAR]</td>\n",
       "      <td>[france, morocco, date, kick, off, time, how, ...</td>\n",
       "    </tr>\n",
       "    <tr>\n",
       "      <th>2</th>\n",
       "      <td>2022-12-10 23:59:52+00:00</td>\n",
       "      <td>MpatrioticM</td>\n",
       "      <td>ⵜⴰⴳⵍⴷⵉⵜ ⵏ ⵍⵎⵖⵔⵉⴱ 🇲🇦</td>\n",
       "      <td>Glory to Africa ❤️\\n#FIFAWorldCup2022 https://...</td>\n",
       "      <td>10</td>\n",
       "      <td>70</td>\n",
       "      <td>glory to africa</td>\n",
       "      <td>[FIFAWorldCup2022]</td>\n",
       "      <td>[glory, to, africa]</td>\n",
       "    </tr>\n",
       "    <tr>\n",
       "      <th>3</th>\n",
       "      <td>2022-12-10 23:59:52+00:00</td>\n",
       "      <td>masuma114</td>\n",
       "      <td>London, England</td>\n",
       "      <td>Why do black England players always get so muc...</td>\n",
       "      <td>0</td>\n",
       "      <td>4</td>\n",
       "      <td>why do black england players always get so muc...</td>\n",
       "      <td>[WorldCup2022, England]</td>\n",
       "      <td>[why, do, black, england, players, always, get...</td>\n",
       "    </tr>\n",
       "    <tr>\n",
       "      <th>4</th>\n",
       "      <td>2022-12-10 23:59:46+00:00</td>\n",
       "      <td>Mexitly81</td>\n",
       "      <td>California, USA</td>\n",
       "      <td>No surprise, classless organization. I guess i...</td>\n",
       "      <td>0</td>\n",
       "      <td>0</td>\n",
       "      <td>no surprise, classless organization. i guess i...</td>\n",
       "      <td>[WorldCup2022]</td>\n",
       "      <td>[no, surprise, classless, organization, i, gue...</td>\n",
       "    </tr>\n",
       "  </tbody>\n",
       "</table>\n",
       "</div>"
      ],
      "text/plain": [
       "                       Date       Username            Locations  \\\n",
       "0 2022-12-10 23:59:57+00:00     OSUBlockie         Columbus, OH   \n",
       "1 2022-12-10 23:59:54+00:00  standardsport      London, England   \n",
       "2 2022-12-10 23:59:52+00:00    MpatrioticM  ⵜⴰⴳⵍⴷⵉⵜ ⵏ ⵍⵎⵖⵔⵉⴱ 🇲🇦   \n",
       "3 2022-12-10 23:59:52+00:00      masuma114      London, England   \n",
       "4 2022-12-10 23:59:46+00:00      Mexitly81      California, USA   \n",
       "\n",
       "                                             Content  Retweets  Favorites  \\\n",
       "0  I just earned the 'World Pint (2022)' badge on...         0          0   \n",
       "1  France 🆚 Morocco\\n\\n📆 Date\\n⏰ Kick-off time\\n📺...         0          5   \n",
       "2  Glory to Africa ❤️\\n#FIFAWorldCup2022 https://...        10         70   \n",
       "3  Why do black England players always get so muc...         0          4   \n",
       "4  No surprise, classless organization. I guess i...         0          0   \n",
       "\n",
       "                                         clean_tweet  \\\n",
       "0   i just earned the 'world pint (2022)' badge on !   \n",
       "1  france morocco date kick-off time how to watch...   \n",
       "2                                    glory to africa   \n",
       "3  why do black england players always get so muc...   \n",
       "4  no surprise, classless organization. i guess i...   \n",
       "\n",
       "                              hashtag  \\\n",
       "0  [football, fifaworldcup, worldcup]   \n",
       "1            [FIFAWorldCup, FRA, MAR]   \n",
       "2                  [FIFAWorldCup2022]   \n",
       "3             [WorldCup2022, England]   \n",
       "4                      [WorldCup2022]   \n",
       "\n",
       "                                         tweet_token  \n",
       "0  [i, just, earned, the, world, pint, 2022, badg...  \n",
       "1  [france, morocco, date, kick, off, time, how, ...  \n",
       "2                                [glory, to, africa]  \n",
       "3  [why, do, black, england, players, always, get...  \n",
       "4  [no, surprise, classless, organization, i, gue...  "
      ]
     },
     "execution_count": 234,
     "metadata": {},
     "output_type": "execute_result"
    }
   ],
   "source": [
    "df.head()"
   ]
  },
  {
   "cell_type": "markdown",
   "id": "0df116c5",
   "metadata": {},
   "source": [
    "### Define\n",
    "Drop stop words from tweet token since they dont contain valuavle information and they take valuable processing time"
   ]
  },
  {
   "cell_type": "markdown",
   "id": "951bbc05",
   "metadata": {},
   "source": [
    "### Code"
   ]
  },
  {
   "cell_type": "code",
   "execution_count": 24,
   "id": "a9bc4075",
   "metadata": {},
   "outputs": [
    {
     "name": "stderr",
     "output_type": "stream",
     "text": [
      "[nltk_data] Downloading package stopwords to\n",
      "[nltk_data]     C:\\Users\\user\\AppData\\Roaming\\nltk_data...\n",
      "[nltk_data]   Package stopwords is already up-to-date!\n"
     ]
    },
    {
     "data": {
      "text/plain": [
       "True"
      ]
     },
     "execution_count": 24,
     "metadata": {},
     "output_type": "execute_result"
    }
   ],
   "source": [
    "# Import NLTK then download stopwords package\n",
    "\n",
    "import nltk\n",
    "\n",
    "nltk.download('stopwords')"
   ]
  },
  {
   "cell_type": "code",
   "execution_count": 235,
   "id": "6c883261",
   "metadata": {},
   "outputs": [],
   "source": [
    "from nltk.corpus import stopwords\n",
    "\n",
    "# list of english stopwords\n",
    "\n",
    "stopwords = nltk.corpus.stopwords.words(\"english\")"
   ]
  },
  {
   "cell_type": "code",
   "execution_count": 236,
   "id": "0865a098",
   "metadata": {},
   "outputs": [],
   "source": [
    "# Exclude stopwords with Python's list comprehensionn apply method\n",
    "\n",
    "df['tweet_token'] = df['tweet_token'].apply(lambda x: [item for item in x if item not in stopwords])"
   ]
  },
  {
   "cell_type": "markdown",
   "id": "acec105b",
   "metadata": {},
   "source": [
    "### Test"
   ]
  },
  {
   "cell_type": "code",
   "execution_count": 238,
   "id": "85ca1d05",
   "metadata": {},
   "outputs": [
    {
     "data": {
      "text/html": [
       "<div>\n",
       "<style scoped>\n",
       "    .dataframe tbody tr th:only-of-type {\n",
       "        vertical-align: middle;\n",
       "    }\n",
       "\n",
       "    .dataframe tbody tr th {\n",
       "        vertical-align: top;\n",
       "    }\n",
       "\n",
       "    .dataframe thead th {\n",
       "        text-align: right;\n",
       "    }\n",
       "</style>\n",
       "<table border=\"1\" class=\"dataframe\">\n",
       "  <thead>\n",
       "    <tr style=\"text-align: right;\">\n",
       "      <th></th>\n",
       "      <th>Date</th>\n",
       "      <th>Username</th>\n",
       "      <th>Locations</th>\n",
       "      <th>Content</th>\n",
       "      <th>Retweets</th>\n",
       "      <th>Favorites</th>\n",
       "      <th>clean_tweet</th>\n",
       "      <th>hashtag</th>\n",
       "      <th>tweet_token</th>\n",
       "    </tr>\n",
       "  </thead>\n",
       "  <tbody>\n",
       "    <tr>\n",
       "      <th>0</th>\n",
       "      <td>2022-12-10 23:59:57+00:00</td>\n",
       "      <td>OSUBlockie</td>\n",
       "      <td>Columbus, OH</td>\n",
       "      <td>I just earned the 'World Pint (2022)' badge on...</td>\n",
       "      <td>0</td>\n",
       "      <td>0</td>\n",
       "      <td>i just earned the 'world pint (2022)' badge on !</td>\n",
       "      <td>[football, fifaworldcup, worldcup]</td>\n",
       "      <td>[earned, world, pint, 2022, badge]</td>\n",
       "    </tr>\n",
       "    <tr>\n",
       "      <th>1</th>\n",
       "      <td>2022-12-10 23:59:54+00:00</td>\n",
       "      <td>standardsport</td>\n",
       "      <td>London, England</td>\n",
       "      <td>France 🆚 Morocco\\n\\n📆 Date\\n⏰ Kick-off time\\n📺...</td>\n",
       "      <td>0</td>\n",
       "      <td>5</td>\n",
       "      <td>france morocco date kick-off time how to watch...</td>\n",
       "      <td>[FIFAWorldCup, FRA, MAR]</td>\n",
       "      <td>[france, morocco, date, kick, time, watch, tea...</td>\n",
       "    </tr>\n",
       "  </tbody>\n",
       "</table>\n",
       "</div>"
      ],
      "text/plain": [
       "                       Date       Username        Locations  \\\n",
       "0 2022-12-10 23:59:57+00:00     OSUBlockie     Columbus, OH   \n",
       "1 2022-12-10 23:59:54+00:00  standardsport  London, England   \n",
       "\n",
       "                                             Content  Retweets  Favorites  \\\n",
       "0  I just earned the 'World Pint (2022)' badge on...         0          0   \n",
       "1  France 🆚 Morocco\\n\\n📆 Date\\n⏰ Kick-off time\\n📺...         0          5   \n",
       "\n",
       "                                         clean_tweet  \\\n",
       "0   i just earned the 'world pint (2022)' badge on !   \n",
       "1  france morocco date kick-off time how to watch...   \n",
       "\n",
       "                              hashtag  \\\n",
       "0  [football, fifaworldcup, worldcup]   \n",
       "1            [FIFAWorldCup, FRA, MAR]   \n",
       "\n",
       "                                         tweet_token  \n",
       "0                 [earned, world, pint, 2022, badge]  \n",
       "1  [france, morocco, date, kick, time, watch, tea...  "
      ]
     },
     "execution_count": 238,
     "metadata": {},
     "output_type": "execute_result"
    }
   ],
   "source": [
    "df.head(2)"
   ]
  },
  {
   "cell_type": "markdown",
   "id": "97d1b347",
   "metadata": {},
   "source": [
    "### Define\n",
    "Take a list of words in the \"tweet_token\" column, filtering out words with fewer than 3 characters, and creating a new string column \"tweet_string\" that contains the remaining words separated by spaces."
   ]
  },
  {
   "cell_type": "markdown",
   "id": "0320e24d",
   "metadata": {},
   "source": [
    "### Code"
   ]
  },
  {
   "cell_type": "code",
   "execution_count": 239,
   "id": "a2e25a3e",
   "metadata": {},
   "outputs": [],
   "source": [
    "df['tweet_string'] = df['tweet_token'].apply(lambda x: ' '.join([item for item in x if len(item)>2]))"
   ]
  },
  {
   "cell_type": "markdown",
   "id": "14440c18",
   "metadata": {},
   "source": [
    "### Test"
   ]
  },
  {
   "cell_type": "code",
   "execution_count": 240,
   "id": "7c6a7a0d",
   "metadata": {},
   "outputs": [
    {
     "data": {
      "text/html": [
       "<div>\n",
       "<style scoped>\n",
       "    .dataframe tbody tr th:only-of-type {\n",
       "        vertical-align: middle;\n",
       "    }\n",
       "\n",
       "    .dataframe tbody tr th {\n",
       "        vertical-align: top;\n",
       "    }\n",
       "\n",
       "    .dataframe thead th {\n",
       "        text-align: right;\n",
       "    }\n",
       "</style>\n",
       "<table border=\"1\" class=\"dataframe\">\n",
       "  <thead>\n",
       "    <tr style=\"text-align: right;\">\n",
       "      <th></th>\n",
       "      <th>Date</th>\n",
       "      <th>Username</th>\n",
       "      <th>Locations</th>\n",
       "      <th>Content</th>\n",
       "      <th>Retweets</th>\n",
       "      <th>Favorites</th>\n",
       "      <th>clean_tweet</th>\n",
       "      <th>hashtag</th>\n",
       "      <th>tweet_token</th>\n",
       "      <th>tweet_string</th>\n",
       "    </tr>\n",
       "  </thead>\n",
       "  <tbody>\n",
       "    <tr>\n",
       "      <th>0</th>\n",
       "      <td>2022-12-10 23:59:57+00:00</td>\n",
       "      <td>OSUBlockie</td>\n",
       "      <td>Columbus, OH</td>\n",
       "      <td>I just earned the 'World Pint (2022)' badge on...</td>\n",
       "      <td>0</td>\n",
       "      <td>0</td>\n",
       "      <td>i just earned the 'world pint (2022)' badge on !</td>\n",
       "      <td>[football, fifaworldcup, worldcup]</td>\n",
       "      <td>[earned, world, pint, 2022, badge]</td>\n",
       "      <td>earned world pint 2022 badge</td>\n",
       "    </tr>\n",
       "    <tr>\n",
       "      <th>1</th>\n",
       "      <td>2022-12-10 23:59:54+00:00</td>\n",
       "      <td>standardsport</td>\n",
       "      <td>London, England</td>\n",
       "      <td>France 🆚 Morocco\\n\\n📆 Date\\n⏰ Kick-off time\\n📺...</td>\n",
       "      <td>0</td>\n",
       "      <td>5</td>\n",
       "      <td>france morocco date kick-off time how to watch...</td>\n",
       "      <td>[FIFAWorldCup, FRA, MAR]</td>\n",
       "      <td>[france, morocco, date, kick, time, watch, tea...</td>\n",
       "      <td>france morocco date kick time watch team newsp...</td>\n",
       "    </tr>\n",
       "    <tr>\n",
       "      <th>2</th>\n",
       "      <td>2022-12-10 23:59:52+00:00</td>\n",
       "      <td>MpatrioticM</td>\n",
       "      <td>ⵜⴰⴳⵍⴷⵉⵜ ⵏ ⵍⵎⵖⵔⵉⴱ 🇲🇦</td>\n",
       "      <td>Glory to Africa ❤️\\n#FIFAWorldCup2022 https://...</td>\n",
       "      <td>10</td>\n",
       "      <td>70</td>\n",
       "      <td>glory to africa</td>\n",
       "      <td>[FIFAWorldCup2022]</td>\n",
       "      <td>[glory, africa]</td>\n",
       "      <td>glory africa</td>\n",
       "    </tr>\n",
       "  </tbody>\n",
       "</table>\n",
       "</div>"
      ],
      "text/plain": [
       "                       Date       Username            Locations  \\\n",
       "0 2022-12-10 23:59:57+00:00     OSUBlockie         Columbus, OH   \n",
       "1 2022-12-10 23:59:54+00:00  standardsport      London, England   \n",
       "2 2022-12-10 23:59:52+00:00    MpatrioticM  ⵜⴰⴳⵍⴷⵉⵜ ⵏ ⵍⵎⵖⵔⵉⴱ 🇲🇦   \n",
       "\n",
       "                                             Content  Retweets  Favorites  \\\n",
       "0  I just earned the 'World Pint (2022)' badge on...         0          0   \n",
       "1  France 🆚 Morocco\\n\\n📆 Date\\n⏰ Kick-off time\\n📺...         0          5   \n",
       "2  Glory to Africa ❤️\\n#FIFAWorldCup2022 https://...        10         70   \n",
       "\n",
       "                                         clean_tweet  \\\n",
       "0   i just earned the 'world pint (2022)' badge on !   \n",
       "1  france morocco date kick-off time how to watch...   \n",
       "2                                    glory to africa   \n",
       "\n",
       "                              hashtag  \\\n",
       "0  [football, fifaworldcup, worldcup]   \n",
       "1            [FIFAWorldCup, FRA, MAR]   \n",
       "2                  [FIFAWorldCup2022]   \n",
       "\n",
       "                                         tweet_token  \\\n",
       "0                 [earned, world, pint, 2022, badge]   \n",
       "1  [france, morocco, date, kick, time, watch, tea...   \n",
       "2                                    [glory, africa]   \n",
       "\n",
       "                                        tweet_string  \n",
       "0                       earned world pint 2022 badge  \n",
       "1  france morocco date kick time watch team newsp...  \n",
       "2                                       glory africa  "
      ]
     },
     "execution_count": 240,
     "metadata": {},
     "output_type": "execute_result"
    }
   ],
   "source": [
    "df.head(3)"
   ]
  },
  {
   "cell_type": "markdown",
   "id": "2b068b60",
   "metadata": {},
   "source": [
    "# Define\n",
    "Save the cleaned data"
   ]
  },
  {
   "cell_type": "code",
   "execution_count": 35,
   "id": "8e54c31f",
   "metadata": {},
   "outputs": [],
   "source": [
    "# Save cleaned dataframe\n",
    "df.to_pickle(\"cleaned_data.csv\")"
   ]
  },
  {
   "cell_type": "markdown",
   "id": "cb211667",
   "metadata": {},
   "source": [
    "### Define \n",
    "Create a single string that contains all the words in the \"tweet_string\" column, separated by spaces.This will be used for counting the frequency of individual words and to finally create a word cloud."
   ]
  },
  {
   "cell_type": "code",
   "execution_count": 241,
   "id": "60f03d22",
   "metadata": {},
   "outputs": [],
   "source": [
    "# all_words = ' '.join([word for word in df['tweet_string']])\n",
    "# Initialize an empty list to store words\n",
    "\n",
    "word_list = []\n",
    "\n",
    "# Loop over each row in the 'text_string' column of the DataFrame\n",
    "for text in df['tweet_string']:\n",
    "    # Split the text into individual words\n",
    "    words = text.split()\n",
    "    # Add the words to the list\n",
    "    word_list.extend(words)\n",
    "\n",
    "# Combine the words into a single string separated by spaces\n",
    "all_words = ' '.join(word_list)"
   ]
  },
  {
   "cell_type": "markdown",
   "id": "1884478a",
   "metadata": {},
   "source": [
    "### Define\n",
    "Tokenize the string of words in \"all_words\" using the word_tokenize method from the NLTK library, and stores the resulting list of tokens in a new variable called \"tokenized_words\""
   ]
  },
  {
   "cell_type": "code",
   "execution_count": 43,
   "id": "b5f32e8d",
   "metadata": {},
   "outputs": [
    {
     "name": "stderr",
     "output_type": "stream",
     "text": [
      "[nltk_data] Downloading package punkt to\n",
      "[nltk_data]     C:\\Users\\user\\AppData\\Roaming\\nltk_data...\n",
      "[nltk_data]   Unzipping tokenizers\\punkt.zip.\n"
     ]
    },
    {
     "data": {
      "text/plain": [
       "True"
      ]
     },
     "execution_count": 43,
     "metadata": {},
     "output_type": "execute_result"
    }
   ],
   "source": [
    "# Import the word_tokenize and download punkt\n",
    "from nltk.tokenize import word_tokenize\n",
    "nltk.download('punkt')\n"
   ]
  },
  {
   "cell_type": "markdown",
   "id": "c35359cb",
   "metadata": {},
   "source": [
    "### Code"
   ]
  },
  {
   "cell_type": "code",
   "execution_count": 242,
   "id": "a48e21ad",
   "metadata": {},
   "outputs": [],
   "source": [
    "tokenized_tweets = nltk.tokenize.word_tokenize(all_words)"
   ]
  },
  {
   "cell_type": "markdown",
   "id": "ed138db9",
   "metadata": {},
   "source": [
    "#### Define\n",
    "To analyze and visualize the distribution ofthe tokenized words, we create a frequency distribution of the tokens in a list using the FreqDist class from the NLTK library"
   ]
  },
  {
   "cell_type": "code",
   "execution_count": 243,
   "id": "5e0cabc3",
   "metadata": {},
   "outputs": [
    {
     "data": {
      "text/plain": [
       "FreqDist({'world': 120892, 'cup': 101353, 'messi': 60747, 'argentina': 58289, 'final': 47641, 'france': 43933, 'qatar': 43542, 'morocco': 41043, 'team': 34398, 'game': 33528, ...})"
      ]
     },
     "execution_count": 243,
     "metadata": {},
     "output_type": "execute_result"
    }
   ],
   "source": [
    "#Import FreqDist and apply it to tokenized tweets\n",
    "from nltk.probability import FreqDist\n",
    "\n",
    "word_distr = FreqDist(tokenized_tweets)\n",
    "word_distr"
   ]
  },
  {
   "cell_type": "markdown",
   "id": "4181795b",
   "metadata": {},
   "source": [
    "## 5 - Lemmatization"
   ]
  },
  {
   "cell_type": "markdown",
   "id": "49275d70",
   "metadata": {},
   "source": [
    "### Define\n",
    "To take the tweets back to their base forms and improve the accuracy of text analysis, we will perform lemmatization."
   ]
  },
  {
   "cell_type": "markdown",
   "id": "d5bd25d0",
   "metadata": {},
   "source": [
    "### Code"
   ]
  },
  {
   "cell_type": "code",
   "execution_count": 49,
   "id": "077ddd68",
   "metadata": {},
   "outputs": [
    {
     "name": "stderr",
     "output_type": "stream",
     "text": [
      "[nltk_data] Downloading package wordnet to\n",
      "[nltk_data]     C:\\Users\\user\\AppData\\Roaming\\nltk_data...\n",
      "[nltk_data] Downloading package omw-1.4 to\n",
      "[nltk_data]     C:\\Users\\user\\AppData\\Roaming\\nltk_data...\n"
     ]
    },
    {
     "data": {
      "text/plain": [
       "True"
      ]
     },
     "execution_count": 49,
     "metadata": {},
     "output_type": "execute_result"
    }
   ],
   "source": [
    "### Download the lexical database of English words that provides information on word meanings\n",
    "nltk.download('wordnet')\n",
    "nltk.download('omw-1.4')"
   ]
  },
  {
   "cell_type": "code",
   "execution_count": 244,
   "id": "d3db7856",
   "metadata": {},
   "outputs": [],
   "source": [
    "# Import the WordNetLemmatizer class from the nltk.stem module\n",
    "from nltk.stem import WordNetLemmatizer\n",
    "\n",
    "# Create a WordNetLemmatizer object\n",
    "wordnet_lemmatizer = WordNetLemmatizer()\n",
    "\n",
    "df['tweet_string_lemmatized'] = df['tweet_string'].apply(wordnet_lemmatizer.lemmatize)"
   ]
  },
  {
   "cell_type": "code",
   "execution_count": 245,
   "id": "e02d4be2",
   "metadata": {},
   "outputs": [
    {
     "data": {
      "text/html": [
       "<div>\n",
       "<style scoped>\n",
       "    .dataframe tbody tr th:only-of-type {\n",
       "        vertical-align: middle;\n",
       "    }\n",
       "\n",
       "    .dataframe tbody tr th {\n",
       "        vertical-align: top;\n",
       "    }\n",
       "\n",
       "    .dataframe thead th {\n",
       "        text-align: right;\n",
       "    }\n",
       "</style>\n",
       "<table border=\"1\" class=\"dataframe\">\n",
       "  <thead>\n",
       "    <tr style=\"text-align: right;\">\n",
       "      <th></th>\n",
       "      <th>Content</th>\n",
       "      <th>tweet_token</th>\n",
       "      <th>tweet_string</th>\n",
       "      <th>tweet_string_lemmatized</th>\n",
       "    </tr>\n",
       "  </thead>\n",
       "  <tbody>\n",
       "    <tr>\n",
       "      <th>0</th>\n",
       "      <td>I just earned the 'World Pint (2022)' badge on...</td>\n",
       "      <td>[earned, world, pint, 2022, badge]</td>\n",
       "      <td>earned world pint 2022 badge</td>\n",
       "      <td>earned world pint 2022 badge</td>\n",
       "    </tr>\n",
       "    <tr>\n",
       "      <th>1</th>\n",
       "      <td>France 🆚 Morocco\\n\\n📆 Date\\n⏰ Kick-off time\\n📺...</td>\n",
       "      <td>[france, morocco, date, kick, time, watch, tea...</td>\n",
       "      <td>france morocco date kick time watch team newsp...</td>\n",
       "      <td>france morocco date kick time watch team newsp...</td>\n",
       "    </tr>\n",
       "    <tr>\n",
       "      <th>2</th>\n",
       "      <td>Glory to Africa ❤️\\n#FIFAWorldCup2022 https://...</td>\n",
       "      <td>[glory, africa]</td>\n",
       "      <td>glory africa</td>\n",
       "      <td>glory africa</td>\n",
       "    </tr>\n",
       "    <tr>\n",
       "      <th>3</th>\n",
       "      <td>Why do black England players always get so muc...</td>\n",
       "      <td>[black, england, players, always, get, much, h...</td>\n",
       "      <td>black england players always get much hate mat...</td>\n",
       "      <td>black england players always get much hate mat...</td>\n",
       "    </tr>\n",
       "    <tr>\n",
       "      <th>4</th>\n",
       "      <td>No surprise, classless organization. I guess i...</td>\n",
       "      <td>[surprise, classless, organization, guess, won...</td>\n",
       "      <td>surprise classless organization guess wont mat...</td>\n",
       "      <td>surprise classless organization guess wont mat...</td>\n",
       "    </tr>\n",
       "  </tbody>\n",
       "</table>\n",
       "</div>"
      ],
      "text/plain": [
       "                                             Content  \\\n",
       "0  I just earned the 'World Pint (2022)' badge on...   \n",
       "1  France 🆚 Morocco\\n\\n📆 Date\\n⏰ Kick-off time\\n📺...   \n",
       "2  Glory to Africa ❤️\\n#FIFAWorldCup2022 https://...   \n",
       "3  Why do black England players always get so muc...   \n",
       "4  No surprise, classless organization. I guess i...   \n",
       "\n",
       "                                         tweet_token  \\\n",
       "0                 [earned, world, pint, 2022, badge]   \n",
       "1  [france, morocco, date, kick, time, watch, tea...   \n",
       "2                                    [glory, africa]   \n",
       "3  [black, england, players, always, get, much, h...   \n",
       "4  [surprise, classless, organization, guess, won...   \n",
       "\n",
       "                                        tweet_string  \\\n",
       "0                       earned world pint 2022 badge   \n",
       "1  france morocco date kick time watch team newsp...   \n",
       "2                                       glory africa   \n",
       "3  black england players always get much hate mat...   \n",
       "4  surprise classless organization guess wont mat...   \n",
       "\n",
       "                             tweet_string_lemmatized  \n",
       "0                       earned world pint 2022 badge  \n",
       "1  france morocco date kick time watch team newsp...  \n",
       "2                                       glory africa  \n",
       "3  black england players always get much hate mat...  \n",
       "4  surprise classless organization guess wont mat...  "
      ]
     },
     "execution_count": 245,
     "metadata": {},
     "output_type": "execute_result"
    }
   ],
   "source": [
    "df[['Content', 'tweet_token', 'tweet_string', 'tweet_string_lemmatized']].head()"
   ]
  },
  {
   "cell_type": "markdown",
   "id": "a5248027",
   "metadata": {},
   "source": [
    "## 6 - Visualizations"
   ]
  },
  {
   "cell_type": "markdown",
   "id": "6a99f2d8",
   "metadata": {},
   "source": [
    "### Define\n",
    "Use wordcloud to quickly visualize the most important words in the lemmatized column"
   ]
  },
  {
   "cell_type": "code",
   "execution_count": 57,
   "id": "90216879",
   "metadata": {},
   "outputs": [],
   "source": [
    "from wordcloud import WordCloud"
   ]
  },
  {
   "cell_type": "markdown",
   "id": "0c580c64",
   "metadata": {},
   "source": [
    "### Code"
   ]
  },
  {
   "cell_type": "code",
   "execution_count": 246,
   "id": "297dffc7",
   "metadata": {},
   "outputs": [],
   "source": [
    "# Create a single string that represents all the words in the colum 'tweet_string_lemmatized'\n",
    "all_words_lemmatized = ' '.join([word for word in df['tweet_string_lemmatized']])"
   ]
  },
  {
   "cell_type": "code",
   "execution_count": 247,
   "id": "a5b025a2",
   "metadata": {},
   "outputs": [
    {
     "data": {
      "image/png": "[encoded data removed]",
      "text/plain": [
       "<Figure size 1000x600 with 1 Axes>"
      ]
     },
     "metadata": {},
     "output_type": "display_data"
    }
   ],
   "source": [
    "# Create a WordCloud object with specified parameters\n",
    "wordcloud = WordCloud(width=600, height=400, random_state=2, max_font_size=100)\n",
    "\n",
    "# Generate the word cloud image based on the lemmatized words\n",
    "wordcloud_image = wordcloud.generate(all_words_lemmatized)\n",
    "\n",
    "# Create a new figure with specified size\n",
    "plt.figure(figsize=(10, 6))\n",
    "\n",
    "# Display the word cloud image with bilinear interpolation and remove axis\n",
    "plt.imshow(wordcloud_image, interpolation='bilinear')\n",
    "plt.axis('off');"
   ]
  },
  {
   "cell_type": "markdown",
   "id": "8d90fab5",
   "metadata": {},
   "source": [
    "### Define\n",
    "To obtain the frequency of all lematized words"
   ]
  },
  {
   "cell_type": "markdown",
   "id": "7321a89a",
   "metadata": {},
   "source": [
    "### Code"
   ]
  },
  {
   "cell_type": "code",
   "execution_count": 110,
   "id": "5b1e89f0",
   "metadata": {},
   "outputs": [],
   "source": [
    "# Tokenize the lemmatized words\n",
    "tokenized_words = nltk.word_tokenize(all_words_lemmatized)\n",
    "\n",
    "# Compute the frequency distribution of the tokens\n",
    "freq_dist = nltk.FreqDist(tokenized_words)"
   ]
  },
  {
   "cell_type": "markdown",
   "id": "c0d9010a",
   "metadata": {},
   "source": [
    "### Test"
   ]
  },
  {
   "cell_type": "code",
   "execution_count": 113,
   "id": "cc02297f",
   "metadata": {},
   "outputs": [
    {
     "name": "stdout",
     "output_type": "stream",
     "text": [
      "    world       cup     messi argentina     final    france     qatar   morocco      team      game \n",
      "   120892    101353     60747     58290     47804     43933     43542     41044     34415     33536 \n"
     ]
    }
   ],
   "source": [
    "# Top 10 most frequent words\n",
    "freq_dist.tabulate(10)"
   ]
  },
  {
   "cell_type": "code",
   "execution_count": 131,
   "id": "8807dd40",
   "metadata": {},
   "outputs": [
    {
     "data": {
      "text/plain": [
       "27883"
      ]
     },
     "execution_count": 131,
     "metadata": {},
     "output_type": "execute_result"
    }
   ],
   "source": [
    "freq_dist[\"fifa\"]"
   ]
  },
  {
   "cell_type": "markdown",
   "id": "e94ead9a",
   "metadata": {},
   "source": [
    "### Define\n",
    "To plot the top 10 frequency distribution"
   ]
  },
  {
   "cell_type": "markdown",
   "id": "71cbb2f6",
   "metadata": {},
   "source": [
    "### Code"
   ]
  },
  {
   "cell_type": "code",
   "execution_count": 248,
   "id": "819b157d",
   "metadata": {},
   "outputs": [],
   "source": [
    "# Obtain top 10 words\n",
    "top_10 = freq_dist.most_common(10)\n",
    "\n",
    "# Convert the top 10 freq list into a dictionary\n",
    "word_freq_dict = dict(top_10)"
   ]
  },
  {
   "cell_type": "code",
   "execution_count": null,
   "id": "c603ad9c",
   "metadata": {},
   "outputs": [],
   "source": [
    "# Create a Pandas series object from the dictionary\n",
    "word_count = pd.Series(word_freq_dict)"
   ]
  },
  {
   "cell_type": "code",
   "execution_count": 203,
   "id": "deb8e025",
   "metadata": {},
   "outputs": [
    {
     "data": {
      "text/plain": [
       "[('world', 120892),\n",
       " ('cup', 101353),\n",
       " ('messi', 60747),\n",
       " ('argentina', 58290),\n",
       " ('final', 47804),\n",
       " ('france', 43933),\n",
       " ('qatar', 43542),\n",
       " ('morocco', 41044),\n",
       " ('team', 34415),\n",
       " ('game', 33536)]"
      ]
     },
     "execution_count": 203,
     "metadata": {},
     "output_type": "execute_result"
    }
   ],
   "source": [
    "top_10"
   ]
  },
  {
   "cell_type": "code",
   "execution_count": 204,
   "id": "b2f9c2b6",
   "metadata": {},
   "outputs": [],
   "source": [
    "df1 = world_count = pd.Series(word_freq_dict)"
   ]
  },
  {
   "cell_type": "code",
   "execution_count": 205,
   "id": "ff98cd89",
   "metadata": {},
   "outputs": [
    {
     "data": {
      "text/plain": [
       "world        120892\n",
       "cup          101353\n",
       "messi         60747\n",
       "argentina     58290\n",
       "final         47804\n",
       "france        43933\n",
       "qatar         43542\n",
       "morocco       41044\n",
       "team          34415\n",
       "game          33536\n",
       "dtype: int64"
      ]
     },
     "execution_count": 205,
     "metadata": {},
     "output_type": "execute_result"
    }
   ],
   "source": [
    "df1"
   ]
  },
  {
   "cell_type": "markdown",
   "id": "8730e7d6",
   "metadata": {},
   "source": [
    "### Test"
   ]
  },
  {
   "cell_type": "code",
   "execution_count": 207,
   "id": "4863485d",
   "metadata": {},
   "outputs": [
    {
     "data": {
      "image/png": "[encoded data removed]",
      "text/plain": [
       "<Figure size 1000x600 with 1 Axes>"
      ]
     },
     "metadata": {},
     "output_type": "display_data"
    }
   ],
   "source": [
    "# set the figure size\n",
    "plt.figure(figsize=(10, 6))\n",
    "\n",
    "# create the bar chart with customizations\n",
    "word_count.plot(kind='bar', rot=30, xlabel='Word', ylabel='Frequency', color='darkblue')\n",
    "\n",
    "# set the title of the chart\n",
    "plt.title('Top 10 Words and Their Frequencies', fontsize = 18)\n",
    "\n",
    "# increase font size of x-axis label\n",
    "plt.xlabel('Word', fontsize=14)\n",
    "\n",
    "# increase font size of y-axis label\n",
    "plt.ylabel('Frequency', fontsize=14)\n",
    "\n",
    "# add a grid to the chart\n",
    "plt.grid(axis='y', linestyle='--', alpha=0.7)\n",
    "\n",
    "# show the chart\n",
    "plt.show()"
   ]
  },
  {
   "cell_type": "markdown",
   "id": "b848d49c",
   "metadata": {},
   "source": [
    "# 7 - Sentiment Analysis"
   ]
  },
  {
   "cell_type": "markdown",
   "id": "97697dc2",
   "metadata": {},
   "source": [
    "## Define\n",
    "Download the necessary library"
   ]
  },
  {
   "cell_type": "code",
   "execution_count": 190,
   "id": "7a045efa",
   "metadata": {},
   "outputs": [
    {
     "name": "stderr",
     "output_type": "stream",
     "text": [
      "[nltk_data] Downloading package vader_lexicon to\n",
      "[nltk_data]     C:\\Users\\user\\AppData\\Roaming\\nltk_data...\n"
     ]
    },
    {
     "data": {
      "text/plain": [
       "True"
      ]
     },
     "execution_count": 190,
     "metadata": {},
     "output_type": "execute_result"
    }
   ],
   "source": [
    "nltk.download('vader_lexicon')"
   ]
  },
  {
   "cell_type": "code",
   "execution_count": 191,
   "id": "eb500bea",
   "metadata": {},
   "outputs": [],
   "source": [
    "from nltk.sentiment import SentimentIntensityAnalyzer\n",
    "\n",
    "analyzer = SentimentIntensityAnalyzer()"
   ]
  },
  {
   "cell_type": "code",
   "execution_count": 252,
   "id": "d89baca5",
   "metadata": {},
   "outputs": [],
   "source": [
    "# create an empty list to store the sentiment polarity scores\n",
    "polarity_scores = []\n",
    "\n",
    "# loop over each tweet in the 'tweet_string_lemmatized' column of the dataframe\n",
    "for text in df['tweet_string_lemmatized']:\n",
    "    \n",
    "    # apply the 'polarity_scores' function from the 'analyzer' object to the current text string\n",
    "    score = analyzer.polarity_scores(text)\n",
    "    \n",
    "    # append the resulting dictionary of scores to the 'polarity_scores' list\n",
    "    polarity_scores.append(score)\n",
    "\n",
    "# create a new column in the same DataFrame called 'polarity',\n",
    "\n",
    "# and assign the 'polarity_scores' list to it, thereby adding the sentiment polarity scores to the DataFrame as a new column\n",
    "df['polarity_score'] = polarity_scores\n"
   ]
  },
  {
   "cell_type": "code",
   "execution_count": 254,
   "id": "94d2ccf1",
   "metadata": {},
   "outputs": [
    {
     "data": {
      "text/html": [
       "<div>\n",
       "<style scoped>\n",
       "    .dataframe tbody tr th:only-of-type {\n",
       "        vertical-align: middle;\n",
       "    }\n",
       "\n",
       "    .dataframe tbody tr th {\n",
       "        vertical-align: top;\n",
       "    }\n",
       "\n",
       "    .dataframe thead th {\n",
       "        text-align: right;\n",
       "    }\n",
       "</style>\n",
       "<table border=\"1\" class=\"dataframe\">\n",
       "  <thead>\n",
       "    <tr style=\"text-align: right;\">\n",
       "      <th></th>\n",
       "      <th>Content</th>\n",
       "      <th>tweet_token</th>\n",
       "      <th>tweet_string</th>\n",
       "      <th>tweet_string_lemmatized</th>\n",
       "      <th>polarity_scores</th>\n",
       "    </tr>\n",
       "  </thead>\n",
       "  <tbody>\n",
       "    <tr>\n",
       "      <th>0</th>\n",
       "      <td>I just earned the 'World Pint (2022)' badge on...</td>\n",
       "      <td>[earned, world, pint, 2022, badge]</td>\n",
       "      <td>earned world pint 2022 badge</td>\n",
       "      <td>earned world pint 2022 badge</td>\n",
       "      <td>{'neg': 0.0, 'neu': 1.0, 'pos': 0.0, 'compound...</td>\n",
       "    </tr>\n",
       "    <tr>\n",
       "      <th>1</th>\n",
       "      <td>France 🆚 Morocco\\n\\n📆 Date\\n⏰ Kick-off time\\n📺...</td>\n",
       "      <td>[france, morocco, date, kick, time, watch, tea...</td>\n",
       "      <td>france morocco date kick time watch team newsp...</td>\n",
       "      <td>france morocco date kick time watch team newsp...</td>\n",
       "      <td>{'neg': 0.0, 'neu': 1.0, 'pos': 0.0, 'compound...</td>\n",
       "    </tr>\n",
       "    <tr>\n",
       "      <th>2</th>\n",
       "      <td>Glory to Africa ❤️\\n#FIFAWorldCup2022 https://...</td>\n",
       "      <td>[glory, africa]</td>\n",
       "      <td>glory africa</td>\n",
       "      <td>glory africa</td>\n",
       "      <td>{'neg': 0.0, 'neu': 0.222, 'pos': 0.778, 'comp...</td>\n",
       "    </tr>\n",
       "    <tr>\n",
       "      <th>3</th>\n",
       "      <td>Why do black England players always get so muc...</td>\n",
       "      <td>[black, england, players, always, get, much, h...</td>\n",
       "      <td>black england players always get much hate mat...</td>\n",
       "      <td>black england players always get much hate mat...</td>\n",
       "      <td>{'neg': 0.379, 'neu': 0.621, 'pos': 0.0, 'comp...</td>\n",
       "    </tr>\n",
       "    <tr>\n",
       "      <th>4</th>\n",
       "      <td>No surprise, classless organization. I guess i...</td>\n",
       "      <td>[surprise, classless, organization, guess, won...</td>\n",
       "      <td>surprise classless organization guess wont mat...</td>\n",
       "      <td>surprise classless organization guess wont mat...</td>\n",
       "      <td>{'neg': 0.437, 'neu': 0.433, 'pos': 0.13, 'com...</td>\n",
       "    </tr>\n",
       "  </tbody>\n",
       "</table>\n",
       "</div>"
      ],
      "text/plain": [
       "                                             Content  \\\n",
       "0  I just earned the 'World Pint (2022)' badge on...   \n",
       "1  France 🆚 Morocco\\n\\n📆 Date\\n⏰ Kick-off time\\n📺...   \n",
       "2  Glory to Africa ❤️\\n#FIFAWorldCup2022 https://...   \n",
       "3  Why do black England players always get so muc...   \n",
       "4  No surprise, classless organization. I guess i...   \n",
       "\n",
       "                                         tweet_token  \\\n",
       "0                 [earned, world, pint, 2022, badge]   \n",
       "1  [france, morocco, date, kick, time, watch, tea...   \n",
       "2                                    [glory, africa]   \n",
       "3  [black, england, players, always, get, much, h...   \n",
       "4  [surprise, classless, organization, guess, won...   \n",
       "\n",
       "                                        tweet_string  \\\n",
       "0                       earned world pint 2022 badge   \n",
       "1  france morocco date kick time watch team newsp...   \n",
       "2                                       glory africa   \n",
       "3  black england players always get much hate mat...   \n",
       "4  surprise classless organization guess wont mat...   \n",
       "\n",
       "                             tweet_string_lemmatized  \\\n",
       "0                       earned world pint 2022 badge   \n",
       "1  france morocco date kick time watch team newsp...   \n",
       "2                                       glory africa   \n",
       "3  black england players always get much hate mat...   \n",
       "4  surprise classless organization guess wont mat...   \n",
       "\n",
       "                                     polarity_scores  \n",
       "0  {'neg': 0.0, 'neu': 1.0, 'pos': 0.0, 'compound...  \n",
       "1  {'neg': 0.0, 'neu': 1.0, 'pos': 0.0, 'compound...  \n",
       "2  {'neg': 0.0, 'neu': 0.222, 'pos': 0.778, 'comp...  \n",
       "3  {'neg': 0.379, 'neu': 0.621, 'pos': 0.0, 'comp...  \n",
       "4  {'neg': 0.437, 'neu': 0.433, 'pos': 0.13, 'com...  "
      ]
     },
     "execution_count": 254,
     "metadata": {},
     "output_type": "execute_result"
    }
   ],
   "source": [
    "df[['Content', 'tweet_token', 'tweet_string', 'tweet_string_lemmatized', 'polarity']].head()"
   ]
  },
  {
   "cell_type": "code",
   "execution_count": null,
   "id": "a59d5d4d",
   "metadata": {},
   "outputs": [],
   "source": [
    "# Drop the columns 'Unnamed: 0', 'id', 'author_id', and 'polarity' from the original dataframe and keep the rest\n",
    "# df1 = df.drop(['Unnamed: 0', 'id', 'author_id', 'polarity'], axis=1)\n",
    "\n",
    "# Apply the pd.Series function to the 'polarity' column of the original dataframe and expand it into separate columns\n",
    "df2 = df['polarity'].apply(pd.Series)\n",
    "\n",
    "# Concatenate df1 and df2 along the columns axis to create a new dataframe\n",
    "df = pd.concat([df1, df2], axis=1)\n"
   ]
  },
  {
   "cell_type": "code",
   "execution_count": 273,
   "id": "7b3deb7b",
   "metadata": {},
   "outputs": [],
   "source": [
    "# Drop duplicate columns that was created from concatenating\n",
    "df = df.loc[:, ~df.columns.duplicated(keep='last')]"
   ]
  },
  {
   "cell_type": "code",
   "execution_count": 278,
   "id": "9e5a2fa3",
   "metadata": {},
   "outputs": [],
   "source": [
    "# Drop the polarity columns\n",
    "df = df.drop(columns=['polarity'])"
   ]
  },
  {
   "cell_type": "code",
   "execution_count": 279,
   "id": "46a2daee",
   "metadata": {},
   "outputs": [
    {
     "data": {
      "text/html": [
       "<div>\n",
       "<style scoped>\n",
       "    .dataframe tbody tr th:only-of-type {\n",
       "        vertical-align: middle;\n",
       "    }\n",
       "\n",
       "    .dataframe tbody tr th {\n",
       "        vertical-align: top;\n",
       "    }\n",
       "\n",
       "    .dataframe thead th {\n",
       "        text-align: right;\n",
       "    }\n",
       "</style>\n",
       "<table border=\"1\" class=\"dataframe\">\n",
       "  <thead>\n",
       "    <tr style=\"text-align: right;\">\n",
       "      <th></th>\n",
       "      <th>Date</th>\n",
       "      <th>Username</th>\n",
       "      <th>Locations</th>\n",
       "      <th>Content</th>\n",
       "      <th>Retweets</th>\n",
       "      <th>Favorites</th>\n",
       "      <th>clean_tweet</th>\n",
       "      <th>hashtag</th>\n",
       "      <th>tweet_token</th>\n",
       "      <th>tweet_string</th>\n",
       "      <th>tweet_string_lemmatized</th>\n",
       "      <th>neg</th>\n",
       "      <th>neu</th>\n",
       "      <th>pos</th>\n",
       "      <th>compound</th>\n",
       "    </tr>\n",
       "  </thead>\n",
       "  <tbody>\n",
       "    <tr>\n",
       "      <th>0</th>\n",
       "      <td>2022-12-10 23:59:57+00:00</td>\n",
       "      <td>OSUBlockie</td>\n",
       "      <td>Columbus, OH</td>\n",
       "      <td>I just earned the 'World Pint (2022)' badge on...</td>\n",
       "      <td>0</td>\n",
       "      <td>0</td>\n",
       "      <td>i just earned the 'world pint (2022)' badge on !</td>\n",
       "      <td>[football, fifaworldcup, worldcup]</td>\n",
       "      <td>[earned, world, pint, 2022, badge]</td>\n",
       "      <td>earned world pint 2022 badge</td>\n",
       "      <td>earned world pint 2022 badge</td>\n",
       "      <td>0.000</td>\n",
       "      <td>1.000</td>\n",
       "      <td>0.000</td>\n",
       "      <td>0.0000</td>\n",
       "    </tr>\n",
       "    <tr>\n",
       "      <th>1</th>\n",
       "      <td>2022-12-10 23:59:54+00:00</td>\n",
       "      <td>standardsport</td>\n",
       "      <td>London, England</td>\n",
       "      <td>France 🆚 Morocco\\n\\n📆 Date\\n⏰ Kick-off time\\n📺...</td>\n",
       "      <td>0</td>\n",
       "      <td>5</td>\n",
       "      <td>france morocco date kick-off time how to watch...</td>\n",
       "      <td>[FIFAWorldCup, FRA, MAR]</td>\n",
       "      <td>[france, morocco, date, kick, time, watch, tea...</td>\n",
       "      <td>france morocco date kick time watch team newsp...</td>\n",
       "      <td>france morocco date kick time watch team newsp...</td>\n",
       "      <td>0.000</td>\n",
       "      <td>1.000</td>\n",
       "      <td>0.000</td>\n",
       "      <td>0.0000</td>\n",
       "    </tr>\n",
       "    <tr>\n",
       "      <th>2</th>\n",
       "      <td>2022-12-10 23:59:52+00:00</td>\n",
       "      <td>MpatrioticM</td>\n",
       "      <td>ⵜⴰⴳⵍⴷⵉⵜ ⵏ ⵍⵎⵖⵔⵉⴱ 🇲🇦</td>\n",
       "      <td>Glory to Africa ❤️\\n#FIFAWorldCup2022 https://...</td>\n",
       "      <td>10</td>\n",
       "      <td>70</td>\n",
       "      <td>glory to africa</td>\n",
       "      <td>[FIFAWorldCup2022]</td>\n",
       "      <td>[glory, africa]</td>\n",
       "      <td>glory africa</td>\n",
       "      <td>glory africa</td>\n",
       "      <td>0.000</td>\n",
       "      <td>0.222</td>\n",
       "      <td>0.778</td>\n",
       "      <td>0.5423</td>\n",
       "    </tr>\n",
       "    <tr>\n",
       "      <th>3</th>\n",
       "      <td>2022-12-10 23:59:52+00:00</td>\n",
       "      <td>masuma114</td>\n",
       "      <td>London, England</td>\n",
       "      <td>Why do black England players always get so muc...</td>\n",
       "      <td>0</td>\n",
       "      <td>4</td>\n",
       "      <td>why do black england players always get so muc...</td>\n",
       "      <td>[WorldCup2022, England]</td>\n",
       "      <td>[black, england, players, always, get, much, h...</td>\n",
       "      <td>black england players always get much hate mat...</td>\n",
       "      <td>black england players always get much hate mat...</td>\n",
       "      <td>0.379</td>\n",
       "      <td>0.621</td>\n",
       "      <td>0.000</td>\n",
       "      <td>-0.9042</td>\n",
       "    </tr>\n",
       "    <tr>\n",
       "      <th>4</th>\n",
       "      <td>2022-12-10 23:59:46+00:00</td>\n",
       "      <td>Mexitly81</td>\n",
       "      <td>California, USA</td>\n",
       "      <td>No surprise, classless organization. I guess i...</td>\n",
       "      <td>0</td>\n",
       "      <td>0</td>\n",
       "      <td>no surprise, classless organization. i guess i...</td>\n",
       "      <td>[WorldCup2022]</td>\n",
       "      <td>[surprise, classless, organization, guess, won...</td>\n",
       "      <td>surprise classless organization guess wont mat...</td>\n",
       "      <td>surprise classless organization guess wont mat...</td>\n",
       "      <td>0.437</td>\n",
       "      <td>0.433</td>\n",
       "      <td>0.130</td>\n",
       "      <td>-0.6085</td>\n",
       "    </tr>\n",
       "  </tbody>\n",
       "</table>\n",
       "</div>"
      ],
      "text/plain": [
       "                       Date       Username            Locations  \\\n",
       "0 2022-12-10 23:59:57+00:00     OSUBlockie         Columbus, OH   \n",
       "1 2022-12-10 23:59:54+00:00  standardsport      London, England   \n",
       "2 2022-12-10 23:59:52+00:00    MpatrioticM  ⵜⴰⴳⵍⴷⵉⵜ ⵏ ⵍⵎⵖⵔⵉⴱ 🇲🇦   \n",
       "3 2022-12-10 23:59:52+00:00      masuma114      London, England   \n",
       "4 2022-12-10 23:59:46+00:00      Mexitly81      California, USA   \n",
       "\n",
       "                                             Content  Retweets  Favorites  \\\n",
       "0  I just earned the 'World Pint (2022)' badge on...         0          0   \n",
       "1  France 🆚 Morocco\\n\\n📆 Date\\n⏰ Kick-off time\\n📺...         0          5   \n",
       "2  Glory to Africa ❤️\\n#FIFAWorldCup2022 https://...        10         70   \n",
       "3  Why do black England players always get so muc...         0          4   \n",
       "4  No surprise, classless organization. I guess i...         0          0   \n",
       "\n",
       "                                         clean_tweet  \\\n",
       "0   i just earned the 'world pint (2022)' badge on !   \n",
       "1  france morocco date kick-off time how to watch...   \n",
       "2                                    glory to africa   \n",
       "3  why do black england players always get so muc...   \n",
       "4  no surprise, classless organization. i guess i...   \n",
       "\n",
       "                              hashtag  \\\n",
       "0  [football, fifaworldcup, worldcup]   \n",
       "1            [FIFAWorldCup, FRA, MAR]   \n",
       "2                  [FIFAWorldCup2022]   \n",
       "3             [WorldCup2022, England]   \n",
       "4                      [WorldCup2022]   \n",
       "\n",
       "                                         tweet_token  \\\n",
       "0                 [earned, world, pint, 2022, badge]   \n",
       "1  [france, morocco, date, kick, time, watch, tea...   \n",
       "2                                    [glory, africa]   \n",
       "3  [black, england, players, always, get, much, h...   \n",
       "4  [surprise, classless, organization, guess, won...   \n",
       "\n",
       "                                        tweet_string  \\\n",
       "0                       earned world pint 2022 badge   \n",
       "1  france morocco date kick time watch team newsp...   \n",
       "2                                       glory africa   \n",
       "3  black england players always get much hate mat...   \n",
       "4  surprise classless organization guess wont mat...   \n",
       "\n",
       "                             tweet_string_lemmatized    neg    neu    pos  \\\n",
       "0                       earned world pint 2022 badge  0.000  1.000  0.000   \n",
       "1  france morocco date kick time watch team newsp...  0.000  1.000  0.000   \n",
       "2                                       glory africa  0.000  0.222  0.778   \n",
       "3  black england players always get much hate mat...  0.379  0.621  0.000   \n",
       "4  surprise classless organization guess wont mat...  0.437  0.433  0.130   \n",
       "\n",
       "   compound  \n",
       "0    0.0000  \n",
       "1    0.0000  \n",
       "2    0.5423  \n",
       "3   -0.9042  \n",
       "4   -0.6085  "
      ]
     },
     "execution_count": 279,
     "metadata": {},
     "output_type": "execute_result"
    }
   ],
   "source": [
    "df.head()"
   ]
  },
  {
   "cell_type": "code",
   "execution_count": 280,
   "id": "b95dce73",
   "metadata": {},
   "outputs": [],
   "source": [
    "# Define a lambda function that maps compound scores to sentiment labels\n",
    "def map_sentiment(x):\n",
    "    if x > 0:\n",
    "        return 'Positive'\n",
    "    elif x == 0:\n",
    "        return 'Neutral'\n",
    "    else:\n",
    "        return 'Negative'\n",
    "\n",
    "# Apply the lambda function to the 'compound' column and store the results in 'sentiment' column\n",
    "df['Sentiment'] = df['compound'].apply(map_sentiment)\n"
   ]
  },
  {
   "cell_type": "code",
   "execution_count": 281,
   "id": "ecd1a7ec",
   "metadata": {},
   "outputs": [
    {
     "data": {
      "text/html": [
       "<div>\n",
       "<style scoped>\n",
       "    .dataframe tbody tr th:only-of-type {\n",
       "        vertical-align: middle;\n",
       "    }\n",
       "\n",
       "    .dataframe tbody tr th {\n",
       "        vertical-align: top;\n",
       "    }\n",
       "\n",
       "    .dataframe thead th {\n",
       "        text-align: right;\n",
       "    }\n",
       "</style>\n",
       "<table border=\"1\" class=\"dataframe\">\n",
       "  <thead>\n",
       "    <tr style=\"text-align: right;\">\n",
       "      <th></th>\n",
       "      <th>Date</th>\n",
       "      <th>Username</th>\n",
       "      <th>Locations</th>\n",
       "      <th>Content</th>\n",
       "      <th>Retweets</th>\n",
       "      <th>Favorites</th>\n",
       "      <th>clean_tweet</th>\n",
       "      <th>hashtag</th>\n",
       "      <th>tweet_token</th>\n",
       "      <th>tweet_string</th>\n",
       "      <th>tweet_string_lemmatized</th>\n",
       "      <th>neg</th>\n",
       "      <th>neu</th>\n",
       "      <th>pos</th>\n",
       "      <th>compound</th>\n",
       "      <th>Sentiment</th>\n",
       "    </tr>\n",
       "  </thead>\n",
       "  <tbody>\n",
       "    <tr>\n",
       "      <th>0</th>\n",
       "      <td>2022-12-10 23:59:57+00:00</td>\n",
       "      <td>OSUBlockie</td>\n",
       "      <td>Columbus, OH</td>\n",
       "      <td>I just earned the 'World Pint (2022)' badge on...</td>\n",
       "      <td>0</td>\n",
       "      <td>0</td>\n",
       "      <td>i just earned the 'world pint (2022)' badge on !</td>\n",
       "      <td>[football, fifaworldcup, worldcup]</td>\n",
       "      <td>[earned, world, pint, 2022, badge]</td>\n",
       "      <td>earned world pint 2022 badge</td>\n",
       "      <td>earned world pint 2022 badge</td>\n",
       "      <td>0.000</td>\n",
       "      <td>1.000</td>\n",
       "      <td>0.000</td>\n",
       "      <td>0.0000</td>\n",
       "      <td>Neutral</td>\n",
       "    </tr>\n",
       "    <tr>\n",
       "      <th>1</th>\n",
       "      <td>2022-12-10 23:59:54+00:00</td>\n",
       "      <td>standardsport</td>\n",
       "      <td>London, England</td>\n",
       "      <td>France 🆚 Morocco\\n\\n📆 Date\\n⏰ Kick-off time\\n📺...</td>\n",
       "      <td>0</td>\n",
       "      <td>5</td>\n",
       "      <td>france morocco date kick-off time how to watch...</td>\n",
       "      <td>[FIFAWorldCup, FRA, MAR]</td>\n",
       "      <td>[france, morocco, date, kick, time, watch, tea...</td>\n",
       "      <td>france morocco date kick time watch team newsp...</td>\n",
       "      <td>france morocco date kick time watch team newsp...</td>\n",
       "      <td>0.000</td>\n",
       "      <td>1.000</td>\n",
       "      <td>0.000</td>\n",
       "      <td>0.0000</td>\n",
       "      <td>Neutral</td>\n",
       "    </tr>\n",
       "    <tr>\n",
       "      <th>2</th>\n",
       "      <td>2022-12-10 23:59:52+00:00</td>\n",
       "      <td>MpatrioticM</td>\n",
       "      <td>ⵜⴰⴳⵍⴷⵉⵜ ⵏ ⵍⵎⵖⵔⵉⴱ 🇲🇦</td>\n",
       "      <td>Glory to Africa ❤️\\n#FIFAWorldCup2022 https://...</td>\n",
       "      <td>10</td>\n",
       "      <td>70</td>\n",
       "      <td>glory to africa</td>\n",
       "      <td>[FIFAWorldCup2022]</td>\n",
       "      <td>[glory, africa]</td>\n",
       "      <td>glory africa</td>\n",
       "      <td>glory africa</td>\n",
       "      <td>0.000</td>\n",
       "      <td>0.222</td>\n",
       "      <td>0.778</td>\n",
       "      <td>0.5423</td>\n",
       "      <td>Positive</td>\n",
       "    </tr>\n",
       "    <tr>\n",
       "      <th>3</th>\n",
       "      <td>2022-12-10 23:59:52+00:00</td>\n",
       "      <td>masuma114</td>\n",
       "      <td>London, England</td>\n",
       "      <td>Why do black England players always get so muc...</td>\n",
       "      <td>0</td>\n",
       "      <td>4</td>\n",
       "      <td>why do black england players always get so muc...</td>\n",
       "      <td>[WorldCup2022, England]</td>\n",
       "      <td>[black, england, players, always, get, much, h...</td>\n",
       "      <td>black england players always get much hate mat...</td>\n",
       "      <td>black england players always get much hate mat...</td>\n",
       "      <td>0.379</td>\n",
       "      <td>0.621</td>\n",
       "      <td>0.000</td>\n",
       "      <td>-0.9042</td>\n",
       "      <td>Negative</td>\n",
       "    </tr>\n",
       "    <tr>\n",
       "      <th>4</th>\n",
       "      <td>2022-12-10 23:59:46+00:00</td>\n",
       "      <td>Mexitly81</td>\n",
       "      <td>California, USA</td>\n",
       "      <td>No surprise, classless organization. I guess i...</td>\n",
       "      <td>0</td>\n",
       "      <td>0</td>\n",
       "      <td>no surprise, classless organization. i guess i...</td>\n",
       "      <td>[WorldCup2022]</td>\n",
       "      <td>[surprise, classless, organization, guess, won...</td>\n",
       "      <td>surprise classless organization guess wont mat...</td>\n",
       "      <td>surprise classless organization guess wont mat...</td>\n",
       "      <td>0.437</td>\n",
       "      <td>0.433</td>\n",
       "      <td>0.130</td>\n",
       "      <td>-0.6085</td>\n",
       "      <td>Negative</td>\n",
       "    </tr>\n",
       "  </tbody>\n",
       "</table>\n",
       "</div>"
      ],
      "text/plain": [
       "                       Date       Username            Locations  \\\n",
       "0 2022-12-10 23:59:57+00:00     OSUBlockie         Columbus, OH   \n",
       "1 2022-12-10 23:59:54+00:00  standardsport      London, England   \n",
       "2 2022-12-10 23:59:52+00:00    MpatrioticM  ⵜⴰⴳⵍⴷⵉⵜ ⵏ ⵍⵎⵖⵔⵉⴱ 🇲🇦   \n",
       "3 2022-12-10 23:59:52+00:00      masuma114      London, England   \n",
       "4 2022-12-10 23:59:46+00:00      Mexitly81      California, USA   \n",
       "\n",
       "                                             Content  Retweets  Favorites  \\\n",
       "0  I just earned the 'World Pint (2022)' badge on...         0          0   \n",
       "1  France 🆚 Morocco\\n\\n📆 Date\\n⏰ Kick-off time\\n📺...         0          5   \n",
       "2  Glory to Africa ❤️\\n#FIFAWorldCup2022 https://...        10         70   \n",
       "3  Why do black England players always get so muc...         0          4   \n",
       "4  No surprise, classless organization. I guess i...         0          0   \n",
       "\n",
       "                                         clean_tweet  \\\n",
       "0   i just earned the 'world pint (2022)' badge on !   \n",
       "1  france morocco date kick-off time how to watch...   \n",
       "2                                    glory to africa   \n",
       "3  why do black england players always get so muc...   \n",
       "4  no surprise, classless organization. i guess i...   \n",
       "\n",
       "                              hashtag  \\\n",
       "0  [football, fifaworldcup, worldcup]   \n",
       "1            [FIFAWorldCup, FRA, MAR]   \n",
       "2                  [FIFAWorldCup2022]   \n",
       "3             [WorldCup2022, England]   \n",
       "4                      [WorldCup2022]   \n",
       "\n",
       "                                         tweet_token  \\\n",
       "0                 [earned, world, pint, 2022, badge]   \n",
       "1  [france, morocco, date, kick, time, watch, tea...   \n",
       "2                                    [glory, africa]   \n",
       "3  [black, england, players, always, get, much, h...   \n",
       "4  [surprise, classless, organization, guess, won...   \n",
       "\n",
       "                                        tweet_string  \\\n",
       "0                       earned world pint 2022 badge   \n",
       "1  france morocco date kick time watch team newsp...   \n",
       "2                                       glory africa   \n",
       "3  black england players always get much hate mat...   \n",
       "4  surprise classless organization guess wont mat...   \n",
       "\n",
       "                             tweet_string_lemmatized    neg    neu    pos  \\\n",
       "0                       earned world pint 2022 badge  0.000  1.000  0.000   \n",
       "1  france morocco date kick time watch team newsp...  0.000  1.000  0.000   \n",
       "2                                       glory africa  0.000  0.222  0.778   \n",
       "3  black england players always get much hate mat...  0.379  0.621  0.000   \n",
       "4  surprise classless organization guess wont mat...  0.437  0.433  0.130   \n",
       "\n",
       "   compound Sentiment  \n",
       "0    0.0000   Neutral  \n",
       "1    0.0000   Neutral  \n",
       "2    0.5423  Positive  \n",
       "3   -0.9042  Negative  \n",
       "4   -0.6085  Negative  "
      ]
     },
     "execution_count": 281,
     "metadata": {},
     "output_type": "execute_result"
    }
   ],
   "source": [
    "df.head()"
   ]
  },
  {
   "cell_type": "code",
   "execution_count": 282,
   "id": "b57c577b",
   "metadata": {},
   "outputs": [
    {
     "data": {
      "text/html": [
       "<div>\n",
       "<style scoped>\n",
       "    .dataframe tbody tr th:only-of-type {\n",
       "        vertical-align: middle;\n",
       "    }\n",
       "\n",
       "    .dataframe tbody tr th {\n",
       "        vertical-align: top;\n",
       "    }\n",
       "\n",
       "    .dataframe thead th {\n",
       "        text-align: right;\n",
       "    }\n",
       "</style>\n",
       "<table border=\"1\" class=\"dataframe\">\n",
       "  <thead>\n",
       "    <tr style=\"text-align: right;\">\n",
       "      <th></th>\n",
       "      <th>Content</th>\n",
       "      <th>tweet_string_lemmatized</th>\n",
       "      <th>neg</th>\n",
       "      <th>neu</th>\n",
       "      <th>pos</th>\n",
       "      <th>compound</th>\n",
       "      <th>Sentiment</th>\n",
       "    </tr>\n",
       "  </thead>\n",
       "  <tbody>\n",
       "    <tr>\n",
       "      <th>0</th>\n",
       "      <td>I just earned the 'World Pint (2022)' badge on...</td>\n",
       "      <td>earned world pint 2022 badge</td>\n",
       "      <td>0.000</td>\n",
       "      <td>1.000</td>\n",
       "      <td>0.000</td>\n",
       "      <td>0.0000</td>\n",
       "      <td>Neutral</td>\n",
       "    </tr>\n",
       "    <tr>\n",
       "      <th>1</th>\n",
       "      <td>France 🆚 Morocco\\n\\n📆 Date\\n⏰ Kick-off time\\n📺...</td>\n",
       "      <td>france morocco date kick time watch team newsp...</td>\n",
       "      <td>0.000</td>\n",
       "      <td>1.000</td>\n",
       "      <td>0.000</td>\n",
       "      <td>0.0000</td>\n",
       "      <td>Neutral</td>\n",
       "    </tr>\n",
       "    <tr>\n",
       "      <th>2</th>\n",
       "      <td>Glory to Africa ❤️\\n#FIFAWorldCup2022 https://...</td>\n",
       "      <td>glory africa</td>\n",
       "      <td>0.000</td>\n",
       "      <td>0.222</td>\n",
       "      <td>0.778</td>\n",
       "      <td>0.5423</td>\n",
       "      <td>Positive</td>\n",
       "    </tr>\n",
       "    <tr>\n",
       "      <th>3</th>\n",
       "      <td>Why do black England players always get so muc...</td>\n",
       "      <td>black england players always get much hate mat...</td>\n",
       "      <td>0.379</td>\n",
       "      <td>0.621</td>\n",
       "      <td>0.000</td>\n",
       "      <td>-0.9042</td>\n",
       "      <td>Negative</td>\n",
       "    </tr>\n",
       "    <tr>\n",
       "      <th>4</th>\n",
       "      <td>No surprise, classless organization. I guess i...</td>\n",
       "      <td>surprise classless organization guess wont mat...</td>\n",
       "      <td>0.437</td>\n",
       "      <td>0.433</td>\n",
       "      <td>0.130</td>\n",
       "      <td>-0.6085</td>\n",
       "      <td>Negative</td>\n",
       "    </tr>\n",
       "  </tbody>\n",
       "</table>\n",
       "</div>"
      ],
      "text/plain": [
       "                                             Content  \\\n",
       "0  I just earned the 'World Pint (2022)' badge on...   \n",
       "1  France 🆚 Morocco\\n\\n📆 Date\\n⏰ Kick-off time\\n📺...   \n",
       "2  Glory to Africa ❤️\\n#FIFAWorldCup2022 https://...   \n",
       "3  Why do black England players always get so muc...   \n",
       "4  No surprise, classless organization. I guess i...   \n",
       "\n",
       "                             tweet_string_lemmatized    neg    neu    pos  \\\n",
       "0                       earned world pint 2022 badge  0.000  1.000  0.000   \n",
       "1  france morocco date kick time watch team newsp...  0.000  1.000  0.000   \n",
       "2                                       glory africa  0.000  0.222  0.778   \n",
       "3  black england players always get much hate mat...  0.379  0.621  0.000   \n",
       "4  surprise classless organization guess wont mat...  0.437  0.433  0.130   \n",
       "\n",
       "   compound Sentiment  \n",
       "0    0.0000   Neutral  \n",
       "1    0.0000   Neutral  \n",
       "2    0.5423  Positive  \n",
       "3   -0.9042  Negative  \n",
       "4   -0.6085  Negative  "
      ]
     },
     "execution_count": 282,
     "metadata": {},
     "output_type": "execute_result"
    }
   ],
   "source": [
    "df[['Content', 'tweet_string_lemmatized', 'neg', 'neu', 'pos', 'compound', 'Sentiment']].head()"
   ]
  },
  {
   "cell_type": "code",
   "execution_count": null,
   "id": "0a5f0069",
   "metadata": {},
   "outputs": [],
   "source": []
  }
 ],
 "metadata": {
  "kernelspec": {
   "display_name": "Python 3 (ipykernel)",
   "language": "python",
   "name": "python3"
  },
  "language_info": {
   "codemirror_mode": {
    "name": "ipython",
    "version": 3
   },
   "file_extension": ".py",
   "mimetype": "text/x-python",
   "name": "python",
   "nbconvert_exporter": "python",
   "pygments_lexer": "ipython3",
   "version": "3.9.13"
  }
 },
 "nbformat": 4,
 "nbformat_minor": 5
}
